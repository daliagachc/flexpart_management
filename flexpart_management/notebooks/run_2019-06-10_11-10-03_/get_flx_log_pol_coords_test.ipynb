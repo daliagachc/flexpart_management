{
 "cells": [
  {
   "cell_type": "code",
   "execution_count": 53,
   "metadata": {},
   "outputs": [
    {
     "name": "stdout",
     "output_type": "stream",
     "text": [
      "The autoreload extension is already loaded. To reload it, use:\n",
      "  %reload_ext autoreload\n"
     ]
    }
   ],
   "source": [
    "# this notebook was created to convert rectanfular coo\n",
    "\n",
    "%load_ext autoreload\n",
    "%autoreload 2"
   ]
  },
  {
   "cell_type": "code",
   "execution_count": 54,
   "metadata": {},
   "outputs": [],
   "source": [
    "import flexpart_management.modules.FLEXOUT as FO\n",
    "import flexpart_management.modules.flx_array as fa\n",
    "import flexpart_management.modules.constants as co\n",
    "from useful_scit.imps import *"
   ]
  },
  {
   "cell_type": "code",
   "execution_count": 55,
   "metadata": {},
   "outputs": [],
   "source": [
    "# doms = ['d01','d02']\n",
    "# root_path = '/Volumes/mbProD/Downloads/flex_out/run_2019-06-02_20-42-05_/*-*-*'\n",
    "# root_path = '/homeappl/home/aliagadi/wrk/DONOTREMOVE/flexpart_management_data/runs/run_2019-06-05_18-42-11_/*-*-*'\n",
    "# path_out = '/homeappl/home/aliagadi/wrk/DONOTREMOVE/flexpart_management_data/runs/run_2019-06-05_18-42-11_/log_pol'\n",
    "\n",
    "# run_name = 'run_2019-06-05_18-42-11_'\n",
    "# paths = glob.glob(root_path)\n",
    "# paths.sort()"
   ]
  },
  {
   "cell_type": "code",
   "execution_count": 56,
   "metadata": {},
   "outputs": [],
   "source": [
    "# fo_base_dic  = dict(\n",
    "# # dom = 'd01',\n",
    "# # folder_path = '/Volumes/mbProD/Downloads/flex_out/run_2019-06-02_20-42-05_/2017-12-10',\n",
    "# folder_path_out = path_out,\n",
    "# run_name= run_name,\n",
    "# )"
   ]
  },
  {
   "cell_type": "code",
   "execution_count": 57,
   "metadata": {
    "lines_to_next_cell": 2
   },
   "outputs": [],
   "source": [
    "# for p in paths:\n",
    "#     for d in doms:\n",
    "#         print('starting',d,p)\n",
    "#         new_dic = dict(dom=d,folder_path=p)\n",
    "#         fo_dic = {**fo_base_dic,**new_dic}\n",
    "        \n",
    "#         try:\n",
    "#             fo = FO.FLEXOUT(**fo_dic)\n",
    "#             fo.export_log_polar_coords()\n",
    "#             print('done',d,p)\n",
    "#         except:\n",
    "#             print('failed when',d,p)"
   ]
  },
  {
   "cell_type": "code",
   "execution_count": 58,
   "metadata": {
    "lines_to_next_cell": 2
   },
   "outputs": [],
   "source": [
    "fo_dic = dict(\n",
    "folder_path = '/Volumes/mbProD/Downloads/flex_out/run_2019-06-02_20-42-05_/2017-12-10',\n",
    "dom = 'd02',\n",
    "folder_path_out = '/Volumes/mbProD/Downloads/flex_out/log_pol',\n",
    "run_name = 'run_2019-06-02_20-42-05_',\n",
    ")"
   ]
  },
  {
   "cell_type": "code",
   "execution_count": 59,
   "metadata": {},
   "outputs": [
    {
     "name": "stdout",
     "output_type": "stream",
     "text": [
      "/Volumes/mbProD/Downloads/flex_out/run_2019-06-02_20-42-05_/2017-12-10/*header_*d02*\n",
      "/Volumes/mbProD/Downloads/flex_out/run_2019-06-02_20-42-05_/2017-12-10/header_d02.nc\n",
      "/Volumes/mbProD/Downloads/flex_out/run_2019-06-02_20-42-05_/2017-12-10/*flxout_*d02*\n",
      "['/Volumes/mbProD/Downloads/flex_out/run_2019-06-02_20-42-05_/2017-12-10/flxout_d02_20171206_000000.nc']\n"
     ]
    }
   ],
   "source": [
    "self = FO.FLEXOUT(**fo_dic)"
   ]
  },
  {
   "cell_type": "code",
   "execution_count": 61,
   "metadata": {},
   "outputs": [
    {
     "name": "stdout",
     "output_type": "stream",
     "text": [
      "done saving 2017-12-10 00:00:00\n",
      "done saving 2017-12-10 01:00:00\n",
      "done saving 2017-12-10 02:00:00\n",
      "done saving 2017-12-10 03:00:00\n",
      "done saving 2017-12-10 04:00:00\n",
      "done saving 2017-12-10 05:00:00\n",
      "done saving 2017-12-10 06:00:00\n",
      "done saving 2017-12-10 07:00:00\n",
      "done saving 2017-12-10 08:00:00\n",
      "done saving 2017-12-10 09:00:00\n",
      "done saving 2017-12-10 10:00:00\n",
      "done saving 2017-12-10 11:00:00\n",
      "done saving 2017-12-10 12:00:00\n",
      "done saving 2017-12-10 13:00:00\n",
      "done saving 2017-12-10 14:00:00\n",
      "done saving 2017-12-10 15:00:00\n",
      "done saving 2017-12-10 16:00:00\n",
      "done saving 2017-12-10 17:00:00\n",
      "done saving 2017-12-10 18:00:00\n",
      "done saving 2017-12-10 19:00:00\n",
      "done saving 2017-12-10 20:00:00\n",
      "done saving 2017-12-10 21:00:00\n",
      "done saving 2017-12-10 22:00:00\n",
      "done saving 2017-12-10 23:00:00\n",
      "save path /Volumes/mbProD/Downloads/flex_out/log_pol/run_2019-06-02_20-42-05_/d02_2017-12-10_00-00-00.nc\n",
      "length arr 24\n"
     ]
    }
   ],
   "source": [
    "self.export_log_polar_coords(keep_z=True)"
   ]
  },
  {
   "cell_type": "code",
   "execution_count": 17,
   "metadata": {},
   "outputs": [],
   "source": []
  },
  {
   "cell_type": "code",
   "execution_count": 49,
   "metadata": {},
   "outputs": [],
   "source": []
  },
  {
   "cell_type": "code",
   "execution_count": 50,
   "metadata": {},
   "outputs": [],
   "source": []
  },
  {
   "cell_type": "code",
   "execution_count": 51,
   "metadata": {},
   "outputs": [
    {
     "data": {
      "text/plain": [
       "<xarray.Dataset>\n",
       "Dimensions:    (R_CENTER: 29, TH_CENTER: 36, ZTOP: 22, releases: 1)\n",
       "Coordinates:\n",
       "  * R_CENTER   (R_CENTER) float64 0.006474 0.00775 0.009279 ... 1.0 1.197 1.433\n",
       "  * TH_CENTER  (TH_CENTER) float64 0.08727 0.2618 0.4363 ... 5.847 6.021 6.196\n",
       "  * releases   (releases) datetime64[ns] 2017-12-10T05:00:00\n",
       "  * ZTOP       (ZTOP) float64 50.0 100.0 200.0 300.0 ... 9e+03 1e+04 2e+04 3e+04\n",
       "    LAT        (R_CENTER, TH_CENTER) float64 -16.34 -16.34 ... -14.97 -14.92\n",
       "    LON        (R_CENTER, TH_CENTER) float64 -68.12 -68.13 ... -66.75 -66.7\n",
       "    LAT_00     (R_CENTER, TH_CENTER) float64 -16.34 -16.34 ... -15.12 -15.06\n",
       "    LON_00     (R_CENTER, TH_CENTER) float64 -68.13 -68.13 ... -68.58 -68.36\n",
       "    LAT_10     (R_CENTER, TH_CENTER) float64 -16.34 -16.34 ... -14.88 -14.81\n",
       "    LON_10     (R_CENTER, TH_CENTER) float64 -68.13 -68.13 ... -68.67 -68.4\n",
       "    LAT_11     (R_CENTER, TH_CENTER) float64 -16.34 -16.34 ... -14.81 -14.78\n",
       "    LON_11     (R_CENTER, TH_CENTER) float64 -68.13 -68.13 ... -68.4 -68.13\n",
       "    LAT_01     (R_CENTER, TH_CENTER) float64 -16.34 -16.34 ... -15.06 -15.04\n",
       "    LON_01     (R_CENTER, TH_CENTER) float64 -68.13 -68.13 ... -68.36 -68.13\n",
       "    GRIDAREA   (R_CENTER, TH_CENTER) float64 1.566e+04 1.566e+04 ... 7.731e+08\n",
       "Data variables:\n",
       "    CONC       (R_CENTER, TH_CENTER, releases, ZTOP) float32 0.0 0.0 ... 0.0 0.0"
      ]
     },
     "execution_count": 51,
     "metadata": {},
     "output_type": "execute_result"
    }
   ],
   "source": []
  },
  {
   "cell_type": "code",
   "execution_count": 46,
   "metadata": {},
   "outputs": [],
   "source": [
    "fa.compressed_netcdf_save(lp_ds,'/tmp/borrar1.nc')"
   ]
  },
  {
   "cell_type": "code",
   "execution_count": null,
   "metadata": {},
   "outputs": [],
   "source": []
  }
 ],
 "metadata": {
  "jupytext": {
   "text_representation": {
    "extension": ".py",
    "format_name": "percent",
    "format_version": "1.2",
    "jupytext_version": "1.1.3"
   }
  },
  "kernelspec": {
   "display_name": "Python 3",
   "language": "python",
   "name": "python3"
  },
  "language_info": {
   "codemirror_mode": {
    "name": "ipython",
    "version": 3
   },
   "file_extension": ".py",
   "mimetype": "text/x-python",
   "name": "python",
   "nbconvert_exporter": "python",
   "pygments_lexer": "ipython3",
   "version": "3.6.8"
  }
 },
 "nbformat": 4,
 "nbformat_minor": 2
}
