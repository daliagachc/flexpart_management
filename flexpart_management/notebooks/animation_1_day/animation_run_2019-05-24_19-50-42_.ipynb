{
 "cells": [
  {
   "cell_type": "code",
   "execution_count": 1,
   "metadata": {},
   "outputs": [],
   "source": [
    "%load_ext autoreload\n",
    "%autoreload 2"
   ]
  },
  {
   "cell_type": "code",
   "execution_count": 2,
   "metadata": {},
   "outputs": [
    {
     "name": "stdout",
     "output_type": "stream",
     "text": [
      "reload\n"
     ]
    }
   ],
   "source": [
    "from useful_scit.imps import *\n",
    "import flexpart_management.modules.FLEXOUT as FX\n",
    "import flexpart_management.modules.constants as co\n",
    "import flexpart_management.modules.flx_array as fa"
   ]
  },
  {
   "cell_type": "code",
   "execution_count": 3,
   "metadata": {},
   "outputs": [],
   "source": [
    "path = '/Volumes/mbProD/Downloads/flex_out/run_2019-06-02_20-42-05_/2017-12-10'"
   ]
  },
  {
   "cell_type": "code",
   "execution_count": 182,
   "metadata": {},
   "outputs": [
    {
     "name": "stdout",
     "output_type": "stream",
     "text": [
      "/Volumes/mbProD/Downloads/flex_out/run_2019-06-02_20-42-05_/2017-12-10/*header_*d01*\n",
      "/Volumes/mbProD/Downloads/flex_out/run_2019-06-02_20-42-05_/2017-12-10/header_d01.nc\n",
      "/Volumes/mbProD/Downloads/flex_out/run_2019-06-02_20-42-05_/2017-12-10/*flxout_*d01*\n",
      "['/Volumes/mbProD/Downloads/flex_out/run_2019-06-02_20-42-05_/2017-12-10/flxout_d01_20171206_000000.nc']\n"
     ]
    }
   ],
   "source": [
    "fd1 = FX.FLEXOUT('d01',path,'/tmp/')"
   ]
  },
  {
   "cell_type": "code",
   "execution_count": 183,
   "metadata": {},
   "outputs": [],
   "source": [
    "rel = 14 \n",
    "dh = 24\n",
    "lh = 96"
   ]
  },
  {
   "cell_type": "code",
   "execution_count": 184,
   "metadata": {},
   "outputs": [],
   "source": [
    "ds = fd1.flexout_ds[{co.RL:rel}]\n",
    "# ds.load();"
   ]
  },
  {
   "cell_type": "code",
   "execution_count": 185,
   "metadata": {},
   "outputs": [],
   "source": [
    "ds1 = ds[{co.TIME:slice(rel-2,rel+lh+3)}]"
   ]
  },
  {
   "cell_type": "code",
   "execution_count": 186,
   "metadata": {},
   "outputs": [],
   "source": [
    "lt = len(ds1[co.TIME])"
   ]
  },
  {
   "cell_type": "code",
   "execution_count": 187,
   "metadata": {},
   "outputs": [
    {
     "name": "stdout",
     "output_type": "stream",
     "text": [
      "0\n",
      "1\n",
      "2\n",
      "3\n",
      "4\n",
      "5\n",
      "6\n",
      "7\n",
      "8\n",
      "9\n",
      "10\n",
      "11\n",
      "12\n",
      "13\n",
      "14\n",
      "15\n",
      "16\n",
      "17\n",
      "18\n",
      "19\n",
      "20\n",
      "21\n",
      "22\n",
      "23\n",
      "24\n",
      "25\n",
      "26\n",
      "27\n",
      "28\n",
      "29\n",
      "30\n",
      "31\n",
      "32\n",
      "33\n",
      "34\n",
      "35\n",
      "36\n",
      "37\n",
      "38\n",
      "39\n",
      "40\n",
      "41\n",
      "42\n",
      "43\n",
      "44\n",
      "45\n",
      "46\n",
      "47\n",
      "48\n",
      "49\n",
      "50\n",
      "51\n",
      "52\n",
      "53\n",
      "54\n",
      "55\n",
      "56\n",
      "57\n",
      "58\n",
      "59\n",
      "60\n",
      "61\n",
      "62\n",
      "63\n",
      "64\n",
      "65\n",
      "66\n",
      "67\n",
      "68\n",
      "69\n",
      "70\n",
      "71\n",
      "72\n",
      "73\n",
      "74\n",
      "75\n",
      "76\n",
      "77\n",
      "78\n",
      "79\n",
      "80\n",
      "81\n",
      "82\n",
      "83\n",
      "84\n",
      "85\n",
      "86\n",
      "87\n",
      "88\n",
      "89\n",
      "90\n",
      "91\n",
      "92\n",
      "93\n",
      "94\n",
      "95\n",
      "96\n",
      "97\n",
      "98\n",
      "99\n",
      "100\n"
     ]
    }
   ],
   "source": [
    "rl = [] \n",
    "for i in range(lt):\n",
    "    res = fa.data_array_to_logpolar(\n",
    "        ds1[co.CONC][i,0,:],\n",
    "        r_round_log=co.ROUND_R_LOG,\n",
    "        th_round_rad=co.ROUND_TH_RAD,\n",
    "        dim2keep=[co.ZM,co.TIME]\n",
    "\n",
    "    )\n",
    "    print(i)\n",
    "    rl.append(res)"
   ]
  },
  {
   "cell_type": "code",
   "execution_count": 188,
   "metadata": {},
   "outputs": [],
   "source": [
    "dsL1 = xr.concat(rl[:],co.TIME)"
   ]
  },
  {
   "cell_type": "code",
   "execution_count": 189,
   "metadata": {},
   "outputs": [
    {
     "name": "stdout",
     "output_type": "stream",
     "text": [
      "/Volumes/mbProD/Downloads/flex_out/run_2019-06-02_20-42-05_/2017-12-10/*header_*d02*\n",
      "/Volumes/mbProD/Downloads/flex_out/run_2019-06-02_20-42-05_/2017-12-10/header_d02.nc\n",
      "/Volumes/mbProD/Downloads/flex_out/run_2019-06-02_20-42-05_/2017-12-10/*flxout_*d02*\n",
      "['/Volumes/mbProD/Downloads/flex_out/run_2019-06-02_20-42-05_/2017-12-10/flxout_d02_20171206_000000.nc']\n"
     ]
    }
   ],
   "source": [
    "fd2 = FX.FLEXOUT('d02',path,'/tmp/')"
   ]
  },
  {
   "cell_type": "code",
   "execution_count": 190,
   "metadata": {},
   "outputs": [],
   "source": [
    "rel = 14 \n",
    "dh = 24\n",
    "lh = 96"
   ]
  },
  {
   "cell_type": "code",
   "execution_count": 191,
   "metadata": {},
   "outputs": [],
   "source": [
    "ds = fd2.flexout_ds[{co.RL:rel}]\n",
    "# ds.load();"
   ]
  },
  {
   "cell_type": "code",
   "execution_count": 192,
   "metadata": {},
   "outputs": [],
   "source": [
    "ds1 = ds[{co.TIME:slice(rel-2,rel+lh+3)}]"
   ]
  },
  {
   "cell_type": "code",
   "execution_count": 193,
   "metadata": {},
   "outputs": [],
   "source": [
    "lt = len(ds1[co.TIME])"
   ]
  },
  {
   "cell_type": "code",
   "execution_count": 194,
   "metadata": {},
   "outputs": [
    {
     "name": "stdout",
     "output_type": "stream",
     "text": [
      "0\n",
      "1\n",
      "2\n",
      "3\n",
      "4\n",
      "5\n",
      "6\n",
      "7\n",
      "8\n",
      "9\n",
      "10\n",
      "11\n",
      "12\n",
      "13\n",
      "14\n",
      "15\n",
      "16\n",
      "17\n",
      "18\n",
      "19\n",
      "20\n",
      "21\n",
      "22\n",
      "23\n",
      "24\n",
      "25\n",
      "26\n",
      "27\n",
      "28\n",
      "29\n",
      "30\n",
      "31\n",
      "32\n",
      "33\n",
      "34\n",
      "35\n",
      "36\n",
      "37\n",
      "38\n",
      "39\n",
      "40\n",
      "41\n",
      "42\n",
      "43\n",
      "44\n",
      "45\n",
      "46\n",
      "47\n",
      "48\n",
      "49\n",
      "50\n",
      "51\n",
      "52\n",
      "53\n",
      "54\n",
      "55\n",
      "56\n",
      "57\n",
      "58\n",
      "59\n",
      "60\n",
      "61\n",
      "62\n",
      "63\n",
      "64\n",
      "65\n",
      "66\n",
      "67\n",
      "68\n",
      "69\n",
      "70\n",
      "71\n",
      "72\n",
      "73\n",
      "74\n",
      "75\n",
      "76\n",
      "77\n",
      "78\n",
      "79\n",
      "80\n",
      "81\n",
      "82\n",
      "83\n",
      "84\n",
      "85\n",
      "86\n",
      "87\n",
      "88\n",
      "89\n",
      "90\n",
      "91\n",
      "92\n",
      "93\n",
      "94\n",
      "95\n",
      "96\n",
      "97\n",
      "98\n",
      "99\n",
      "100\n"
     ]
    }
   ],
   "source": [
    "rl = [] \n",
    "for i in range(lt):\n",
    "    res = fa.data_array_to_logpolar(\n",
    "        ds1[co.CONC][i,0,:],\n",
    "        r_round_log=co.ROUND_R_LOG,\n",
    "        th_round_rad=co.ROUND_TH_RAD,\n",
    "        dim2keep=[co.ZM,co.TIME]\n",
    "\n",
    "    )\n",
    "    print(i)\n",
    "    rl.append(res)"
   ]
  },
  {
   "cell_type": "code",
   "execution_count": 195,
   "metadata": {},
   "outputs": [],
   "source": [
    "dsL2 = xr.concat(rl[:],co.TIME)"
   ]
  },
  {
   "cell_type": "code",
   "execution_count": 196,
   "metadata": {},
   "outputs": [
    {
     "data": {
      "text/plain": [
       "[<matplotlib.lines.Line2D at 0x12057fda0>]"
      ]
     },
     "execution_count": 196,
     "metadata": {},
     "output_type": "execute_result"
    },
    {
     "data": {
      "image/png": "[encoded data removed]",
      "text/plain": [
       "<Figure size 432x288 with 1 Axes>"
      ]
     },
     "metadata": {
      "needs_background": "light"
     },
     "output_type": "display_data"
    }
   ],
   "source": [
    "dsL2.sum(fa.get_dims_complement(dsL1,co.TIME)).plot()"
   ]
  },
  {
   "cell_type": "code",
   "execution_count": 197,
   "metadata": {},
   "outputs": [],
   "source": [
    "\n",
    "def get_merged_ds(ds1,ds2):\n",
    "\n",
    "    l2M = 24\n",
    "    l2m = 10\n",
    "    l1M = None\n",
    "    l1m = 13\n",
    "    d1 = ds1[{co.R_CENTER: slice(l1m, l1M)}]\n",
    "    d2 = ds2[{co.R_CENTER: slice(l2m, l2M)}]\n",
    "    mer = xr.merge([d1, d2])\n",
    "    return mer\n"
   ]
  },
  {
   "cell_type": "code",
   "execution_count": 198,
   "metadata": {},
   "outputs": [],
   "source": [
    "dl = get_merged_ds(dsL1,dsL2)"
   ]
  },
  {
   "cell_type": "code",
   "execution_count": 210,
   "metadata": {},
   "outputs": [
    {
     "data": {
      "text/plain": [
       "<xarray.Dataset>\n",
       "Dimensions:    (R_CENTER: 36, TH_CENTER: 36)\n",
       "Coordinates:\n",
       "  * R_CENTER   (R_CENTER) float64 0.05613 0.06721 0.08046 ... 21.33 25.53 30.57\n",
       "  * TH_CENTER  (TH_CENTER) float64 0.08727 0.2618 0.4363 ... 5.847 6.021 6.196\n",
       "    LAT        (R_CENTER, TH_CENTER) float64 -16.29 -16.3 -16.3 ... 13.18 14.1\n",
       "    LON        (R_CENTER, TH_CENTER) float64 -68.08 -68.08 ... -38.6 -37.68\n",
       "    LAT_00     (R_CENTER, TH_CENTER) float64 -16.3 -16.3 -16.3 ... 9.903 11.16\n",
       "    LON_00     (R_CENTER, TH_CENTER) float64 -68.13 -68.12 ... -77.69 -72.98\n",
       "    LAT_10     (R_CENTER, TH_CENTER) float64 -16.29 -16.29 ... 15.08 16.59\n",
       "    LON_10     (R_CENTER, TH_CENTER) float64 -68.13 -68.12 ... -79.57 -73.94\n",
       "    LAT_11     (R_CENTER, TH_CENTER) float64 -16.29 -16.29 -16.3 ... 16.59 17.1\n",
       "    LON_11     (R_CENTER, TH_CENTER) float64 -68.12 -68.11 ... -73.94 -68.13\n",
       "    LAT_01     (R_CENTER, TH_CENTER) float64 -16.3 -16.3 -16.31 ... 11.16 11.59\n",
       "    LON_01     (R_CENTER, TH_CENTER) float64 -68.12 -68.11 ... -72.98 -68.13\n",
       "    GRIDAREA   (R_CENTER, TH_CENTER) float64 1.178e+06 1.178e+06 ... 3.528e+11\n",
       "    Time       datetime64[ns] 2017-12-06T14:00:00\n",
       "Data variables:\n",
       "    CONC       (R_CENTER, TH_CENTER) float32 0.0 0.0 0.0 0.0 ... 0.0 0.0 0.0 0.0"
      ]
     },
     "execution_count": 210,
     "metadata": {},
     "output_type": "execute_result"
    }
   ],
   "source": [
    "dp"
   ]
  },
  {
   "cell_type": "code",
   "execution_count": 252,
   "metadata": {},
   "outputs": [],
   "source": [
    "i=2\n",
    "mm = dl[co.CONC].sum(co.TH_CENTER).quantile(.985).values\n",
    "def plot_for_offset(i):\n",
    "    r = 2\n",
    "    fig = plt.figure(figsize=(7,7))\n",
    "    llm = dl[co.CONC].where(dl[co.CONC]>0).sum(co.ZM).quantile(.99)\n",
    "    ax1 = fig.add_subplot(2,2,1,projection=co.PROJ)\n",
    "    fa.get_ax_bolivia(ax=ax1)\n",
    "    dp = dl[{co.TIME:i}].sum(co.ZM)\n",
    "    fa.logpolar_plot(dp,ax=ax1,perM=llm,quantile=False,colorbar=False)\n",
    "    fa.plot_lapaz_rect(ax=ax1)\n",
    "    fa.add_chc_lpb(ax1)\n",
    "    ax2 = fig.add_subplot(2,2,2,projection=co.PROJ)\n",
    "    fa.get_ax_lapaz(ax=ax2)\n",
    "    dp = dl[{co.TIME:i}].sum(co.ZM)\n",
    "    fa.logpolar_plot(dp,ax=ax2,perM=llm,quantile=False,colorbar=True)\n",
    "    fa.add_chc_lpb(ax2)\n",
    "    ax = fig.add_subplot(r,1,r)\n",
    "    fa.plot_clust_height(dl[{co.TIME:i}][co.CONC],ax=ax,perM=mm,quantile=False,par_to_plot=co.CONC)\n",
    "    fig.canvas.draw()       # draw the canvas, cache the renderer\n",
    "    image = np.frombuffer(fig.canvas.tostring_rgb(), dtype='uint8')\n",
    "    image  = image.reshape(fig.canvas.get_width_height()[::-1] + (3,))\n",
    "    plt.close(fig)\n",
    "\n",
    "    return image\n",
    "\n",
    "\n"
   ]
  },
  {
   "cell_type": "code",
   "execution_count": 258,
   "metadata": {},
   "outputs": [],
   "source": [
    "import matplotlib\n",
    "import matplotlib.pyplot as plt\n",
    "import numpy as np\n",
    "import imageio\n",
    "kwargs_write = {'fps':1.0, 'quantizer':'nq'}\n",
    "imageio.mimsave('./powers.gif', [plot_for_offset(i) for i in range(98,3,-1)], fps=2.5)"
   ]
  },
  {
   "cell_type": "code",
   "execution_count": 239,
   "metadata": {},
   "outputs": [
    {
     "data": {
      "text/plain": [
       "array(60.50542049)"
      ]
     },
     "execution_count": 239,
     "metadata": {},
     "output_type": "execute_result"
    }
   ],
   "source": []
  },
  {
   "cell_type": "code",
   "execution_count": null,
   "metadata": {},
   "outputs": [],
   "source": []
  },
  {
   "cell_type": "code",
   "execution_count": null,
   "metadata": {},
   "outputs": [],
   "source": []
  },
  {
   "cell_type": "code",
   "execution_count": null,
   "metadata": {},
   "outputs": [],
   "source": []
  },
  {
   "cell_type": "code",
   "execution_count": null,
   "metadata": {},
   "outputs": [],
   "source": []
  },
  {
   "cell_type": "code",
   "execution_count": null,
   "metadata": {},
   "outputs": [],
   "source": []
  },
  {
   "cell_type": "code",
   "execution_count": null,
   "metadata": {},
   "outputs": [],
   "source": []
  },
  {
   "cell_type": "code",
   "execution_count": null,
   "metadata": {},
   "outputs": [],
   "source": []
  },
  {
   "cell_type": "code",
   "execution_count": null,
   "metadata": {},
   "outputs": [],
   "source": []
  },
  {
   "cell_type": "code",
   "execution_count": null,
   "metadata": {},
   "outputs": [],
   "source": []
  }
 ],
 "metadata": {
  "jupytext": {
   "text_representation": {
    "extension": ".py",
    "format_name": "percent",
    "format_version": "1.2",
    "jupytext_version": "1.1.3"
   }
  },
  "kernelspec": {
   "display_name": "Python 3",
   "language": "python",
   "name": "python3"
  },
  "language_info": {
   "codemirror_mode": {
    "name": "ipython",
    "version": 3
   },
   "file_extension": ".py",
   "mimetype": "text/x-python",
   "name": "python",
   "nbconvert_exporter": "python",
   "pygments_lexer": "ipython3",
   "version": "3.6.8"
  }
 },
 "nbformat": 4,
 "nbformat_minor": 2
}
