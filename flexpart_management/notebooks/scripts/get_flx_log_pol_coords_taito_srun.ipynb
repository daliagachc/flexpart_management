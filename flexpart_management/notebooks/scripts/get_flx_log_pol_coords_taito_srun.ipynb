{
 "cells": [
  {
   "cell_type": "code",
   "execution_count": null,
   "metadata": {},
   "outputs": [],
   "source": [
    "# this notebook was created to convert rectanfular coo\n",
    "\n",
    "%load_ext autoreload\n",
    "%autoreload 2"
   ]
  },
  {
   "cell_type": "code",
   "execution_count": null,
   "metadata": {
    "lines_to_next_cell": 1
   },
   "outputs": [],
   "source": [
    "import flexpart_management.modules.FLEXOUT as FO\n",
    "# noinspection PyUnresolvedReferences\n",
    "import flexpart_management.modules.flx_array as fa\n",
    "from useful_scit.imps import *\n",
    "log.ger.setLevel(log.log.DEBUG)"
   ]
  },
  {
   "cell_type": "code",
   "execution_count": null,
   "metadata": {},
   "outputs": [],
   "source": [
    "# doms = ['d01','d02']\n",
    "# root_path = '/Volumes/mbProD/Downloads/flex_out/run_2019-06-02_20-42-05_/*-*-*'\n",
    "# root_path = '/homeappl/home/aliagadi/wrk/DONOTREMOVE/flexpart_management_data/runs/run_2019-08-18_18-46-19_/*-*-*'\n",
    "# path_out = '/homeappl/home/aliagadi/wrk/DONOTREMOVE/flexpart_management_data/runs/run_2019-08-18_18-46-19_/log_pol'\n",
    "def main():\n",
    "    root_path = sys.argv[1]\n",
    "    path_out = os.path.join(os.path.dirname(root_path),'log_pol')\n",
    "    log.ger.debug(f'path out is {path_out}')\n",
    "\n",
    "    # print('path_out', path_out)\n",
    "    dom = sys.argv[2]\n",
    "    # run_name = 'run_2019-10-02_13-42-52_'\n",
    "    run_name = sys.argv[3]\n",
    "    paths = glob.glob(root_path)\n",
    "    paths.sort()\n",
    "\n",
    "    # %%\n",
    "    fo_base_dic = dict(\n",
    "        # dom = 'd01',\n",
    "        # folder_path = '/Volumes/mbProD/Downloads/flex_out/run_2019-06-02_20-42-05_/2017-12-10',\n",
    "        folder_path_out=path_out,\n",
    "        run_name=run_name,\n",
    "    )\n",
    "\n",
    "    # %%\n",
    "    for p in paths:\n",
    "        log.ger.debug(f'path is {p}')\n",
    "        log.ger.debug(f'dom  is {dom}')\n",
    "        # print('starting', dom, p)\n",
    "        new_dic = dict(dom=dom, folder_path=p)\n",
    "        fo_dic = {**fo_base_dic, **new_dic}\n",
    "\n",
    "        # noinspection PyBroadException\n",
    "        try:\n",
    "            fo = FO.FLEXOUT(**fo_dic)\n",
    "            fo.export_log_polar_coords(keep_z=True)\n",
    "            log.ger.debug(f'done {p} {dom}')\n",
    "        except:\n",
    "            log.ger.error(f'fail {p} {dom}')\n",
    "\n",
    "main()"
   ]
  }
 ],
 "metadata": {
  "jupytext": {
   "formats": "ipynb,py:percent"
  },
  "kernelspec": {
   "display_name": "Python 3",
   "language": "python",
   "name": "python3"
  }
 },
 "nbformat": 4,
 "nbformat_minor": 2
}
