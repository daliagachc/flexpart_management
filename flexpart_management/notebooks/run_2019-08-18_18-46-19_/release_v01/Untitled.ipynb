{
 "cells": [
  {
   "cell_type": "code",
   "execution_count": 882,
   "metadata": {},
   "outputs": [],
   "source": [
    "v1 = np.array([10,20,30])\n",
    "v2 = np.array([3,4,5])"
   ]
  },
  {
   "cell_type": "code",
   "execution_count": 897,
   "metadata": {},
   "outputs": [],
   "source": [
    "def f1(v1,v2):\n",
    "    print(v1)\n",
    "    print(v2)\n",
    "#     return v1*v2\n",
    "    return 0"
   ]
  },
  {
   "cell_type": "code",
   "execution_count": 898,
   "metadata": {},
   "outputs": [],
   "source": [
    "f1v = np.vectorize(f1)"
   ]
  },
  {
   "cell_type": "code",
   "execution_count": 903,
   "metadata": {},
   "outputs": [],
   "source": [
    "f1v1 = np.vectorize(f1,excluded=['v1'])"
   ]
  },
  {
   "cell_type": "code",
   "execution_count": 904,
   "metadata": {},
   "outputs": [
    {
     "name": "stdout",
     "output_type": "stream",
     "text": [
      "10\n",
      "3\n",
      "10\n",
      "3\n",
      "20\n",
      "4\n",
      "30\n",
      "5\n"
     ]
    },
    {
     "data": {
      "text/plain": [
       "array([0, 0, 0])"
      ]
     },
     "execution_count": 904,
     "metadata": {},
     "output_type": "execute_result"
    }
   ],
   "source": [
    "f1v(v1,v2)"
   ]
  },
  {
   "cell_type": "code",
   "execution_count": 1059,
   "metadata": {},
   "outputs": [
    {
     "data": {
      "text/plain": [
       "<function numpy.zeros>"
      ]
     },
     "execution_count": 1059,
     "metadata": {},
     "output_type": "execute_result"
    }
   ],
   "source": [
    "np.zeros()"
   ]
  },
  {
   "cell_type": "code",
   "execution_count": 906,
   "metadata": {},
   "outputs": [
    {
     "name": "stdout",
     "output_type": "stream",
     "text": [
      "10\n",
      "3\n",
      "10\n",
      "3\n",
      "20\n",
      "4\n",
      "30\n",
      "5\n"
     ]
    },
    {
     "data": {
      "text/plain": [
       "array([0, 0, 0])"
      ]
     },
     "execution_count": 906,
     "metadata": {},
     "output_type": "execute_result"
    }
   ],
   "source": [
    "f1v1(v1,v2)"
   ]
  },
  {
   "cell_type": "code",
   "execution_count": 908,
   "metadata": {},
   "outputs": [
    {
     "name": "stdout",
     "output_type": "stream",
     "text": [
      "[10 20 30]\n",
      "3\n",
      "[10 20 30]\n",
      "3\n",
      "[10 20 30]\n",
      "4\n",
      "[10 20 30]\n",
      "5\n"
     ]
    },
    {
     "data": {
      "text/plain": [
       "array([0, 0, 0])"
      ]
     },
     "execution_count": 908,
     "metadata": {},
     "output_type": "execute_result"
    }
   ],
   "source": [
    "f1v1(v1=v1,v2=v2)"
   ]
  },
  {
   "cell_type": "code",
   "execution_count": 946,
   "metadata": {},
   "outputs": [
    {
     "data": {
      "text/plain": [
       "<xarray.DataArray 'CONC_NORMALIZED' (releases: 972, dum: 4)>\n",
       "array([[0., 0., 0., 0.],\n",
       "       [0., 0., 0., 0.],\n",
       "       [0., 0., 0., 0.],\n",
       "       ...,\n",
       "       [0., 0., 0., 0.],\n",
       "       [0., 0., 0., 0.],\n",
       "       [0., 0., 0., 0.]], dtype=float32)\n",
       "Coordinates:\n",
       "  * releases   (releases) datetime64[ns] 2017-12-06T01:30:00 ... 2018-05-16T21:30:00\n",
       "  * dum        (dum) MultiIndex\n",
       "  - R_CENTER   (dum) float64 0.05613 0.05613 0.05613 0.05613\n",
       "  - TH_CENTER  (dum) float64 0.08727 0.08727 0.08727 0.08727\n",
       "  - ZMID       (dum) float64 250.0 1e+03 2.5e+03 5.25e+03"
      ]
     },
     "execution_count": 946,
     "metadata": {},
     "output_type": "execute_result"
    }
   ],
   "source": [
    "_dm"
   ]
  },
  {
   "cell_type": "code",
   "execution_count": 980,
   "metadata": {},
   "outputs": [
    {
     "data": {
      "text/plain": [
       "array([[19, 19, 19, 19]], dtype=int32)"
      ]
     },
     "execution_count": 980,
     "metadata": {},
     "output_type": "execute_result"
    }
   ],
   "source": [
    "k.reshape(-1,1).T"
   ]
  },
  {
   "cell_type": "code",
   "execution_count": 1319,
   "metadata": {},
   "outputs": [],
   "source": []
  },
  {
   "cell_type": "code",
   "execution_count": 1331,
   "metadata": {},
   "outputs": [
    {
     "ename": "SyntaxError",
     "evalue": "can't assign to function call (<ipython-input-1331-23134f8c3240>, line 1)",
     "output_type": "error",
     "traceback": [
      "\u001b[0;36m  File \u001b[0;32m\"<ipython-input-1331-23134f8c3240>\"\u001b[0;36m, line \u001b[0;32m1\u001b[0m\n\u001b[0;31m    _sil_sc.sel(**{CLUS_LENGTH_DIM:3}) = 3\u001b[0m\n\u001b[0m                                          ^\u001b[0m\n\u001b[0;31mSyntaxError\u001b[0m\u001b[0;31m:\u001b[0m can't assign to function call\n"
     ]
    }
   ],
   "source": [
    "_sil_sc.sel(**{CLUS_LENGTH_DIM:3}) = 3"
   ]
  },
  {
   "cell_type": "code",
   "execution_count": 1341,
   "metadata": {},
   "outputs": [
    {
     "ename": "KeyError",
     "evalue": "1",
     "output_type": "error",
     "traceback": [
      "\u001b[0;31m---------------------------------------------------------------------------\u001b[0m",
      "\u001b[0;31mKeyError\u001b[0m                                  Traceback (most recent call last)",
      "\u001b[0;32m~/miniconda3/envs/b36/lib/python3.6/site-packages/pandas/core/indexes/base.py\u001b[0m in \u001b[0;36mget_loc\u001b[0;34m(self, key, method, tolerance)\u001b[0m\n\u001b[1;32m   2896\u001b[0m             \u001b[0;32mtry\u001b[0m\u001b[0;34m:\u001b[0m\u001b[0;34m\u001b[0m\u001b[0;34m\u001b[0m\u001b[0m\n\u001b[0;32m-> 2897\u001b[0;31m                 \u001b[0;32mreturn\u001b[0m \u001b[0mself\u001b[0m\u001b[0;34m.\u001b[0m\u001b[0m_engine\u001b[0m\u001b[0;34m.\u001b[0m\u001b[0mget_loc\u001b[0m\u001b[0;34m(\u001b[0m\u001b[0mkey\u001b[0m\u001b[0;34m)\u001b[0m\u001b[0;34m\u001b[0m\u001b[0;34m\u001b[0m\u001b[0m\n\u001b[0m\u001b[1;32m   2898\u001b[0m             \u001b[0;32mexcept\u001b[0m \u001b[0mKeyError\u001b[0m\u001b[0;34m:\u001b[0m\u001b[0;34m\u001b[0m\u001b[0;34m\u001b[0m\u001b[0m\n",
      "\u001b[0;32mpandas/_libs/index.pyx\u001b[0m in \u001b[0;36mpandas._libs.index.IndexEngine.get_loc\u001b[0;34m()\u001b[0m\n",
      "\u001b[0;32mpandas/_libs/index.pyx\u001b[0m in \u001b[0;36mpandas._libs.index.IndexEngine.get_loc\u001b[0;34m()\u001b[0m\n",
      "\u001b[0;32mpandas/_libs/hashtable_class_helper.pxi\u001b[0m in \u001b[0;36mpandas._libs.hashtable.Int64HashTable.get_item\u001b[0;34m()\u001b[0m\n",
      "\u001b[0;32mpandas/_libs/hashtable_class_helper.pxi\u001b[0m in \u001b[0;36mpandas._libs.hashtable.Int64HashTable.get_item\u001b[0;34m()\u001b[0m\n",
      "\u001b[0;31mKeyError\u001b[0m: 1",
      "\nDuring handling of the above exception, another exception occurred:\n",
      "\u001b[0;31mKeyError\u001b[0m                                  Traceback (most recent call last)",
      "\u001b[0;32m<ipython-input-1341-224148b5b60a>\u001b[0m in \u001b[0;36m<module>\u001b[0;34m\u001b[0m\n\u001b[0;32m----> 1\u001b[0;31m \u001b[0m_sil_sc\u001b[0m\u001b[0;34m.\u001b[0m\u001b[0mloc\u001b[0m\u001b[0;34m[\u001b[0m\u001b[0;34m{\u001b[0m\u001b[0mCLUS_LENGTH_DIM\u001b[0m\u001b[0;34m:\u001b[0m\u001b[0;36m1\u001b[0m\u001b[0;34m}\u001b[0m\u001b[0;34m]\u001b[0m\u001b[0;34m=\u001b[0m\u001b[0;36m4\u001b[0m\u001b[0;34m\u001b[0m\u001b[0;34m\u001b[0m\u001b[0m\n\u001b[0m",
      "\u001b[0;32m~/miniconda3/envs/b36/lib/python3.6/site-packages/xarray/core/dataarray.py\u001b[0m in \u001b[0;36m__setitem__\u001b[0;34m(self, key, value)\u001b[0m\n\u001b[1;32m    132\u001b[0m             \u001b[0mkey\u001b[0m \u001b[0;34m=\u001b[0m \u001b[0mdict\u001b[0m\u001b[0;34m(\u001b[0m\u001b[0mzip\u001b[0m\u001b[0;34m(\u001b[0m\u001b[0mself\u001b[0m\u001b[0;34m.\u001b[0m\u001b[0mdata_array\u001b[0m\u001b[0;34m.\u001b[0m\u001b[0mdims\u001b[0m\u001b[0;34m,\u001b[0m \u001b[0mlabels\u001b[0m\u001b[0;34m)\u001b[0m\u001b[0;34m)\u001b[0m\u001b[0;34m\u001b[0m\u001b[0;34m\u001b[0m\u001b[0m\n\u001b[1;32m    133\u001b[0m \u001b[0;34m\u001b[0m\u001b[0m\n\u001b[0;32m--> 134\u001b[0;31m         \u001b[0mpos_indexers\u001b[0m\u001b[0;34m,\u001b[0m \u001b[0m_\u001b[0m \u001b[0;34m=\u001b[0m \u001b[0mremap_label_indexers\u001b[0m\u001b[0;34m(\u001b[0m\u001b[0mself\u001b[0m\u001b[0;34m.\u001b[0m\u001b[0mdata_array\u001b[0m\u001b[0;34m,\u001b[0m \u001b[0;34m**\u001b[0m\u001b[0mkey\u001b[0m\u001b[0;34m)\u001b[0m\u001b[0;34m\u001b[0m\u001b[0;34m\u001b[0m\u001b[0m\n\u001b[0m\u001b[1;32m    135\u001b[0m         \u001b[0mself\u001b[0m\u001b[0;34m.\u001b[0m\u001b[0mdata_array\u001b[0m\u001b[0;34m[\u001b[0m\u001b[0mpos_indexers\u001b[0m\u001b[0;34m]\u001b[0m \u001b[0;34m=\u001b[0m \u001b[0mvalue\u001b[0m\u001b[0;34m\u001b[0m\u001b[0;34m\u001b[0m\u001b[0m\n\u001b[1;32m    136\u001b[0m \u001b[0;34m\u001b[0m\u001b[0m\n",
      "\u001b[0;32m~/miniconda3/envs/b36/lib/python3.6/site-packages/xarray/core/coordinates.py\u001b[0m in \u001b[0;36mremap_label_indexers\u001b[0;34m(obj, indexers, method, tolerance, **indexers_kwargs)\u001b[0m\n\u001b[1;32m    323\u001b[0m \u001b[0;34m\u001b[0m\u001b[0m\n\u001b[1;32m    324\u001b[0m     pos_indexers, new_indexes = indexing.remap_label_indexers(\n\u001b[0;32m--> 325\u001b[0;31m         \u001b[0mobj\u001b[0m\u001b[0;34m,\u001b[0m \u001b[0mv_indexers\u001b[0m\u001b[0;34m,\u001b[0m \u001b[0mmethod\u001b[0m\u001b[0;34m=\u001b[0m\u001b[0mmethod\u001b[0m\u001b[0;34m,\u001b[0m \u001b[0mtolerance\u001b[0m\u001b[0;34m=\u001b[0m\u001b[0mtolerance\u001b[0m\u001b[0;34m\u001b[0m\u001b[0;34m\u001b[0m\u001b[0m\n\u001b[0m\u001b[1;32m    326\u001b[0m     )\n\u001b[1;32m    327\u001b[0m     \u001b[0;31m# attach indexer's coordinate to pos_indexers\u001b[0m\u001b[0;34m\u001b[0m\u001b[0;34m\u001b[0m\u001b[0;34m\u001b[0m\u001b[0m\n",
      "\u001b[0;32m~/miniconda3/envs/b36/lib/python3.6/site-packages/xarray/core/indexing.py\u001b[0m in \u001b[0;36mremap_label_indexers\u001b[0;34m(data_obj, indexers, method, tolerance)\u001b[0m\n\u001b[1;32m    250\u001b[0m         \u001b[0;32melse\u001b[0m\u001b[0;34m:\u001b[0m\u001b[0;34m\u001b[0m\u001b[0;34m\u001b[0m\u001b[0m\n\u001b[1;32m    251\u001b[0m             idxr, new_idx = convert_label_indexer(index, label,\n\u001b[0;32m--> 252\u001b[0;31m                                                   dim, method, tolerance)\n\u001b[0m\u001b[1;32m    253\u001b[0m             \u001b[0mpos_indexers\u001b[0m\u001b[0;34m[\u001b[0m\u001b[0mdim\u001b[0m\u001b[0;34m]\u001b[0m \u001b[0;34m=\u001b[0m \u001b[0midxr\u001b[0m\u001b[0;34m\u001b[0m\u001b[0;34m\u001b[0m\u001b[0m\n\u001b[1;32m    254\u001b[0m             \u001b[0;32mif\u001b[0m \u001b[0mnew_idx\u001b[0m \u001b[0;32mis\u001b[0m \u001b[0;32mnot\u001b[0m \u001b[0;32mNone\u001b[0m\u001b[0;34m:\u001b[0m\u001b[0;34m\u001b[0m\u001b[0;34m\u001b[0m\u001b[0m\n",
      "\u001b[0;32m~/miniconda3/envs/b36/lib/python3.6/site-packages/xarray/core/indexing.py\u001b[0m in \u001b[0;36mconvert_label_indexer\u001b[0;34m(index, label, index_name, method, tolerance)\u001b[0m\n\u001b[1;32m    179\u001b[0m                 \u001b[0mindexer\u001b[0m\u001b[0;34m,\u001b[0m \u001b[0mnew_index\u001b[0m \u001b[0;34m=\u001b[0m \u001b[0mindex\u001b[0m\u001b[0;34m.\u001b[0m\u001b[0mget_loc_level\u001b[0m\u001b[0;34m(\u001b[0m\u001b[0mlabel\u001b[0m\u001b[0;34m.\u001b[0m\u001b[0mitem\u001b[0m\u001b[0;34m(\u001b[0m\u001b[0;34m)\u001b[0m\u001b[0;34m,\u001b[0m \u001b[0mlevel\u001b[0m\u001b[0;34m=\u001b[0m\u001b[0;36m0\u001b[0m\u001b[0;34m)\u001b[0m\u001b[0;34m\u001b[0m\u001b[0;34m\u001b[0m\u001b[0m\n\u001b[1;32m    180\u001b[0m             \u001b[0;32melse\u001b[0m\u001b[0;34m:\u001b[0m\u001b[0;34m\u001b[0m\u001b[0;34m\u001b[0m\u001b[0m\n\u001b[0;32m--> 181\u001b[0;31m                 \u001b[0mindexer\u001b[0m \u001b[0;34m=\u001b[0m \u001b[0mget_loc\u001b[0m\u001b[0;34m(\u001b[0m\u001b[0mindex\u001b[0m\u001b[0;34m,\u001b[0m \u001b[0mlabel\u001b[0m\u001b[0;34m.\u001b[0m\u001b[0mitem\u001b[0m\u001b[0;34m(\u001b[0m\u001b[0;34m)\u001b[0m\u001b[0;34m,\u001b[0m \u001b[0mmethod\u001b[0m\u001b[0;34m,\u001b[0m \u001b[0mtolerance\u001b[0m\u001b[0;34m)\u001b[0m\u001b[0;34m\u001b[0m\u001b[0;34m\u001b[0m\u001b[0m\n\u001b[0m\u001b[1;32m    182\u001b[0m         \u001b[0;32melif\u001b[0m \u001b[0mlabel\u001b[0m\u001b[0;34m.\u001b[0m\u001b[0mdtype\u001b[0m\u001b[0;34m.\u001b[0m\u001b[0mkind\u001b[0m \u001b[0;34m==\u001b[0m \u001b[0;34m'b'\u001b[0m\u001b[0;34m:\u001b[0m\u001b[0;34m\u001b[0m\u001b[0;34m\u001b[0m\u001b[0m\n\u001b[1;32m    183\u001b[0m             \u001b[0mindexer\u001b[0m \u001b[0;34m=\u001b[0m \u001b[0mlabel\u001b[0m\u001b[0;34m\u001b[0m\u001b[0;34m\u001b[0m\u001b[0m\n",
      "\u001b[0;32m~/miniconda3/envs/b36/lib/python3.6/site-packages/xarray/core/indexing.py\u001b[0m in \u001b[0;36mget_loc\u001b[0;34m(index, label, method, tolerance)\u001b[0m\n\u001b[1;32m    106\u001b[0m \u001b[0;32mdef\u001b[0m \u001b[0mget_loc\u001b[0m\u001b[0;34m(\u001b[0m\u001b[0mindex\u001b[0m\u001b[0;34m,\u001b[0m \u001b[0mlabel\u001b[0m\u001b[0;34m,\u001b[0m \u001b[0mmethod\u001b[0m\u001b[0;34m=\u001b[0m\u001b[0;32mNone\u001b[0m\u001b[0;34m,\u001b[0m \u001b[0mtolerance\u001b[0m\u001b[0;34m=\u001b[0m\u001b[0;32mNone\u001b[0m\u001b[0;34m)\u001b[0m\u001b[0;34m:\u001b[0m\u001b[0;34m\u001b[0m\u001b[0;34m\u001b[0m\u001b[0m\n\u001b[1;32m    107\u001b[0m     \u001b[0mkwargs\u001b[0m \u001b[0;34m=\u001b[0m \u001b[0m_index_method_kwargs\u001b[0m\u001b[0;34m(\u001b[0m\u001b[0mmethod\u001b[0m\u001b[0;34m,\u001b[0m \u001b[0mtolerance\u001b[0m\u001b[0;34m)\u001b[0m\u001b[0;34m\u001b[0m\u001b[0;34m\u001b[0m\u001b[0m\n\u001b[0;32m--> 108\u001b[0;31m     \u001b[0;32mreturn\u001b[0m \u001b[0mindex\u001b[0m\u001b[0;34m.\u001b[0m\u001b[0mget_loc\u001b[0m\u001b[0;34m(\u001b[0m\u001b[0mlabel\u001b[0m\u001b[0;34m,\u001b[0m \u001b[0;34m**\u001b[0m\u001b[0mkwargs\u001b[0m\u001b[0;34m)\u001b[0m\u001b[0;34m\u001b[0m\u001b[0;34m\u001b[0m\u001b[0m\n\u001b[0m\u001b[1;32m    109\u001b[0m \u001b[0;34m\u001b[0m\u001b[0m\n\u001b[1;32m    110\u001b[0m \u001b[0;34m\u001b[0m\u001b[0m\n",
      "\u001b[0;32m~/miniconda3/envs/b36/lib/python3.6/site-packages/pandas/core/indexes/base.py\u001b[0m in \u001b[0;36mget_loc\u001b[0;34m(self, key, method, tolerance)\u001b[0m\n\u001b[1;32m   2897\u001b[0m                 \u001b[0;32mreturn\u001b[0m \u001b[0mself\u001b[0m\u001b[0;34m.\u001b[0m\u001b[0m_engine\u001b[0m\u001b[0;34m.\u001b[0m\u001b[0mget_loc\u001b[0m\u001b[0;34m(\u001b[0m\u001b[0mkey\u001b[0m\u001b[0;34m)\u001b[0m\u001b[0;34m\u001b[0m\u001b[0;34m\u001b[0m\u001b[0m\n\u001b[1;32m   2898\u001b[0m             \u001b[0;32mexcept\u001b[0m \u001b[0mKeyError\u001b[0m\u001b[0;34m:\u001b[0m\u001b[0;34m\u001b[0m\u001b[0;34m\u001b[0m\u001b[0m\n\u001b[0;32m-> 2899\u001b[0;31m                 \u001b[0;32mreturn\u001b[0m \u001b[0mself\u001b[0m\u001b[0;34m.\u001b[0m\u001b[0m_engine\u001b[0m\u001b[0;34m.\u001b[0m\u001b[0mget_loc\u001b[0m\u001b[0;34m(\u001b[0m\u001b[0mself\u001b[0m\u001b[0;34m.\u001b[0m\u001b[0m_maybe_cast_indexer\u001b[0m\u001b[0;34m(\u001b[0m\u001b[0mkey\u001b[0m\u001b[0;34m)\u001b[0m\u001b[0;34m)\u001b[0m\u001b[0;34m\u001b[0m\u001b[0;34m\u001b[0m\u001b[0m\n\u001b[0m\u001b[1;32m   2900\u001b[0m         \u001b[0mindexer\u001b[0m \u001b[0;34m=\u001b[0m \u001b[0mself\u001b[0m\u001b[0;34m.\u001b[0m\u001b[0mget_indexer\u001b[0m\u001b[0;34m(\u001b[0m\u001b[0;34m[\u001b[0m\u001b[0mkey\u001b[0m\u001b[0;34m]\u001b[0m\u001b[0;34m,\u001b[0m \u001b[0mmethod\u001b[0m\u001b[0;34m=\u001b[0m\u001b[0mmethod\u001b[0m\u001b[0;34m,\u001b[0m \u001b[0mtolerance\u001b[0m\u001b[0;34m=\u001b[0m\u001b[0mtolerance\u001b[0m\u001b[0;34m)\u001b[0m\u001b[0;34m\u001b[0m\u001b[0;34m\u001b[0m\u001b[0m\n\u001b[1;32m   2901\u001b[0m         \u001b[0;32mif\u001b[0m \u001b[0mindexer\u001b[0m\u001b[0;34m.\u001b[0m\u001b[0mndim\u001b[0m \u001b[0;34m>\u001b[0m \u001b[0;36m1\u001b[0m \u001b[0;32mor\u001b[0m \u001b[0mindexer\u001b[0m\u001b[0;34m.\u001b[0m\u001b[0msize\u001b[0m \u001b[0;34m>\u001b[0m \u001b[0;36m1\u001b[0m\u001b[0;34m:\u001b[0m\u001b[0;34m\u001b[0m\u001b[0;34m\u001b[0m\u001b[0m\n",
      "\u001b[0;32mpandas/_libs/index.pyx\u001b[0m in \u001b[0;36mpandas._libs.index.IndexEngine.get_loc\u001b[0;34m()\u001b[0m\n",
      "\u001b[0;32mpandas/_libs/index.pyx\u001b[0m in \u001b[0;36mpandas._libs.index.IndexEngine.get_loc\u001b[0;34m()\u001b[0m\n",
      "\u001b[0;32mpandas/_libs/hashtable_class_helper.pxi\u001b[0m in \u001b[0;36mpandas._libs.hashtable.Int64HashTable.get_item\u001b[0;34m()\u001b[0m\n",
      "\u001b[0;32mpandas/_libs/hashtable_class_helper.pxi\u001b[0m in \u001b[0;36mpandas._libs.hashtable.Int64HashTable.get_item\u001b[0;34m()\u001b[0m\n",
      "\u001b[0;31mKeyError\u001b[0m: 1"
     ]
    }
   ],
   "source": [
    "=4"
   ]
  },
  {
   "cell_type": "code",
   "execution_count": 1340,
   "metadata": {},
   "outputs": [
    {
     "data": {
      "text/plain": [
       "<xarray.DataArray 'SIL_SC' (CLUS_LENGTH_DIM: 23)>\n",
       "array([nan,  4., nan, nan, nan, nan, nan, nan, nan, nan, nan, nan, nan, nan,\n",
       "       nan, nan, nan, nan, nan, nan, nan, nan, nan])\n",
       "Coordinates:\n",
       "  * CLUS_LENGTH_DIM  (CLUS_LENGTH_DIM) int64 2 3 4 5 6 7 8 ... 19 20 21 22 23 24"
      ]
     },
     "execution_count": 1340,
     "metadata": {},
     "output_type": "execute_result"
    }
   ],
   "source": [
    "_sil_sc"
   ]
  },
  {
   "cell_type": "code",
   "execution_count": 1584,
   "metadata": {},
   "outputs": [],
   "source": [
    "_ss['m']=_ss.set_index(co.RL).index.month"
   ]
  },
  {
   "cell_type": "code",
   "execution_count": 1634,
   "metadata": {},
   "outputs": [
    {
     "data": {
      "text/plain": [
       "releases\n",
       "2017-12-06 00:00:00    115.090439\n",
       "2017-12-06 04:00:00    124.756516\n",
       "2017-12-06 08:00:00    124.570076\n",
       "2017-12-06 12:00:00    112.096207\n",
       "2017-12-06 16:00:00    100.607407\n",
       "                          ...    \n",
       "2018-05-16 04:00:00     95.759247\n",
       "2018-05-16 08:00:00     98.548256\n",
       "2018-05-16 12:00:00     98.628670\n",
       "2018-05-16 16:00:00    102.765991\n",
       "2018-05-16 20:00:00    111.185577\n",
       "Freq: 4H, Name: CONC_NORMALIZED, Length: 972, dtype: float32"
      ]
     },
     "execution_count": 1634,
     "metadata": {},
     "output_type": "execute_result"
    }
   ],
   "source": [
    "_ss=_s.groupby(co.RL).sum()\n",
    "\n",
    "_ss1 = _ss.resample('4H').mean()\n",
    "# _ss1.index = _ss1.index+pd.Timedelta(hours=1.5)\n",
    "\n",
    "_ss1"
   ]
  },
  {
   "cell_type": "code",
   "execution_count": 1625,
   "metadata": {},
   "outputs": [],
   "source": [
    "_ss1.index = _ss1.index+pd.Timedelta(hours=1.5)"
   ]
  },
  {
   "cell_type": "code",
   "execution_count": 1629,
   "metadata": {},
   "outputs": [
    {
     "data": {
      "text/plain": [
       "DatetimeIndex(['2017-12-06 01:30:00', '2017-12-06 05:30:00',\n",
       "               '2017-12-06 09:30:00', '2017-12-06 13:30:00',\n",
       "               '2017-12-06 17:30:00', '2017-12-06 21:30:00',\n",
       "               '2017-12-07 01:30:00', '2017-12-07 05:30:00',\n",
       "               '2017-12-07 09:30:00', '2017-12-07 13:30:00',\n",
       "               ...\n",
       "               '2018-05-15 09:30:00', '2018-05-15 13:30:00',\n",
       "               '2018-05-15 17:30:00', '2018-05-15 21:30:00',\n",
       "               '2018-05-16 01:30:00', '2018-05-16 05:30:00',\n",
       "               '2018-05-16 09:30:00', '2018-05-16 13:30:00',\n",
       "               '2018-05-16 17:30:00', '2018-05-16 21:30:00'],\n",
       "              dtype='datetime64[ns]', name='releases', length=972, freq='4H')"
      ]
     },
     "execution_count": 1629,
     "metadata": {},
     "output_type": "execute_result"
    }
   ],
   "source": [
    "_ss1.index"
   ]
  },
  {
   "cell_type": "code",
   "execution_count": 1640,
   "metadata": {},
   "outputs": [],
   "source": [
    "_ss=_s.groupby([co.RL,FLAG]).sum()"
   ]
  },
  {
   "cell_type": "code",
   "execution_count": 1707,
   "metadata": {},
   "outputs": [
    {
     "data": {
      "text/plain": [
       "releases\n",
       "2017-12-06 00:00:00    1163160.000\n",
       "2017-12-06 04:00:00    1183681.125\n",
       "2017-12-06 08:00:00    1165872.875\n",
       "2017-12-06 12:00:00    1140446.750\n",
       "2017-12-06 16:00:00    1133189.750\n",
       "                          ...     \n",
       "2018-05-16 04:00:00    1218196.875\n",
       "2018-05-16 08:00:00    1190629.625\n",
       "2018-05-16 12:00:00    1162780.500\n",
       "2018-05-16 16:00:00    1155520.500\n",
       "2018-05-16 20:00:00    1160928.000\n",
       "Freq: 4H, Length: 972, dtype: float32"
      ]
     },
     "execution_count": 1707,
     "metadata": {},
     "output_type": "execute_result"
    }
   ],
   "source": [
    "_ss1.T.sum()"
   ]
  },
  {
   "cell_type": "code",
   "execution_count": 1716,
   "metadata": {},
   "outputs": [
    {
     "data": {
      "text/html": [
       "<div>\n",
       "<style scoped>\n",
       "    .dataframe tbody tr th:only-of-type {\n",
       "        vertical-align: middle;\n",
       "    }\n",
       "\n",
       "    .dataframe tbody tr th {\n",
       "        vertical-align: top;\n",
       "    }\n",
       "\n",
       "    .dataframe thead th {\n",
       "        text-align: right;\n",
       "    }\n",
       "</style>\n",
       "<table border=\"1\" class=\"dataframe\">\n",
       "  <thead>\n",
       "    <tr style=\"text-align: right;\">\n",
       "      <th>FLAG</th>\n",
       "      <th>0</th>\n",
       "      <th>1</th>\n",
       "      <th>2</th>\n",
       "      <th>3</th>\n",
       "    </tr>\n",
       "    <tr>\n",
       "      <th>releases</th>\n",
       "      <th></th>\n",
       "      <th></th>\n",
       "      <th></th>\n",
       "      <th></th>\n",
       "    </tr>\n",
       "  </thead>\n",
       "  <tbody>\n",
       "    <tr>\n",
       "      <td>2017-12-06 00:00:00</td>\n",
       "      <td>67.080063</td>\n",
       "      <td>1.107536</td>\n",
       "      <td>0.478345</td>\n",
       "      <td>31.334049</td>\n",
       "    </tr>\n",
       "    <tr>\n",
       "      <td>2017-12-06 04:00:00</td>\n",
       "      <td>55.759872</td>\n",
       "      <td>2.127027</td>\n",
       "      <td>0.238362</td>\n",
       "      <td>41.874737</td>\n",
       "    </tr>\n",
       "    <tr>\n",
       "      <td>2017-12-06 08:00:00</td>\n",
       "      <td>54.586044</td>\n",
       "      <td>3.660066</td>\n",
       "      <td>0.707027</td>\n",
       "      <td>41.046860</td>\n",
       "    </tr>\n",
       "    <tr>\n",
       "      <td>2017-12-06 12:00:00</td>\n",
       "      <td>63.323002</td>\n",
       "      <td>4.568666</td>\n",
       "      <td>2.024078</td>\n",
       "      <td>30.084253</td>\n",
       "    </tr>\n",
       "    <tr>\n",
       "      <td>2017-12-06 16:00:00</td>\n",
       "      <td>68.655212</td>\n",
       "      <td>4.610296</td>\n",
       "      <td>3.084455</td>\n",
       "      <td>23.650034</td>\n",
       "    </tr>\n",
       "    <tr>\n",
       "      <td>...</td>\n",
       "      <td>...</td>\n",
       "      <td>...</td>\n",
       "      <td>...</td>\n",
       "      <td>...</td>\n",
       "    </tr>\n",
       "    <tr>\n",
       "      <td>2018-05-16 04:00:00</td>\n",
       "      <td>7.056922</td>\n",
       "      <td>5.449931</td>\n",
       "      <td>1.421618</td>\n",
       "      <td>86.071533</td>\n",
       "    </tr>\n",
       "    <tr>\n",
       "      <td>2018-05-16 08:00:00</td>\n",
       "      <td>8.056033</td>\n",
       "      <td>6.027965</td>\n",
       "      <td>1.470926</td>\n",
       "      <td>84.445076</td>\n",
       "    </tr>\n",
       "    <tr>\n",
       "      <td>2018-05-16 12:00:00</td>\n",
       "      <td>10.990602</td>\n",
       "      <td>5.656886</td>\n",
       "      <td>2.557094</td>\n",
       "      <td>80.795410</td>\n",
       "    </tr>\n",
       "    <tr>\n",
       "      <td>2018-05-16 16:00:00</td>\n",
       "      <td>15.469702</td>\n",
       "      <td>8.418975</td>\n",
       "      <td>5.891901</td>\n",
       "      <td>70.219421</td>\n",
       "    </tr>\n",
       "    <tr>\n",
       "      <td>2018-05-16 20:00:00</td>\n",
       "      <td>17.624662</td>\n",
       "      <td>12.804130</td>\n",
       "      <td>8.295924</td>\n",
       "      <td>61.275276</td>\n",
       "    </tr>\n",
       "  </tbody>\n",
       "</table>\n",
       "<p>972 rows × 4 columns</p>\n",
       "</div>"
      ],
      "text/plain": [
       "FLAG                         0          1         2          3\n",
       "releases                                                      \n",
       "2017-12-06 00:00:00  67.080063   1.107536  0.478345  31.334049\n",
       "2017-12-06 04:00:00  55.759872   2.127027  0.238362  41.874737\n",
       "2017-12-06 08:00:00  54.586044   3.660066  0.707027  41.046860\n",
       "2017-12-06 12:00:00  63.323002   4.568666  2.024078  30.084253\n",
       "2017-12-06 16:00:00  68.655212   4.610296  3.084455  23.650034\n",
       "...                        ...        ...       ...        ...\n",
       "2018-05-16 04:00:00   7.056922   5.449931  1.421618  86.071533\n",
       "2018-05-16 08:00:00   8.056033   6.027965  1.470926  84.445076\n",
       "2018-05-16 12:00:00  10.990602   5.656886  2.557094  80.795410\n",
       "2018-05-16 16:00:00  15.469702   8.418975  5.891901  70.219421\n",
       "2018-05-16 20:00:00  17.624662  12.804130  8.295924  61.275276\n",
       "\n",
       "[972 rows x 4 columns]"
      ]
     },
     "execution_count": 1716,
     "metadata": {},
     "output_type": "execute_result"
    }
   ],
   "source": []
  },
  {
   "cell_type": "code",
   "execution_count": 1762,
   "metadata": {},
   "outputs": [
    {
     "data": {
      "text/plain": [
       "<xarray.Dataset>\n",
       "Dimensions:                (CLUS_LENGTH_DIM: 23, R_CENTER: 36, TH_CENTER: 36, ZMID: 6)\n",
       "Coordinates:\n",
       "  * R_CENTER               (R_CENTER) float64 0.05613 0.06721 ... 25.53 30.57\n",
       "  * TH_CENTER              (TH_CENTER) float64 0.08727 0.2618 ... 6.021 6.196\n",
       "  * ZMID                   (ZMID) float64 250.0 1e+03 2.5e+03 ... 8.5e+03 2e+04\n",
       "  * CLUS_LENGTH_DIM        (CLUS_LENGTH_DIM) int64 2 3 4 5 6 ... 20 21 22 23 24\n",
       "Data variables:\n",
       "    CONC                   (R_CENTER, TH_CENTER, ZMID) float32 0.0 ... 19.452196\n",
       "    CONC_SUM               (R_CENTER, TH_CENTER, ZMID) float32 0.0 ... 19.452196\n",
       "    LAB_CLUSTER_THRESHOLD  (R_CENTER, TH_CENTER, ZMID) int64 0 0 0 0 ... 0 0 0 0\n",
       "    CONC_NORMALIZED        (R_CENTER, TH_CENTER, ZMID) float32 0.0 ... 5.8444667\n",
       "    CONC_NORMS             (R_CENTER, TH_CENTER, ZMID) float32 1.0 ... 3.3283105\n",
       "    FLAG                   (CLUS_LENGTH_DIM, R_CENTER, TH_CENTER, ZMID) int64 1 ... 19\n",
       "    SIL_SC                 (CLUS_LENGTH_DIM) float64 0.1219 0.1336 ... 0.1694\n",
       "    SIL_SAMPLE             (CLUS_LENGTH_DIM, R_CENTER, TH_CENTER, ZMID) float64 0.0 ... 0.0"
      ]
     },
     "execution_count": 1762,
     "metadata": {},
     "output_type": "execute_result"
    }
   ],
   "source": []
  },
  {
   "cell_type": "code",
   "execution_count": 1767,
   "metadata": {},
   "outputs": [],
   "source": [
    "_ds = dsF[[co.LAT_00,co.LON_00,co.LAT_10,co.LON_10,co.LAT_11,co.LON_11,co.LAT_01,co.LON_01]]"
   ]
  },
  {
   "cell_type": "code",
   "execution_count": 1768,
   "metadata": {},
   "outputs": [
    {
     "data": {
      "text/plain": [
       "<xarray.Dataset>\n",
       "Dimensions:                (CLUS_LENGTH_DIM: 23, R_CENTER: 36, TH_CENTER: 36, ZMID: 6, releases: 972)\n",
       "Coordinates:\n",
       "  * R_CENTER               (R_CENTER) float64 0.05613 0.06721 ... 25.53 30.57\n",
       "  * TH_CENTER              (TH_CENTER) float64 0.08727 0.2618 ... 6.021 6.196\n",
       "  * ZMID                   (ZMID) float64 250.0 1e+03 2.5e+03 ... 8.5e+03 2e+04\n",
       "  * releases               (releases) datetime64[ns] 2017-12-06T01:30:00 ... 2018-05-16T21:30:00\n",
       "  * CLUS_LENGTH_DIM        (CLUS_LENGTH_DIM) int64 2 3 4 5 6 ... 20 21 22 23 24\n",
       "    LAT_00                 (R_CENTER, TH_CENTER) float64 -16.3 -16.3 ... 11.16\n",
       "    LON_00                 (R_CENTER, TH_CENTER) float64 -68.13 ... -72.98\n",
       "    LAT_10                 (R_CENTER, TH_CENTER) float64 -16.29 -16.29 ... 16.59\n",
       "    LON_10                 (R_CENTER, TH_CENTER) float64 -68.13 ... -73.94\n",
       "    LAT_11                 (R_CENTER, TH_CENTER) float64 -16.29 -16.29 ... 17.1\n",
       "    LON_11                 (R_CENTER, TH_CENTER) float64 -68.12 ... -68.13\n",
       "    LAT_01                 (R_CENTER, TH_CENTER) float64 -16.3 -16.3 ... 11.59\n",
       "    LON_01                 (R_CENTER, TH_CENTER) float64 -68.12 ... -68.13\n",
       "    LON                    (R_CENTER, TH_CENTER) float64 -68.08 ... -37.68\n",
       "    GRIDAREA               (R_CENTER, TH_CENTER) float64 1.178e+06 ... 3.528e+11\n",
       "    LAT                    (R_CENTER, TH_CENTER) float64 -16.29 -16.3 ... 14.1\n",
       "Data variables:\n",
       "    CONC                   (R_CENTER, TH_CENTER, ZMID, releases) float32 0.0 ... 0.0\n",
       "    CONC_SUM               (R_CENTER, TH_CENTER, ZMID) float32 0.0 ... 19.452196\n",
       "    LAB_CLUSTER_THRESHOLD  (R_CENTER, TH_CENTER, ZMID) bool False ... False\n",
       "    CONC_NORMALIZED        (releases, R_CENTER, TH_CENTER, ZMID) float32 0.0 ... 0.0\n",
       "    CONC_NORMS             (R_CENTER, TH_CENTER, ZMID) float32 1.0 ... 3.3283105\n",
       "    KMEAN_LAB              (CLUS_LENGTH_DIM) object KMeans(algorithm='auto', copy_x=True, init='k-means++', max_iter=300,\n",
       "       n_clusters=2, n_init=10, n_jobs=None, precompute_distances='auto',\n",
       "       random_state=388345, tol=0.0001, verbose=0) ... KMeans(algorithm='auto', copy_x=True, init='k-means++', max_iter=300,\n",
       "       n_clusters=24, n_init=10, n_jobs=None, precompute_distances='auto',\n",
       "       random_state=388345, tol=0.0001, verbose=0)\n",
       "    FLAG                   (CLUS_LENGTH_DIM, R_CENTER, TH_CENTER, ZMID) int32 1 ... 19\n",
       "    SIL_SC                 (CLUS_LENGTH_DIM) float64 0.1219 0.1336 ... 0.1694\n",
       "    SIL_SAMPLE             (CLUS_LENGTH_DIM, R_CENTER, TH_CENTER, ZMID) float64 nan ... nan"
      ]
     },
     "execution_count": 1768,
     "metadata": {},
     "output_type": "execute_result"
    }
   ],
   "source": [
    "\n"
   ]
  },
  {
   "cell_type": "code",
   "execution_count": 2110,
   "metadata": {},
   "outputs": [],
   "source": [
    "_f = 0\n",
    "_ds = dscc.loc[{CLUS_LENGTH_DIM:_n}]\n",
    "_km = _ds[co.R_CENTER]*100\n",
    "\n",
    "DIS = 'Distance [km]'\n",
    "_km.name=DIS\n",
    "\n",
    "_ds = _ds.assign_coords(**{DIS:_km})"
   ]
  },
  {
   "cell_type": "code",
   "execution_count": 2111,
   "metadata": {},
   "outputs": [],
   "source": [
    "# _ds = dscc.loc[{CLUS_LENGTH_DIM:_n}]\n",
    "_ds = _ds.drop(KMEAN_OBJ)\n",
    "_ds = _ds.where(_ds[FLAG]==_f)\n",
    "_ds = _ds.sum([co.RL])"
   ]
  },
  {
   "cell_type": "code",
   "execution_count": 2112,
   "metadata": {},
   "outputs": [],
   "source": [
    "_ds1 = xr.merge([_ds,dsF[co.TOPO].mean(co.RL)]).where(_ds[FLAG]==_f)"
   ]
  },
  {
   "cell_type": "code",
   "execution_count": 2033,
   "metadata": {},
   "outputs": [
    {
     "data": {
      "image/png": "[encoded data removed]",
      "text/plain": [
       "<Figure size 432x288 with 1 Axes>"
      ]
     },
     "metadata": {},
     "output_type": "display_data"
    }
   ],
   "source": [
    "_dh = (_ds1[co.CONC]*(_ds1[co.TOPO]+_ds1[co.ZM])).mean([co.TH_CENTER,co.ZM])\n",
    "_dh = _dh/(_ds1[co.CONC].mean([co.TH_CENTER,co.ZM]))\n",
    "\n",
    "_,ax = plt.subplots()\n",
    "_dh.plot(x=DIS,color = [*ucp.cc,*ucp.cc][_f],ax=ax)\n",
    "ax.set_xscale('log')\n",
    "# ax.set_yscale('log')\n",
    "ax.set_xlim(10,2e3)\n",
    "# ax.set_ylim(25e1,2e4)\n",
    "ax.set_title(str(_f));"
   ]
  },
  {
   "cell_type": "code",
   "execution_count": 2028,
   "metadata": {},
   "outputs": [],
   "source": [
    "_dh = (_ds1[co.CONC]*(_ds1[co.TOPO])).mean([co.TH_CENTER,co.ZM])\n",
    "_dh = _dh/(_ds1[co.CONC].mean([co.TH_CENTER,co.ZM]))\n",
    "\n",
    "# _,ax = plt.subplots()\n",
    "_dh.plot(x=DIS,color = 'k',ax=ax)\n",
    "ax.set_xscale('log')\n",
    "# ax.set_yscale('log')\n",
    "ax.set_xlim(10,2e3)\n",
    "# ax.set_ylim(25e1,2e4)\n",
    "ax.set_title(str(_f));"
   ]
  },
  {
   "cell_type": "code",
   "execution_count": 2029,
   "metadata": {},
   "outputs": [
    {
     "data": {
      "image/png": "[encoded data removed]",
      "text/plain": [
       "<Figure size 432x288 with 1 Axes>"
      ]
     },
     "execution_count": 2029,
     "metadata": {},
     "output_type": "execute_result"
    }
   ],
   "source": [
    "ax.figure"
   ]
  },
  {
   "cell_type": "code",
   "execution_count": 2070,
   "metadata": {},
   "outputs": [],
   "source": []
  },
  {
   "cell_type": "code",
   "execution_count": 2108,
   "metadata": {},
   "outputs": [],
   "source": []
  },
  {
   "cell_type": "code",
   "execution_count": 2109,
   "metadata": {},
   "outputs": [
    {
     "data": {
      "text/plain": [
       "<xarray.Dataset>\n",
       "Dimensions:                (R_CENTER: 36, TH_CENTER: 36, ZMID: 6)\n",
       "Coordinates:\n",
       "  * R_CENTER               (R_CENTER) float64 0.05613 0.06721 ... 25.53 30.57\n",
       "  * TH_CENTER              (TH_CENTER) float64 0.08727 0.2618 ... 6.021 6.196\n",
       "  * ZMID                   (ZMID) float64 250.0 1e+03 2.5e+03 ... 8.5e+03 2e+04\n",
       "    CLUS_LENGTH_DIM        int64 18\n",
       "    LAT_00                 (R_CENTER, TH_CENTER) float64 -16.3 -16.3 ... 11.16\n",
       "    LON_00                 (R_CENTER, TH_CENTER) float64 -68.13 ... -72.98\n",
       "    LAT_10                 (R_CENTER, TH_CENTER) float64 -16.29 -16.29 ... 16.59\n",
       "    LON_10                 (R_CENTER, TH_CENTER) float64 -68.13 ... -73.94\n",
       "    LAT_11                 (R_CENTER, TH_CENTER) float64 -16.29 -16.29 ... 17.1\n",
       "    LON_11                 (R_CENTER, TH_CENTER) float64 -68.12 ... -68.13\n",
       "    LAT_01                 (R_CENTER, TH_CENTER) float64 -16.3 -16.3 ... 11.59\n",
       "    LON_01                 (R_CENTER, TH_CENTER) float64 -68.12 ... -68.13\n",
       "    LON                    (R_CENTER, TH_CENTER) float64 -68.08 ... -37.68\n",
       "    GRIDAREA               (R_CENTER, TH_CENTER) float64 1.178e+06 ... 3.528e+11\n",
       "    LAT                    (R_CENTER, TH_CENTER) float64 -16.29 -16.3 ... 14.1\n",
       "    Distance [km]          (R_CENTER) float64 5.613 6.721 ... 3.057e+03\n",
       "    ZBOT                   (ZMID) float64 0.0 500.0 1.5e+03 3.5e+03 7e+03 1e+04\n",
       "    ZLEN_M                 (ZMID) float64 500.0 1e+03 2e+03 3.5e+03 3e+03 2e+04\n",
       "    ZTOP                   (ZMID) float64 500.0 1.5e+03 3.5e+03 ... 1e+04 3e+04\n",
       "    VOL                    (R_CENTER, TH_CENTER, ZMID) float64 2.945e+08 ... 7.056e+15\n",
       "Data variables:\n",
       "    CONC                   (R_CENTER, TH_CENTER, ZMID) float32 0.0 0.0 ... 0.0\n",
       "    CONC_SUM               (R_CENTER, TH_CENTER, ZMID) float32 0.0 0.0 ... 0.0\n",
       "    LAB_CLUSTER_THRESHOLD  (R_CENTER, TH_CENTER, ZMID) float64 0.0 0.0 ... 0.0\n",
       "    CONC_NORMALIZED        (R_CENTER, TH_CENTER, ZMID) float32 0.0 0.0 ... 0.0\n",
       "    CONC_NORMS             (R_CENTER, TH_CENTER, ZMID) float32 0.0 0.0 ... 0.0\n",
       "    FLAG                   (R_CENTER, TH_CENTER, ZMID) float64 0.0 0.0 ... 0.0\n",
       "    SIL_SC                 (R_CENTER, TH_CENTER, ZMID) float64 0.0 0.0 ... 0.0\n",
       "    SIL_SAMPLE             (R_CENTER, TH_CENTER, ZMID) float64 0.0 0.0 ... 0.0\n",
       "    TOPOGRAPHY             (ZMID, R_CENTER, TH_CENTER) float32 4858.3833 ... 0.0\n",
       "    HEIGHT                 (ZMID, R_CENTER, TH_CENTER) float64 5.108e+03 ... 2e+04"
      ]
     },
     "execution_count": 2109,
     "metadata": {},
     "output_type": "execute_result"
    }
   ],
   "source": [
    "_ds1"
   ]
  },
  {
   "cell_type": "code",
   "execution_count": 2080,
   "metadata": {},
   "outputs": [],
   "source": [
    ".groupby(co.R_CENTER)"
   ]
  },
  {
   "cell_type": "code",
   "execution_count": 2137,
   "metadata": {},
   "outputs": [
    {
     "data": {
      "text/plain": [
       "<module 'funs' from '/Users/diego/flexpart_management/flexpart_management/notebooks/run_2019-08-18_18-46-19_/release_v01/funs.py'>"
      ]
     },
     "execution_count": 2137,
     "metadata": {},
     "output_type": "execute_result"
    }
   ],
   "source": [
    "\n",
    "funs\n"
   ]
  },
  {
   "cell_type": "code",
   "execution_count": 2107,
   "metadata": {},
   "outputs": [
    {
     "data": {
      "text/plain": [
       "<matplotlib.axes._subplots.AxesSubplot at 0x260b0cb38>"
      ]
     },
     "execution_count": 2107,
     "metadata": {},
     "output_type": "execute_result"
    },
    {
     "data": {
      "image/png": "[encoded data removed]",
      "text/plain": [
       "<Figure size 432x288 with 1 Axes>"
      ]
     },
     "metadata": {},
     "output_type": "display_data"
    }
   ],
   "source": [
    "_dg.plot()"
   ]
  },
  {
   "cell_type": "code",
   "execution_count": null,
   "metadata": {},
   "outputs": [],
   "source": []
  },
  {
   "cell_type": "code",
   "execution_count": 2098,
   "metadata": {},
   "outputs": [
    {
     "data": {
      "text/plain": [
       "True"
      ]
     },
     "execution_count": 2098,
     "metadata": {},
     "output_type": "execute_result"
    }
   ],
   "source": []
  },
  {
   "cell_type": "code",
   "execution_count": 2088,
   "metadata": {},
   "outputs": [],
   "source": []
  },
  {
   "cell_type": "code",
   "execution_count": 2090,
   "metadata": {},
   "outputs": [
    {
     "name": "stderr",
     "output_type": "stream",
     "text": [
      "/Users/diego/miniconda3/envs/b36/lib/python3.6/site-packages/ipykernel_launcher.py:33: RuntimeWarning: invalid value encountered in true_divide\n"
     ]
    },
    {
     "data": {
      "text/plain": [
       "250.0"
      ]
     },
     "execution_count": 2090,
     "metadata": {},
     "output_type": "execute_result"
    }
   ],
   "source": []
  },
  {
   "cell_type": "code",
   "execution_count": 2247,
   "metadata": {},
   "outputs": [
    {
     "data": {
      "text/plain": [
       "<xarray.Dataset>\n",
       "Dimensions:          (TH_CENTER: 36, ZMID: 6)\n",
       "Coordinates:\n",
       "    CLUS_LENGTH_DIM  int64 18\n",
       "    LON              (TH_CENTER) float64 -68.08 -68.08 -68.08 ... -68.08 -68.08\n",
       "    LON_00           (TH_CENTER) float64 -68.13 -68.12 -68.11 ... -68.15 -68.14\n",
       "    LON_11           (TH_CENTER) float64 -68.12 -68.11 -68.1 ... -68.14 -68.13\n",
       "    LAT_01           (TH_CENTER) float64 -16.3 -16.3 -16.31 ... -16.3 -16.3\n",
       "    Distance [km]    float64 5.613\n",
       "    ZLEN_M           (ZMID) float64 500.0 1e+03 2e+03 3.5e+03 3e+03 2e+04\n",
       "    R_CENTER         float64 0.05613\n",
       "  * TH_CENTER        (TH_CENTER) float64 0.08727 0.2618 0.4363 ... 6.021 6.196\n",
       "    ZBOT             (ZMID) float64 0.0 500.0 1.5e+03 3.5e+03 7e+03 1e+04\n",
       "  * ZMID             (ZMID) float64 250.0 1e+03 2.5e+03 5.25e+03 8.5e+03 2e+04\n",
       "    LON_10           (TH_CENTER) float64 -68.13 -68.12 -68.11 ... -68.15 -68.14\n",
       "    LON_01           (TH_CENTER) float64 -68.12 -68.11 -68.11 ... -68.14 -68.13\n",
       "    GRIDAREA         (TH_CENTER) float64 1.178e+06 1.178e+06 ... 1.178e+06\n",
       "    LAT_11           (TH_CENTER) float64 -16.29 -16.29 -16.3 ... -16.29 -16.29\n",
       "    VOL              (TH_CENTER, ZMID) float64 2.945e+08 1.178e+09 ... 2.356e+10\n",
       "    LAT              (TH_CENTER) float64 -16.29 -16.3 -16.3 ... -16.3 -16.29\n",
       "    ZTOP             (ZMID) float64 500.0 1.5e+03 3.5e+03 7e+03 1e+04 3e+04\n",
       "    LAT_10           (TH_CENTER) float64 -16.29 -16.29 -16.29 ... -16.29 -16.29\n",
       "    LAT_00           (TH_CENTER) float64 -16.3 -16.3 -16.3 ... -16.3 -16.3\n",
       "Data variables:\n",
       "    HEIGHT           (ZMID, TH_CENTER) float64 nan nan nan nan ... nan nan nan\n",
       "    CONC             (TH_CENTER, ZMID) float32 nan nan nan nan ... nan nan nan"
      ]
     },
     "execution_count": 2247,
     "metadata": {},
     "output_type": "execute_result"
    }
   ],
   "source": [
    "_df"
   ]
  },
  {
   "cell_type": "code",
   "execution_count": null,
   "metadata": {},
   "outputs": [],
   "source": []
  }
 ],
 "metadata": {
  "jupytext": {
   "text_representation": {
    "extension": ".py",
    "format_name": "percent",
    "format_version": "1.2",
    "jupytext_version": "1.2.3"
   }
  },
  "kernelspec": {
   "display_name": "Python 3",
   "language": "python",
   "name": "python3"
  },
  "language_info": {
   "codemirror_mode": {
    "name": "ipython",
    "version": 3
   },
   "file_extension": ".py",
   "mimetype": "text/x-python",
   "name": "python",
   "nbconvert_exporter": "python",
   "pygments_lexer": "ipython3",
   "version": "3.6.7"
  }
 },
 "nbformat": 4,
 "nbformat_minor": 4
}
