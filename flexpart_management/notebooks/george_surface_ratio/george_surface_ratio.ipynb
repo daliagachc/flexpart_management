{
 "cells": [
  {
   "cell_type": "code",
   "execution_count": null,
   "metadata": {
    "lines_to_next_cell": 0
   },
   "outputs": [],
   "source": [
    "import flexpart_management.notebooks.george_surface_ratio.george_surface_ratio_lfc as lfc\n",
    "from flexpart_management.notebooks.george_surface_ratio.george_surface_ratio_lfc import *"
   ]
  },
  {
   "cell_type": "code",
   "execution_count": null,
   "metadata": {
    "lines_to_next_cell": 0
   },
   "outputs": [],
   "source": []
  },
  {
   "cell_type": "code",
   "execution_count": null,
   "metadata": {
    "lines_to_next_cell": 0
   },
   "outputs": [],
   "source": [
    "\n",
    "ds = xr.open_dataset(\n",
    "    pjoin(co.tmp_data_path,'cluster_series_v3.nc'))"
   ]
  },
  {
   "cell_type": "code",
   "execution_count": null,
   "metadata": {
    "lines_to_next_cell": 0
   },
   "outputs": [],
   "source": [
    "dall = ds['conc_all'].loc[{'normalized':0}]\n",
    "zall = dall.loc[{'z_column':'ALL'}]\n",
    "z0 = dall.loc[{'z_column':'LEV0'}]\n",
    "zbl = dall.loc[{'z_column':'BL'}]"
   ]
  },
  {
   "cell_type": "code",
   "execution_count": null,
   "metadata": {
    "lines_to_next_cell": 0
   },
   "outputs": [],
   "source": [
    "ratio_z0_all = z0/zall\n",
    "ratio_bl_all = zbl/zall"
   ]
  },
  {
   "cell_type": "code",
   "execution_count": null,
   "metadata": {
    "lines_to_next_cell": 0
   },
   "outputs": [],
   "source": [
    "sns.distplot(ratio_z0_all, label='ratio_z0_all')\n",
    "sns.distplot(ratio_bl_all, label='ratio_bl_all')\n",
    "plt.gca().legend()\n",
    "plt.gca().set_xlabel('SRR ratio')\n",
    "plt.show()"
   ]
  },
  {
   "cell_type": "code",
   "execution_count": null,
   "metadata": {},
   "outputs": [],
   "source": [
    "df = pd.DataFrame()\n",
    "df['ratio_z0_all'] = ratio_z0_all.to_dataframe()['conc_all'] * 100\n",
    "df['ratio_bl_all'] = ratio_bl_all.to_dataframe()['conc_all'] * 100\n",
    "\n",
    "df['ym'] = pd.to_datetime(df.index.strftime('%Y-%m'))\n",
    "df['yms'] = df.index.strftime('%Y-%m')\n",
    "df['d'] = (df.index - df['ym'])/np.timedelta64(1, 'D')\n",
    "dg = df.groupby('yms')"
   ]
  },
  {
   "cell_type": "code",
   "execution_count": null,
   "metadata": {
    "lines_to_next_cell": 0
   },
   "outputs": [],
   "source": [
    "s = splot(6,1,sharex=True,sharey=True,figsize=(10,10))\n",
    "for ax,(l,_df) in zip(s.axf,dg):\n",
    "    ax.plot(_df['d'],_df['ratio_bl_all'],label='bl/all')\n",
    "    ax.plot(_df['d'], _df['ratio_z0_all'],label='z0/all')\n",
    "    ax.set_title(l)\n",
    "    ax.grid()\n",
    "    ax.set_xticks(np.arange(0,31),minor=True)\n",
    "    ax.set_xlim(0,31)\n",
    "    ax.grid(True,which='minor',axis='x')\n",
    "    ax.set_ylabel('SRR ratio [%]')\n",
    "s.axf[0].legend()\n",
    "s.axf[-1].set_xlabel('day of month [UTC]')\n",
    "\n",
    "plt.show()"
   ]
  },
  {
   "cell_type": "code",
   "execution_count": null,
   "metadata": {},
   "outputs": [],
   "source": [
    "df_out = df[['ratio_bl_all','ratio_z0_all']]\n",
    "df_out.index.name='date_utc'\n",
    "path_out = pjoin(os.path.dirname(lfc.__file__),'ratios.csv')\n",
    "df_out.to_csv(path_out)"
   ]
  },
  {
   "cell_type": "code",
   "execution_count": null,
   "metadata": {
    "lines_to_next_cell": 0
   },
   "outputs": [],
   "source": []
  },
  {
   "cell_type": "code",
   "execution_count": null,
   "metadata": {
    "lines_to_next_cell": 0
   },
   "outputs": [],
   "source": []
  },
  {
   "cell_type": "code",
   "execution_count": null,
   "metadata": {
    "lines_to_next_cell": 0
   },
   "outputs": [],
   "source": [
    "\n"
   ]
  },
  {
   "cell_type": "code",
   "execution_count": null,
   "metadata": {
    "lines_to_next_cell": 0
   },
   "outputs": [],
   "source": []
  },
  {
   "cell_type": "code",
   "execution_count": null,
   "metadata": {
    "lines_to_next_cell": 0
   },
   "outputs": [],
   "source": []
  },
  {
   "cell_type": "code",
   "execution_count": null,
   "metadata": {
    "lines_to_next_cell": 0
   },
   "outputs": [],
   "source": []
  },
  {
   "cell_type": "code",
   "execution_count": null,
   "metadata": {
    "lines_to_next_cell": 0
   },
   "outputs": [],
   "source": []
  },
  {
   "cell_type": "code",
   "execution_count": null,
   "metadata": {
    "lines_to_next_cell": 0
   },
   "outputs": [],
   "source": []
  },
  {
   "cell_type": "code",
   "execution_count": null,
   "metadata": {
    "lines_to_next_cell": 0
   },
   "outputs": [],
   "source": []
  },
  {
   "cell_type": "code",
   "execution_count": null,
   "metadata": {
    "lines_to_next_cell": 0
   },
   "outputs": [],
   "source": []
  },
  {
   "cell_type": "code",
   "execution_count": null,
   "metadata": {
    "lines_to_next_cell": 3
   },
   "outputs": [],
   "source": []
  },
  {
   "cell_type": "code",
   "execution_count": null,
   "metadata": {
    "lines_to_next_cell": 0
   },
   "outputs": [],
   "source": []
  },
  {
   "cell_type": "code",
   "execution_count": null,
   "metadata": {
    "lines_to_next_cell": 3
   },
   "outputs": [],
   "source": []
  }
 ],
 "metadata": {
  "jupytext": {
   "formats": "ipynb,py:percent"
  },
  "kernelspec": {
   "display_name": "Python 3",
   "language": "python",
   "name": "python3"
  }
 },
 "nbformat": 4,
 "nbformat_minor": 4
}
