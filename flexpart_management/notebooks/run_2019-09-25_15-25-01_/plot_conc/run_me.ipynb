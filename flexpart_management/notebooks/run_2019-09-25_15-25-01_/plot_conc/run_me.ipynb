{
 "cells": [
  {
   "cell_type": "code",
   "execution_count": 1,
   "metadata": {},
   "outputs": [
    {
     "name": "stdout",
     "output_type": "stream",
     "text": [
      "reload\n"
     ]
    }
   ],
   "source": [
    "from useful_scit.imps import (pd,np,xr,za,mpl,plt,sns, pjoin, os,glob,dt,\n",
    "    sys,ucp,log, splot, crt,axsplot)\n",
    "import flexpart_management.modules.constants as co\n",
    "import flexpart_management.modules.flx_array as fa"
   ]
  },
  {
   "cell_type": "code",
   "execution_count": 5,
   "metadata": {},
   "outputs": [
    {
     "data": {
      "text/plain": [
       "['/homeappl/home/aliagadi/appl_taito/miniconda3/envs/b36backup/lib/python3.6/site-packages/ipykernel_launcher.py',\n",
       " '-f',\n",
       " '/homeappl/home/aliagadi/.local/share/jupyter/runtime/kernel-72f8fbc3-0ad8-436c-be80-a5c0fad941f2.json']"
      ]
     },
     "execution_count": 5,
     "metadata": {},
     "output_type": "execute_result"
    }
   ],
   "source": [
    "print(sys.argv)"
   ]
  },
  {
   "cell_type": "code",
   "execution_count": null,
   "metadata": {},
   "outputs": [],
   "source": [
    "PATH_IN = sys.argv[1]\n",
    "PATH_OUT = sys.argv[2]\n",
    "DOM = sys.argv[3]"
   ]
  },
  {
   "cell_type": "code",
   "execution_count": 26,
   "metadata": {},
   "outputs": [],
   "source": [
    "# PATH_IN = '/homeappl/home/aliagadi/wrk/DONOTREMOVE/flexpart_management_data/'+\\\n",
    "# 'runs/run_2019-09-25_15-25-01_/2018-01-01/'\n",
    "# PATH_OUT = '/homeappl/home/aliagadi/wrk/DONOTREMOVE/flexpart_management_data/'+\\\n",
    "# 'runs/run_2019-09-25_15-25-01_/check_plots'\n",
    "# DOM = 1"
   ]
  },
  {
   "cell_type": "code",
   "execution_count": 12,
   "metadata": {},
   "outputs": [],
   "source": [
    "path = os.path.join(PATH_IN,f'flx*_d0{DOM}*.nc')"
   ]
  },
  {
   "cell_type": "code",
   "execution_count": 13,
   "metadata": {},
   "outputs": [],
   "source": [
    "os.makedirs(PATH_OUT,exist_ok=True)"
   ]
  },
  {
   "cell_type": "code",
   "execution_count": 14,
   "metadata": {},
   "outputs": [],
   "source": [
    "ls_files = glob.glob(path)"
   ]
  },
  {
   "cell_type": "code",
   "execution_count": 15,
   "metadata": {},
   "outputs": [],
   "source": [
    "ls_files.sort()"
   ]
  },
  {
   "cell_type": "code",
   "execution_count": 16,
   "metadata": {},
   "outputs": [],
   "source": [
    "P='PATH'\n",
    "N='NAME'\n",
    "D='DOM'\n",
    "O='OUT'\n",
    "ND = 'NAME_DAY'\n",
    "DO = 'DIR_OUT'\n",
    "df = pd.DataFrame(ls_files,columns=[P])"
   ]
  },
  {
   "cell_type": "code",
   "execution_count": 22,
   "metadata": {},
   "outputs": [
    {
     "data": {
      "text/html": [
       "<div>\n",
       "<style scoped>\n",
       "    .dataframe tbody tr th:only-of-type {\n",
       "        vertical-align: middle;\n",
       "    }\n",
       "\n",
       "    .dataframe tbody tr th {\n",
       "        vertical-align: top;\n",
       "    }\n",
       "\n",
       "    .dataframe thead th {\n",
       "        text-align: right;\n",
       "    }\n",
       "</style>\n",
       "<table border=\"1\" class=\"dataframe\">\n",
       "  <thead>\n",
       "    <tr style=\"text-align: right;\">\n",
       "      <th></th>\n",
       "      <th>PATH</th>\n",
       "      <th>NAME</th>\n",
       "      <th>NAME_DAY</th>\n",
       "      <th>OUT</th>\n",
       "      <th>DIR_OUT</th>\n",
       "      <th>DOM</th>\n",
       "    </tr>\n",
       "  </thead>\n",
       "  <tbody>\n",
       "    <tr>\n",
       "      <td>0</td>\n",
       "      <td>/homeappl/home/aliagadi/wrk/DONOTREMOVE/flexpa...</td>\n",
       "      <td>flxout_d01_20171228_000000.nc</td>\n",
       "      <td>2018-01-01</td>\n",
       "      <td>/homeappl/home/aliagadi/wrk/DONOTREMOVE/flexpa...</td>\n",
       "      <td>/homeappl/home/aliagadi/wrk/DONOTREMOVE/flexpa...</td>\n",
       "      <td>1</td>\n",
       "    </tr>\n",
       "    <tr>\n",
       "      <td>1</td>\n",
       "      <td>/homeappl/home/aliagadi/wrk/DONOTREMOVE/flexpa...</td>\n",
       "      <td>flxout_d01_20171228_010000.nc</td>\n",
       "      <td>2018-01-01</td>\n",
       "      <td>/homeappl/home/aliagadi/wrk/DONOTREMOVE/flexpa...</td>\n",
       "      <td>/homeappl/home/aliagadi/wrk/DONOTREMOVE/flexpa...</td>\n",
       "      <td>1</td>\n",
       "    </tr>\n",
       "    <tr>\n",
       "      <td>2</td>\n",
       "      <td>/homeappl/home/aliagadi/wrk/DONOTREMOVE/flexpa...</td>\n",
       "      <td>flxout_d01_20171228_020000.nc</td>\n",
       "      <td>2018-01-01</td>\n",
       "      <td>/homeappl/home/aliagadi/wrk/DONOTREMOVE/flexpa...</td>\n",
       "      <td>/homeappl/home/aliagadi/wrk/DONOTREMOVE/flexpa...</td>\n",
       "      <td>1</td>\n",
       "    </tr>\n",
       "    <tr>\n",
       "      <td>3</td>\n",
       "      <td>/homeappl/home/aliagadi/wrk/DONOTREMOVE/flexpa...</td>\n",
       "      <td>flxout_d01_20171228_030000.nc</td>\n",
       "      <td>2018-01-01</td>\n",
       "      <td>/homeappl/home/aliagadi/wrk/DONOTREMOVE/flexpa...</td>\n",
       "      <td>/homeappl/home/aliagadi/wrk/DONOTREMOVE/flexpa...</td>\n",
       "      <td>1</td>\n",
       "    </tr>\n",
       "    <tr>\n",
       "      <td>4</td>\n",
       "      <td>/homeappl/home/aliagadi/wrk/DONOTREMOVE/flexpa...</td>\n",
       "      <td>flxout_d01_20171228_040000.nc</td>\n",
       "      <td>2018-01-01</td>\n",
       "      <td>/homeappl/home/aliagadi/wrk/DONOTREMOVE/flexpa...</td>\n",
       "      <td>/homeappl/home/aliagadi/wrk/DONOTREMOVE/flexpa...</td>\n",
       "      <td>1</td>\n",
       "    </tr>\n",
       "    <tr>\n",
       "      <td>...</td>\n",
       "      <td>...</td>\n",
       "      <td>...</td>\n",
       "      <td>...</td>\n",
       "      <td>...</td>\n",
       "      <td>...</td>\n",
       "      <td>...</td>\n",
       "    </tr>\n",
       "    <tr>\n",
       "      <td>115</td>\n",
       "      <td>/homeappl/home/aliagadi/wrk/DONOTREMOVE/flexpa...</td>\n",
       "      <td>flxout_d01_20180101_190000.nc</td>\n",
       "      <td>2018-01-01</td>\n",
       "      <td>/homeappl/home/aliagadi/wrk/DONOTREMOVE/flexpa...</td>\n",
       "      <td>/homeappl/home/aliagadi/wrk/DONOTREMOVE/flexpa...</td>\n",
       "      <td>1</td>\n",
       "    </tr>\n",
       "    <tr>\n",
       "      <td>116</td>\n",
       "      <td>/homeappl/home/aliagadi/wrk/DONOTREMOVE/flexpa...</td>\n",
       "      <td>flxout_d01_20180101_200000.nc</td>\n",
       "      <td>2018-01-01</td>\n",
       "      <td>/homeappl/home/aliagadi/wrk/DONOTREMOVE/flexpa...</td>\n",
       "      <td>/homeappl/home/aliagadi/wrk/DONOTREMOVE/flexpa...</td>\n",
       "      <td>1</td>\n",
       "    </tr>\n",
       "    <tr>\n",
       "      <td>117</td>\n",
       "      <td>/homeappl/home/aliagadi/wrk/DONOTREMOVE/flexpa...</td>\n",
       "      <td>flxout_d01_20180101_210000.nc</td>\n",
       "      <td>2018-01-01</td>\n",
       "      <td>/homeappl/home/aliagadi/wrk/DONOTREMOVE/flexpa...</td>\n",
       "      <td>/homeappl/home/aliagadi/wrk/DONOTREMOVE/flexpa...</td>\n",
       "      <td>1</td>\n",
       "    </tr>\n",
       "    <tr>\n",
       "      <td>118</td>\n",
       "      <td>/homeappl/home/aliagadi/wrk/DONOTREMOVE/flexpa...</td>\n",
       "      <td>flxout_d01_20180101_220000.nc</td>\n",
       "      <td>2018-01-01</td>\n",
       "      <td>/homeappl/home/aliagadi/wrk/DONOTREMOVE/flexpa...</td>\n",
       "      <td>/homeappl/home/aliagadi/wrk/DONOTREMOVE/flexpa...</td>\n",
       "      <td>1</td>\n",
       "    </tr>\n",
       "    <tr>\n",
       "      <td>119</td>\n",
       "      <td>/homeappl/home/aliagadi/wrk/DONOTREMOVE/flexpa...</td>\n",
       "      <td>flxout_d01_20180101_230000.nc</td>\n",
       "      <td>2018-01-01</td>\n",
       "      <td>/homeappl/home/aliagadi/wrk/DONOTREMOVE/flexpa...</td>\n",
       "      <td>/homeappl/home/aliagadi/wrk/DONOTREMOVE/flexpa...</td>\n",
       "      <td>1</td>\n",
       "    </tr>\n",
       "  </tbody>\n",
       "</table>\n",
       "<p>120 rows × 6 columns</p>\n",
       "</div>"
      ],
      "text/plain": [
       "                                                  PATH  \\\n",
       "0    /homeappl/home/aliagadi/wrk/DONOTREMOVE/flexpa...   \n",
       "1    /homeappl/home/aliagadi/wrk/DONOTREMOVE/flexpa...   \n",
       "2    /homeappl/home/aliagadi/wrk/DONOTREMOVE/flexpa...   \n",
       "3    /homeappl/home/aliagadi/wrk/DONOTREMOVE/flexpa...   \n",
       "4    /homeappl/home/aliagadi/wrk/DONOTREMOVE/flexpa...   \n",
       "..                                                 ...   \n",
       "115  /homeappl/home/aliagadi/wrk/DONOTREMOVE/flexpa...   \n",
       "116  /homeappl/home/aliagadi/wrk/DONOTREMOVE/flexpa...   \n",
       "117  /homeappl/home/aliagadi/wrk/DONOTREMOVE/flexpa...   \n",
       "118  /homeappl/home/aliagadi/wrk/DONOTREMOVE/flexpa...   \n",
       "119  /homeappl/home/aliagadi/wrk/DONOTREMOVE/flexpa...   \n",
       "\n",
       "                              NAME    NAME_DAY  \\\n",
       "0    flxout_d01_20171228_000000.nc  2018-01-01   \n",
       "1    flxout_d01_20171228_010000.nc  2018-01-01   \n",
       "2    flxout_d01_20171228_020000.nc  2018-01-01   \n",
       "3    flxout_d01_20171228_030000.nc  2018-01-01   \n",
       "4    flxout_d01_20171228_040000.nc  2018-01-01   \n",
       "..                             ...         ...   \n",
       "115  flxout_d01_20180101_190000.nc  2018-01-01   \n",
       "116  flxout_d01_20180101_200000.nc  2018-01-01   \n",
       "117  flxout_d01_20180101_210000.nc  2018-01-01   \n",
       "118  flxout_d01_20180101_220000.nc  2018-01-01   \n",
       "119  flxout_d01_20180101_230000.nc  2018-01-01   \n",
       "\n",
       "                                                   OUT  \\\n",
       "0    /homeappl/home/aliagadi/wrk/DONOTREMOVE/flexpa...   \n",
       "1    /homeappl/home/aliagadi/wrk/DONOTREMOVE/flexpa...   \n",
       "2    /homeappl/home/aliagadi/wrk/DONOTREMOVE/flexpa...   \n",
       "3    /homeappl/home/aliagadi/wrk/DONOTREMOVE/flexpa...   \n",
       "4    /homeappl/home/aliagadi/wrk/DONOTREMOVE/flexpa...   \n",
       "..                                                 ...   \n",
       "115  /homeappl/home/aliagadi/wrk/DONOTREMOVE/flexpa...   \n",
       "116  /homeappl/home/aliagadi/wrk/DONOTREMOVE/flexpa...   \n",
       "117  /homeappl/home/aliagadi/wrk/DONOTREMOVE/flexpa...   \n",
       "118  /homeappl/home/aliagadi/wrk/DONOTREMOVE/flexpa...   \n",
       "119  /homeappl/home/aliagadi/wrk/DONOTREMOVE/flexpa...   \n",
       "\n",
       "                                               DIR_OUT  DOM  \n",
       "0    /homeappl/home/aliagadi/wrk/DONOTREMOVE/flexpa...    1  \n",
       "1    /homeappl/home/aliagadi/wrk/DONOTREMOVE/flexpa...    1  \n",
       "2    /homeappl/home/aliagadi/wrk/DONOTREMOVE/flexpa...    1  \n",
       "3    /homeappl/home/aliagadi/wrk/DONOTREMOVE/flexpa...    1  \n",
       "4    /homeappl/home/aliagadi/wrk/DONOTREMOVE/flexpa...    1  \n",
       "..                                                 ...  ...  \n",
       "115  /homeappl/home/aliagadi/wrk/DONOTREMOVE/flexpa...    1  \n",
       "116  /homeappl/home/aliagadi/wrk/DONOTREMOVE/flexpa...    1  \n",
       "117  /homeappl/home/aliagadi/wrk/DONOTREMOVE/flexpa...    1  \n",
       "118  /homeappl/home/aliagadi/wrk/DONOTREMOVE/flexpa...    1  \n",
       "119  /homeappl/home/aliagadi/wrk/DONOTREMOVE/flexpa...    1  \n",
       "\n",
       "[120 rows x 6 columns]"
      ]
     },
     "execution_count": 22,
     "metadata": {},
     "output_type": "execute_result"
    }
   ],
   "source": [
    "df[N]=df[P].apply(lambda p: os.path.basename(p))\n",
    "df[ND]=df.apply(lambda r: os.path.basename(os.path.dirname(r[P])),axis=1)\n",
    "df[O]=df.apply(lambda r: os.path.join(PATH_OUT,r[ND],r[N]+'.jpg'),axis=1)\n",
    "df[DO]=df.apply(lambda r: os.path.dirname(r[O]),axis=1)\n",
    "df[D]=df[N].str.extract('_d0(.)').astype(int)\n",
    "df"
   ]
  },
  {
   "cell_type": "code",
   "execution_count": 23,
   "metadata": {},
   "outputs": [],
   "source": [
    "_dn = df[ND]\n",
    "_dn = _dn.drop_duplicates()\n",
    "_dd = df[D]\n",
    "_dd = _dd.drop_duplicates()"
   ]
  },
  {
   "cell_type": "code",
   "execution_count": 29,
   "metadata": {},
   "outputs": [
    {
     "name": "stdout",
     "output_type": "stream",
     "text": [
      "/homeappl/home/aliagadi/wrk/DONOTREMOVE/flexpart_management_data/runs/run_2019-09-25_15-25-01_/check_plots/2018-01-01_01.jpg\n"
     ]
    }
   ],
   "source": [
    "for dom in _dd:\n",
    "    for day in _dn:\n",
    "        dfs = df[(df[ND]==day)&(df[D]==dom)]\n",
    "        out = f'{dfs[DO].iloc[0]}_0{dom}.jpg'\n",
    "        print(out)\n",
    "        ax = axsplot()\n",
    "        try:\n",
    "            ds =xr.open_mfdataset(dfs.iloc[:][P],concat_dim=co.TIME,combine='nested', preprocess=fa.convert_ds_time_format)\n",
    "            ds.sum(fa.get_dims_complement(ds,co.TIME))[co.CONC].plot(ax=ax)\n",
    "            \n",
    "        except: pass\n",
    "        ax.set_title(f'dom:{dom} - day:{day}')\n",
    "        \n",
    "        ax.figure.tight_layout()\n",
    "        ax.figure.savefig(out)\n",
    "        plt.close(ax.figure)\n",
    "        print('done')\n",
    "        \n"
   ]
  },
  {
   "cell_type": "code",
   "execution_count": null,
   "metadata": {},
   "outputs": [],
   "source": []
  }
 ],
 "metadata": {
  "jupytext": {
   "text_representation": {
    "extension": ".py",
    "format_name": "percent",
    "format_version": "1.2",
    "jupytext_version": "1.2.3"
   }
  },
  "kernelspec": {
   "display_name": "Python 3",
   "language": "python",
   "name": "python3"
  },
  "language_info": {
   "codemirror_mode": {
    "name": "ipython",
    "version": 3
   },
   "file_extension": ".py",
   "mimetype": "text/x-python",
   "name": "python",
   "nbconvert_exporter": "python",
   "pygments_lexer": "ipython3",
   "version": "3.6.9"
  }
 },
 "nbformat": 4,
 "nbformat_minor": 4
}
