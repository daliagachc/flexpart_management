{
 "cells": [
  {
   "cell_type": "code",
   "execution_count": null,
   "metadata": {
    "lines_to_next_cell": 2
   },
   "outputs": [],
   "source": [
    "import flexpart_management.notebooks.release_ds_v3.release_ds_v3_lfc as lfc\n",
    "from flexpart_management.notebooks.release_ds_v3.release_ds_v3_lfc import *"
   ]
  },
  {
   "cell_type": "code",
   "execution_count": null,
   "metadata": {},
   "outputs": [],
   "source": [
    "\n",
    "\n",
    "def main():\n",
    "    # %%\n",
    "    ds = get_dcc().load()\n",
    "    # %%\n",
    "    big_ds = xr.Dataset()\n",
    "    all_ds = get_co_all(ds)\n",
    "    # %%\n",
    "    dsMAX = all_ds.max()\n",
    "    dsMAX_theory = (24*4*3600)\n",
    "    # %%\n",
    "    all_age = get_all_age(ds)\n",
    "    # %%\n",
    "    all_dis = get_all_r(ds) * 100\n",
    "    # %%\n",
    "    all_zsl = get_all_zsl(ds)\n",
    "    # %%\n",
    "    ang_clock_all = get_clock_dir_all(ds)\n",
    "\n",
    "    # %%\n",
    "    all_ds18 = get_lab_ser(N18, ds)\n",
    "    all_ds6 = get_lab_ser(N6, ds)\n",
    "    # %%\n",
    "    surf_ds18 = get_lab_ser_surf(N18, ds)\n",
    "    surf_ds6 = get_lab_ser_surf(N6, ds)\n",
    "    # %%\n",
    "    all_age_18 = get_lab_age(N18, ds)\n",
    "    all_age_6  = get_lab_age(N6, ds)\n",
    "\n",
    "    # %%\n",
    "    surf_age_18 = get_lab_age_surf(N18, ds)\n",
    "    surf_age_6 = get_lab_age_surf(N6, ds)\n",
    "    # %%\n",
    "    mega_ds = merge_all(all_age, all_age_18, all_age_6, all_dis, all_ds,\n",
    "                        all_ds18, all_ds6, all_zsl, dsMAX_theory, surf_age_18,\n",
    "                        surf_age_6, surf_ds18, surf_ds6)\n",
    "    mega_ds\n",
    "    # %%\n",
    "    mega_ds\n",
    "\n",
    "\n",
    "\n",
    "\n",
    "\n",
    "    # %%\n",
    "    plt_diag(all_age, all_dis, all_ds, all_zsl, ang_clock_all)\n",
    "\n",
    "    # %%\n",
    "    _s = (ds[CO]*ds[co.ZM]).sum([co.RL,co.TH_CENTER,co.ZM])/ds[CO].sum([co.RL,co.TH_CENTER,co.ZM])\n",
    "    _s.plot()\n",
    "    plt.show()\n",
    "    # %%\n",
    "\n",
    "\n",
    "\n",
    "    df:pd.DataFrame  = all_age_18.to_dataframe()\n",
    "    df.dropna().reset_index(level=N18).hist(by=N18,sharex=True,sharey=True,figsize=(10,10))\n",
    "    plt.tight_layout()\n",
    "    plt.show()\n",
    "\n",
    "\n",
    "\n",
    "    # %%\n",
    "    # %%\n",
    "    all_ds[CALL].plot(hue=ZCOL)\n",
    "    plt.show()\n",
    "    # %%\n",
    "\n",
    "    # %%\n",
    "    # %%\n",
    "    # %%\n",
    "\n",
    "    # %%\n",
    "    # %%\n",
    "    big_ds.loc[{NORM:False}][CALL].plot(row=ZCOL,figsize=(20,5),)\n",
    "    plt.show()\n",
    "    # %%\n",
    "    # %%\n",
    "\n",
    "    # %%\n",
    "\n",
    "\n"
   ]
  },
  {
   "cell_type": "code",
   "execution_count": null,
   "metadata": {
    "lines_to_next_cell": 0
   },
   "outputs": [],
   "source": []
  },
  {
   "cell_type": "code",
   "execution_count": null,
   "metadata": {
    "lines_to_next_cell": 0
   },
   "outputs": [],
   "source": []
  },
  {
   "cell_type": "code",
   "execution_count": null,
   "metadata": {
    "lines_to_next_cell": 0
   },
   "outputs": [],
   "source": []
  },
  {
   "cell_type": "code",
   "execution_count": null,
   "metadata": {
    "lines_to_next_cell": 0
   },
   "outputs": [],
   "source": []
  },
  {
   "cell_type": "code",
   "execution_count": null,
   "metadata": {
    "lines_to_next_cell": 0
   },
   "outputs": [],
   "source": []
  },
  {
   "cell_type": "code",
   "execution_count": null,
   "metadata": {
    "lines_to_next_cell": 0
   },
   "outputs": [],
   "source": []
  },
  {
   "cell_type": "code",
   "execution_count": null,
   "metadata": {
    "lines_to_next_cell": 0
   },
   "outputs": [],
   "source": []
  },
  {
   "cell_type": "code",
   "execution_count": null,
   "metadata": {
    "lines_to_next_cell": 0
   },
   "outputs": [],
   "source": []
  },
  {
   "cell_type": "code",
   "execution_count": null,
   "metadata": {
    "lines_to_next_cell": 0
   },
   "outputs": [],
   "source": []
  },
  {
   "cell_type": "code",
   "execution_count": null,
   "metadata": {
    "lines_to_next_cell": 0
   },
   "outputs": [],
   "source": []
  },
  {
   "cell_type": "code",
   "execution_count": null,
   "metadata": {
    "lines_to_next_cell": 0
   },
   "outputs": [],
   "source": []
  }
 ],
 "metadata": {
  "jupytext": {
   "formats": "ipynb,py:percent"
  },
  "kernelspec": {
   "display_name": "Python 3",
   "language": "python",
   "name": "python3"
  },
  "language_info": {
   "codemirror_mode": {
    "name": "ipython",
    "version": 3
   },
   "file_extension": ".py",
   "mimetype": "text/x-python",
   "name": "python",
   "nbconvert_exporter": "python",
   "pygments_lexer": "ipython3",
   "version": "3.6.10"
  }
 },
 "nbformat": 4,
 "nbformat_minor": 4
}
