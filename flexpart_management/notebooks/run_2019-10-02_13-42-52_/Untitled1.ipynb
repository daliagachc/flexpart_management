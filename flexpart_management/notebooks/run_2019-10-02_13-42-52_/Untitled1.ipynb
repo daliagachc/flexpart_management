{
 "cells": [
  {
   "cell_type": "code",
   "execution_count": 1,
   "metadata": {},
   "outputs": [],
   "source": [
    "from useful_scit.imps import *"
   ]
  },
  {
   "cell_type": "code",
   "execution_count": 26,
   "metadata": {},
   "outputs": [
    {
     "name": "stdout",
     "output_type": "stream",
     "text": [
      "reload\n"
     ]
    }
   ],
   "source": [
    "import flexpart_management.modules.flx_array as fa"
   ]
  },
  {
   "cell_type": "code",
   "execution_count": 2,
   "metadata": {},
   "outputs": [],
   "source": [
    "res = !pwd\n",
    "\n",
    "run_name = os.path.basename(res[0])\n",
    "\n",
    "base_path = '/homeappl/home/aliagadi/wrk/DONOTREMOVE/flexpart_management_data/runs/'\n",
    "\n",
    "path_run = os.path.join(base_path,run_name)\n",
    "root_path = os.path.join(path_run,'*-*-*')\n",
    "path_out = os.path.join(base_path,'log_pol')\n",
    "paths = glob.glob(root_path)\n",
    "paths.sort()"
   ]
  },
  {
   "cell_type": "code",
   "execution_count": 32,
   "metadata": {},
   "outputs": [],
   "source": [
    "path = paths[10]\n",
    "files = glob.glob( os.path.join( path, '*d01*.nc' ) )"
   ]
  },
  {
   "cell_type": "code",
   "execution_count": 33,
   "metadata": {},
   "outputs": [],
   "source": [
    "file = files[10]"
   ]
  },
  {
   "cell_type": "code",
   "execution_count": 42,
   "metadata": {},
   "outputs": [],
   "source": [
    "ds = xr.open_dataset (file)"
   ]
  },
  {
   "cell_type": "code",
   "execution_count": 35,
   "metadata": {},
   "outputs": [],
   "source": [
    "head = !ls -uh {path}/*head*d01*.nc\n",
    "head = head[0]"
   ]
  },
  {
   "cell_type": "code",
   "execution_count": 36,
   "metadata": {},
   "outputs": [],
   "source": [
    "head_ds = xr.open_dataset(head)"
   ]
  },
  {
   "cell_type": "code",
   "execution_count": 43,
   "metadata": {},
   "outputs": [],
   "source": [
    "ds1 = fa.convert_ds_time_format(ds)"
   ]
  },
  {
   "cell_type": "code",
   "execution_count": 47,
   "metadata": {},
   "outputs": [],
   "source": [
    "tuned_flx_out = fa.get_and_tune_flexout_from_ds_and_head(ds1,head_ds)"
   ]
  },
  {
   "cell_type": "code",
   "execution_count": 49,
   "metadata": {},
   "outputs": [
    {
     "data": {
      "text/plain": [
       "<xarray.DataArray 'CONC' (R_CENTER: 7, TH_CENTER: 1)>\n",
       "array([[8.386925e-01],\n",
       "       [1.396656e+01],\n",
       "       [1.790983e+02],\n",
       "       [1.250230e+03],\n",
       "       [9.670568e+03],\n",
       "       [3.311039e+04],\n",
       "       [1.459440e+04]], dtype=float32)\n",
       "Coordinates:\n",
       "  * R_CENTER   (R_CENTER) float64 0.04979 0.1353 0.3679 1.0 2.718 7.389 20.09\n",
       "  * TH_CENTER  (TH_CENTER) float64 5.0\n",
       "    LAT        (R_CENTER, TH_CENTER) float64 -16.34 -16.31 ... -14.25 -10.65\n",
       "    LON        (R_CENTER, TH_CENTER) float64 -68.12 -68.09 ... -66.04 -62.43\n",
       "    LAT_00     (R_CENTER, TH_CENTER) float64 -16.32 -16.27 ... -11.87 -4.168\n",
       "    LON_00     (R_CENTER, TH_CENTER) float64 -68.13 -68.13 ... -68.13 -68.13\n",
       "    LAT_10     (R_CENTER, TH_CENTER) float64 -16.27 -16.13 ... -4.168 16.77\n",
       "    LON_10     (R_CENTER, TH_CENTER) float64 -68.13 -68.13 ... -68.13 -68.13\n",
       "    LAT_11     (R_CENTER, TH_CENTER) float64 -16.42 -16.54 ... -26.57 -44.14\n",
       "    LON_11     (R_CENTER, TH_CENTER) float64 -68.18 -68.25 ... -74.76 -86.15\n",
       "    LAT_01     (R_CENTER, TH_CENTER) float64 -16.38 -16.42 ... -20.11 -26.57\n",
       "    LON_01     (R_CENTER, TH_CENTER) float64 -68.15 -68.18 ... -70.57 -74.76\n",
       "    GRIDAREA   (R_CENTER, TH_CENTER) float64 1.885e+07 1.393e+08 ... 3.238e+12"
      ]
     },
     "execution_count": 49,
     "metadata": {},
     "output_type": "execute_result"
    }
   ],
   "source": [
    "fa.data_array_to_logpolar( tuned_flx_out['CONC'],\n",
    "                           1,\n",
    "                           10\n",
    "                         )"
   ]
  },
  {
   "cell_type": "code",
   "execution_count": null,
   "metadata": {},
   "outputs": [],
   "source": []
  }
 ],
 "metadata": {
  "jupytext": {
   "text_representation": {
    "extension": ".py",
    "format_name": "percent",
    "format_version": "1.2",
    "jupytext_version": "1.2.3"
   }
  },
  "kernelspec": {
   "display_name": "Python 3",
   "language": "python",
   "name": "python3"
  },
  "language_info": {
   "codemirror_mode": {
    "name": "ipython",
    "version": 3
   },
   "file_extension": ".py",
   "mimetype": "text/x-python",
   "name": "python",
   "nbconvert_exporter": "python",
   "pygments_lexer": "ipython3",
   "version": "3.6.9"
  }
 },
 "nbformat": 4,
 "nbformat_minor": 4
}
