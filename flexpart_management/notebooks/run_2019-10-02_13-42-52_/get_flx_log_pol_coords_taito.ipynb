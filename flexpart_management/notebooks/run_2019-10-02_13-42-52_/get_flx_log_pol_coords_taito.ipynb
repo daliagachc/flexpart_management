{
 "cells": [
  {
   "cell_type": "code",
   "execution_count": 1,
   "metadata": {
    "pycharm": {
     "is_executing": false
    }
   },
   "outputs": [],
   "source": [
    "# this notebook was created to convert rectanfular coo"
   ]
  },
  {
   "cell_type": "code",
   "execution_count": 1,
   "metadata": {
    "pycharm": {
     "is_executing": false
    }
   },
   "outputs": [
    {
     "name": "stdout",
     "output_type": "stream",
     "text": [
      "reload\n"
     ]
    }
   ],
   "source": [
    "import flexpart_management.modules.FLEXOUT as FO\n",
    "import flexpart_management.modules.flx_array as fa\n",
    "from useful_scit.imps import *"
   ]
  },
  {
   "cell_type": "code",
   "execution_count": 2,
   "metadata": {},
   "outputs": [],
   "source": [
    "log.ger.setLevel(log.log.DEBUG)"
   ]
  },
  {
   "cell_type": "code",
   "execution_count": 3,
   "metadata": {
    "collapsed": false,
    "jupyter": {
     "outputs_hidden": false
    },
    "pycharm": {
     "is_executing": false,
     "name": "#%%\n"
    }
   },
   "outputs": [],
   "source": [
    "# def main():"
   ]
  },
  {
   "cell_type": "code",
   "execution_count": 5,
   "metadata": {
    "collapsed": false,
    "jupyter": {
     "outputs_hidden": false
    },
    "pycharm": {
     "name": "#%%\n"
    }
   },
   "outputs": [],
   "source": [
    "res = !pwd\n",
    "doms = ['d01','d02']\n",
    "root_path = '/Volumes/mbProD/Downloads/flex_out/run_2019-06-02_20-42-05_/*-*-*'\n",
    "root_path = '/homeappl/home/aliagadi/wrk/DONOTREMOVE/flexpart_management_data/runs/run_2019-06-05_18-42-11_/*-*-*'\n",
    "path_out = '/homeappl/home/aliagadi/wrk/DONOTREMOVE/flexpart_management_data/runs/run_2019-06-05_18-42-11_/log_pol'\n",
    "\n",
    "run_name = 'run_2019-10-02_13-42-52_'\n",
    "run_name = os.path.basename(res[0])\n",
    "\n",
    "base_path = '/homeappl/home/aliagadi/wrk/DONOTREMOVE/flexpart_management_data/runs/'\n",
    "\n",
    "path_run = os.path.join(base_path,run_name)\n",
    "root_path = os.path.join(path_run,'*-*-*')\n",
    "path_out = os.path.join(base_path,run_name,'log_pol')\n",
    "paths = glob.glob(root_path)\n",
    "paths.sort()"
   ]
  },
  {
   "cell_type": "code",
   "execution_count": 6,
   "metadata": {},
   "outputs": [
    {
     "data": {
      "text/plain": [
       "'run_2019-10-02_13-42-52_'"
      ]
     },
     "execution_count": 6,
     "metadata": {},
     "output_type": "execute_result"
    }
   ],
   "source": [
    "run_name"
   ]
  },
  {
   "cell_type": "code",
   "execution_count": 7,
   "metadata": {
    "collapsed": false,
    "jupyter": {
     "outputs_hidden": false
    },
    "pycharm": {
     "name": "#%%\n"
    }
   },
   "outputs": [],
   "source": [
    "fo_base_dic  = dict(\n",
    "# dom = 'd01',\n",
    "# folder_path = '/Volumes/mbProD/Downloads/flex_out/run_2019-06-02_20-42-05_/2017-12-10',\n",
    "folder_path_out = path_out,\n",
    "run_name= run_name,\n",
    ")"
   ]
  },
  {
   "cell_type": "code",
   "execution_count": 8,
   "metadata": {},
   "outputs": [
    {
     "data": {
      "text/plain": [
       "['/homeappl/home/aliagadi/wrk/DONOTREMOVE/flexpart_management_data/runs/run_2019-10-02_13-42-52_/2017-12-06',\n",
       " '/homeappl/home/aliagadi/wrk/DONOTREMOVE/flexpart_management_data/runs/run_2019-10-02_13-42-52_/2017-12-07',\n",
       " '/homeappl/home/aliagadi/wrk/DONOTREMOVE/flexpart_management_data/runs/run_2019-10-02_13-42-52_/2017-12-08',\n",
       " '/homeappl/home/aliagadi/wrk/DONOTREMOVE/flexpart_management_data/runs/run_2019-10-02_13-42-52_/2017-12-09',\n",
       " '/homeappl/home/aliagadi/wrk/DONOTREMOVE/flexpart_management_data/runs/run_2019-10-02_13-42-52_/2017-12-10',\n",
       " '/homeappl/home/aliagadi/wrk/DONOTREMOVE/flexpart_management_data/runs/run_2019-10-02_13-42-52_/2017-12-11',\n",
       " '/homeappl/home/aliagadi/wrk/DONOTREMOVE/flexpart_management_data/runs/run_2019-10-02_13-42-52_/2017-12-12',\n",
       " '/homeappl/home/aliagadi/wrk/DONOTREMOVE/flexpart_management_data/runs/run_2019-10-02_13-42-52_/2017-12-13',\n",
       " '/homeappl/home/aliagadi/wrk/DONOTREMOVE/flexpart_management_data/runs/run_2019-10-02_13-42-52_/2017-12-14',\n",
       " '/homeappl/home/aliagadi/wrk/DONOTREMOVE/flexpart_management_data/runs/run_2019-10-02_13-42-52_/2017-12-15',\n",
       " '/homeappl/home/aliagadi/wrk/DONOTREMOVE/flexpart_management_data/runs/run_2019-10-02_13-42-52_/2017-12-16',\n",
       " '/homeappl/home/aliagadi/wrk/DONOTREMOVE/flexpart_management_data/runs/run_2019-10-02_13-42-52_/2017-12-17',\n",
       " '/homeappl/home/aliagadi/wrk/DONOTREMOVE/flexpart_management_data/runs/run_2019-10-02_13-42-52_/2017-12-18',\n",
       " '/homeappl/home/aliagadi/wrk/DONOTREMOVE/flexpart_management_data/runs/run_2019-10-02_13-42-52_/2017-12-19',\n",
       " '/homeappl/home/aliagadi/wrk/DONOTREMOVE/flexpart_management_data/runs/run_2019-10-02_13-42-52_/2017-12-20',\n",
       " '/homeappl/home/aliagadi/wrk/DONOTREMOVE/flexpart_management_data/runs/run_2019-10-02_13-42-52_/2017-12-21',\n",
       " '/homeappl/home/aliagadi/wrk/DONOTREMOVE/flexpart_management_data/runs/run_2019-10-02_13-42-52_/2017-12-22',\n",
       " '/homeappl/home/aliagadi/wrk/DONOTREMOVE/flexpart_management_data/runs/run_2019-10-02_13-42-52_/2017-12-23',\n",
       " '/homeappl/home/aliagadi/wrk/DONOTREMOVE/flexpart_management_data/runs/run_2019-10-02_13-42-52_/2017-12-24',\n",
       " '/homeappl/home/aliagadi/wrk/DONOTREMOVE/flexpart_management_data/runs/run_2019-10-02_13-42-52_/2017-12-25',\n",
       " '/homeappl/home/aliagadi/wrk/DONOTREMOVE/flexpart_management_data/runs/run_2019-10-02_13-42-52_/2017-12-26',\n",
       " '/homeappl/home/aliagadi/wrk/DONOTREMOVE/flexpart_management_data/runs/run_2019-10-02_13-42-52_/2017-12-27',\n",
       " '/homeappl/home/aliagadi/wrk/DONOTREMOVE/flexpart_management_data/runs/run_2019-10-02_13-42-52_/2017-12-28',\n",
       " '/homeappl/home/aliagadi/wrk/DONOTREMOVE/flexpart_management_data/runs/run_2019-10-02_13-42-52_/2017-12-29',\n",
       " '/homeappl/home/aliagadi/wrk/DONOTREMOVE/flexpart_management_data/runs/run_2019-10-02_13-42-52_/2017-12-30',\n",
       " '/homeappl/home/aliagadi/wrk/DONOTREMOVE/flexpart_management_data/runs/run_2019-10-02_13-42-52_/2017-12-31',\n",
       " '/homeappl/home/aliagadi/wrk/DONOTREMOVE/flexpart_management_data/runs/run_2019-10-02_13-42-52_/2018-01-01',\n",
       " '/homeappl/home/aliagadi/wrk/DONOTREMOVE/flexpart_management_data/runs/run_2019-10-02_13-42-52_/2018-01-02',\n",
       " '/homeappl/home/aliagadi/wrk/DONOTREMOVE/flexpart_management_data/runs/run_2019-10-02_13-42-52_/2018-01-03',\n",
       " '/homeappl/home/aliagadi/wrk/DONOTREMOVE/flexpart_management_data/runs/run_2019-10-02_13-42-52_/2018-01-04',\n",
       " '/homeappl/home/aliagadi/wrk/DONOTREMOVE/flexpart_management_data/runs/run_2019-10-02_13-42-52_/2018-01-05',\n",
       " '/homeappl/home/aliagadi/wrk/DONOTREMOVE/flexpart_management_data/runs/run_2019-10-02_13-42-52_/2018-01-06',\n",
       " '/homeappl/home/aliagadi/wrk/DONOTREMOVE/flexpart_management_data/runs/run_2019-10-02_13-42-52_/2018-01-07',\n",
       " '/homeappl/home/aliagadi/wrk/DONOTREMOVE/flexpart_management_data/runs/run_2019-10-02_13-42-52_/2018-01-08',\n",
       " '/homeappl/home/aliagadi/wrk/DONOTREMOVE/flexpart_management_data/runs/run_2019-10-02_13-42-52_/2018-01-09',\n",
       " '/homeappl/home/aliagadi/wrk/DONOTREMOVE/flexpart_management_data/runs/run_2019-10-02_13-42-52_/2018-01-10',\n",
       " '/homeappl/home/aliagadi/wrk/DONOTREMOVE/flexpart_management_data/runs/run_2019-10-02_13-42-52_/2018-01-11',\n",
       " '/homeappl/home/aliagadi/wrk/DONOTREMOVE/flexpart_management_data/runs/run_2019-10-02_13-42-52_/2018-01-12',\n",
       " '/homeappl/home/aliagadi/wrk/DONOTREMOVE/flexpart_management_data/runs/run_2019-10-02_13-42-52_/2018-01-13',\n",
       " '/homeappl/home/aliagadi/wrk/DONOTREMOVE/flexpart_management_data/runs/run_2019-10-02_13-42-52_/2018-01-14',\n",
       " '/homeappl/home/aliagadi/wrk/DONOTREMOVE/flexpart_management_data/runs/run_2019-10-02_13-42-52_/2018-01-15',\n",
       " '/homeappl/home/aliagadi/wrk/DONOTREMOVE/flexpart_management_data/runs/run_2019-10-02_13-42-52_/2018-01-16',\n",
       " '/homeappl/home/aliagadi/wrk/DONOTREMOVE/flexpart_management_data/runs/run_2019-10-02_13-42-52_/2018-01-17',\n",
       " '/homeappl/home/aliagadi/wrk/DONOTREMOVE/flexpart_management_data/runs/run_2019-10-02_13-42-52_/2018-01-18',\n",
       " '/homeappl/home/aliagadi/wrk/DONOTREMOVE/flexpart_management_data/runs/run_2019-10-02_13-42-52_/2018-01-19',\n",
       " '/homeappl/home/aliagadi/wrk/DONOTREMOVE/flexpart_management_data/runs/run_2019-10-02_13-42-52_/2018-01-20',\n",
       " '/homeappl/home/aliagadi/wrk/DONOTREMOVE/flexpart_management_data/runs/run_2019-10-02_13-42-52_/2018-01-21',\n",
       " '/homeappl/home/aliagadi/wrk/DONOTREMOVE/flexpart_management_data/runs/run_2019-10-02_13-42-52_/2018-01-22',\n",
       " '/homeappl/home/aliagadi/wrk/DONOTREMOVE/flexpart_management_data/runs/run_2019-10-02_13-42-52_/2018-01-23',\n",
       " '/homeappl/home/aliagadi/wrk/DONOTREMOVE/flexpart_management_data/runs/run_2019-10-02_13-42-52_/2018-01-24',\n",
       " '/homeappl/home/aliagadi/wrk/DONOTREMOVE/flexpart_management_data/runs/run_2019-10-02_13-42-52_/2018-01-25',\n",
       " '/homeappl/home/aliagadi/wrk/DONOTREMOVE/flexpart_management_data/runs/run_2019-10-02_13-42-52_/2018-01-26',\n",
       " '/homeappl/home/aliagadi/wrk/DONOTREMOVE/flexpart_management_data/runs/run_2019-10-02_13-42-52_/2018-01-27',\n",
       " '/homeappl/home/aliagadi/wrk/DONOTREMOVE/flexpart_management_data/runs/run_2019-10-02_13-42-52_/2018-01-28',\n",
       " '/homeappl/home/aliagadi/wrk/DONOTREMOVE/flexpart_management_data/runs/run_2019-10-02_13-42-52_/2018-01-29',\n",
       " '/homeappl/home/aliagadi/wrk/DONOTREMOVE/flexpart_management_data/runs/run_2019-10-02_13-42-52_/2018-01-30',\n",
       " '/homeappl/home/aliagadi/wrk/DONOTREMOVE/flexpart_management_data/runs/run_2019-10-02_13-42-52_/2018-01-31',\n",
       " '/homeappl/home/aliagadi/wrk/DONOTREMOVE/flexpart_management_data/runs/run_2019-10-02_13-42-52_/2018-02-01',\n",
       " '/homeappl/home/aliagadi/wrk/DONOTREMOVE/flexpart_management_data/runs/run_2019-10-02_13-42-52_/2018-02-02',\n",
       " '/homeappl/home/aliagadi/wrk/DONOTREMOVE/flexpart_management_data/runs/run_2019-10-02_13-42-52_/2018-02-03',\n",
       " '/homeappl/home/aliagadi/wrk/DONOTREMOVE/flexpart_management_data/runs/run_2019-10-02_13-42-52_/2018-02-04',\n",
       " '/homeappl/home/aliagadi/wrk/DONOTREMOVE/flexpart_management_data/runs/run_2019-10-02_13-42-52_/2018-02-05',\n",
       " '/homeappl/home/aliagadi/wrk/DONOTREMOVE/flexpart_management_data/runs/run_2019-10-02_13-42-52_/2018-02-06',\n",
       " '/homeappl/home/aliagadi/wrk/DONOTREMOVE/flexpart_management_data/runs/run_2019-10-02_13-42-52_/2018-02-07',\n",
       " '/homeappl/home/aliagadi/wrk/DONOTREMOVE/flexpart_management_data/runs/run_2019-10-02_13-42-52_/2018-02-08',\n",
       " '/homeappl/home/aliagadi/wrk/DONOTREMOVE/flexpart_management_data/runs/run_2019-10-02_13-42-52_/2018-02-09',\n",
       " '/homeappl/home/aliagadi/wrk/DONOTREMOVE/flexpart_management_data/runs/run_2019-10-02_13-42-52_/2018-02-10',\n",
       " '/homeappl/home/aliagadi/wrk/DONOTREMOVE/flexpart_management_data/runs/run_2019-10-02_13-42-52_/2018-02-11',\n",
       " '/homeappl/home/aliagadi/wrk/DONOTREMOVE/flexpart_management_data/runs/run_2019-10-02_13-42-52_/2018-02-12',\n",
       " '/homeappl/home/aliagadi/wrk/DONOTREMOVE/flexpart_management_data/runs/run_2019-10-02_13-42-52_/2018-02-13',\n",
       " '/homeappl/home/aliagadi/wrk/DONOTREMOVE/flexpart_management_data/runs/run_2019-10-02_13-42-52_/2018-02-14',\n",
       " '/homeappl/home/aliagadi/wrk/DONOTREMOVE/flexpart_management_data/runs/run_2019-10-02_13-42-52_/2018-02-15',\n",
       " '/homeappl/home/aliagadi/wrk/DONOTREMOVE/flexpart_management_data/runs/run_2019-10-02_13-42-52_/2018-02-16',\n",
       " '/homeappl/home/aliagadi/wrk/DONOTREMOVE/flexpart_management_data/runs/run_2019-10-02_13-42-52_/2018-02-17',\n",
       " '/homeappl/home/aliagadi/wrk/DONOTREMOVE/flexpart_management_data/runs/run_2019-10-02_13-42-52_/2018-02-18',\n",
       " '/homeappl/home/aliagadi/wrk/DONOTREMOVE/flexpart_management_data/runs/run_2019-10-02_13-42-52_/2018-02-19',\n",
       " '/homeappl/home/aliagadi/wrk/DONOTREMOVE/flexpart_management_data/runs/run_2019-10-02_13-42-52_/2018-02-20',\n",
       " '/homeappl/home/aliagadi/wrk/DONOTREMOVE/flexpart_management_data/runs/run_2019-10-02_13-42-52_/2018-02-21',\n",
       " '/homeappl/home/aliagadi/wrk/DONOTREMOVE/flexpart_management_data/runs/run_2019-10-02_13-42-52_/2018-02-22',\n",
       " '/homeappl/home/aliagadi/wrk/DONOTREMOVE/flexpart_management_data/runs/run_2019-10-02_13-42-52_/2018-02-23',\n",
       " '/homeappl/home/aliagadi/wrk/DONOTREMOVE/flexpart_management_data/runs/run_2019-10-02_13-42-52_/2018-02-24',\n",
       " '/homeappl/home/aliagadi/wrk/DONOTREMOVE/flexpart_management_data/runs/run_2019-10-02_13-42-52_/2018-02-25',\n",
       " '/homeappl/home/aliagadi/wrk/DONOTREMOVE/flexpart_management_data/runs/run_2019-10-02_13-42-52_/2018-02-26',\n",
       " '/homeappl/home/aliagadi/wrk/DONOTREMOVE/flexpart_management_data/runs/run_2019-10-02_13-42-52_/2018-02-27',\n",
       " '/homeappl/home/aliagadi/wrk/DONOTREMOVE/flexpart_management_data/runs/run_2019-10-02_13-42-52_/2018-02-28',\n",
       " '/homeappl/home/aliagadi/wrk/DONOTREMOVE/flexpart_management_data/runs/run_2019-10-02_13-42-52_/2018-03-01',\n",
       " '/homeappl/home/aliagadi/wrk/DONOTREMOVE/flexpart_management_data/runs/run_2019-10-02_13-42-52_/2018-03-02',\n",
       " '/homeappl/home/aliagadi/wrk/DONOTREMOVE/flexpart_management_data/runs/run_2019-10-02_13-42-52_/2018-03-03',\n",
       " '/homeappl/home/aliagadi/wrk/DONOTREMOVE/flexpart_management_data/runs/run_2019-10-02_13-42-52_/2018-03-04',\n",
       " '/homeappl/home/aliagadi/wrk/DONOTREMOVE/flexpart_management_data/runs/run_2019-10-02_13-42-52_/2018-03-05',\n",
       " '/homeappl/home/aliagadi/wrk/DONOTREMOVE/flexpart_management_data/runs/run_2019-10-02_13-42-52_/2018-03-06',\n",
       " '/homeappl/home/aliagadi/wrk/DONOTREMOVE/flexpart_management_data/runs/run_2019-10-02_13-42-52_/2018-03-07',\n",
       " '/homeappl/home/aliagadi/wrk/DONOTREMOVE/flexpart_management_data/runs/run_2019-10-02_13-42-52_/2018-03-08',\n",
       " '/homeappl/home/aliagadi/wrk/DONOTREMOVE/flexpart_management_data/runs/run_2019-10-02_13-42-52_/2018-03-09',\n",
       " '/homeappl/home/aliagadi/wrk/DONOTREMOVE/flexpart_management_data/runs/run_2019-10-02_13-42-52_/2018-03-10',\n",
       " '/homeappl/home/aliagadi/wrk/DONOTREMOVE/flexpart_management_data/runs/run_2019-10-02_13-42-52_/2018-03-11',\n",
       " '/homeappl/home/aliagadi/wrk/DONOTREMOVE/flexpart_management_data/runs/run_2019-10-02_13-42-52_/2018-03-12',\n",
       " '/homeappl/home/aliagadi/wrk/DONOTREMOVE/flexpart_management_data/runs/run_2019-10-02_13-42-52_/2018-03-13',\n",
       " '/homeappl/home/aliagadi/wrk/DONOTREMOVE/flexpart_management_data/runs/run_2019-10-02_13-42-52_/2018-03-14',\n",
       " '/homeappl/home/aliagadi/wrk/DONOTREMOVE/flexpart_management_data/runs/run_2019-10-02_13-42-52_/2018-03-15',\n",
       " '/homeappl/home/aliagadi/wrk/DONOTREMOVE/flexpart_management_data/runs/run_2019-10-02_13-42-52_/2018-03-16',\n",
       " '/homeappl/home/aliagadi/wrk/DONOTREMOVE/flexpart_management_data/runs/run_2019-10-02_13-42-52_/2018-03-17',\n",
       " '/homeappl/home/aliagadi/wrk/DONOTREMOVE/flexpart_management_data/runs/run_2019-10-02_13-42-52_/2018-03-18',\n",
       " '/homeappl/home/aliagadi/wrk/DONOTREMOVE/flexpart_management_data/runs/run_2019-10-02_13-42-52_/2018-03-19',\n",
       " '/homeappl/home/aliagadi/wrk/DONOTREMOVE/flexpart_management_data/runs/run_2019-10-02_13-42-52_/2018-03-20',\n",
       " '/homeappl/home/aliagadi/wrk/DONOTREMOVE/flexpart_management_data/runs/run_2019-10-02_13-42-52_/2018-03-21',\n",
       " '/homeappl/home/aliagadi/wrk/DONOTREMOVE/flexpart_management_data/runs/run_2019-10-02_13-42-52_/2018-03-22',\n",
       " '/homeappl/home/aliagadi/wrk/DONOTREMOVE/flexpart_management_data/runs/run_2019-10-02_13-42-52_/2018-03-23',\n",
       " '/homeappl/home/aliagadi/wrk/DONOTREMOVE/flexpart_management_data/runs/run_2019-10-02_13-42-52_/2018-03-24',\n",
       " '/homeappl/home/aliagadi/wrk/DONOTREMOVE/flexpart_management_data/runs/run_2019-10-02_13-42-52_/2018-03-25',\n",
       " '/homeappl/home/aliagadi/wrk/DONOTREMOVE/flexpart_management_data/runs/run_2019-10-02_13-42-52_/2018-03-26',\n",
       " '/homeappl/home/aliagadi/wrk/DONOTREMOVE/flexpart_management_data/runs/run_2019-10-02_13-42-52_/2018-03-27',\n",
       " '/homeappl/home/aliagadi/wrk/DONOTREMOVE/flexpart_management_data/runs/run_2019-10-02_13-42-52_/2018-03-28',\n",
       " '/homeappl/home/aliagadi/wrk/DONOTREMOVE/flexpart_management_data/runs/run_2019-10-02_13-42-52_/2018-03-29',\n",
       " '/homeappl/home/aliagadi/wrk/DONOTREMOVE/flexpart_management_data/runs/run_2019-10-02_13-42-52_/2018-03-30',\n",
       " '/homeappl/home/aliagadi/wrk/DONOTREMOVE/flexpart_management_data/runs/run_2019-10-02_13-42-52_/2018-03-31',\n",
       " '/homeappl/home/aliagadi/wrk/DONOTREMOVE/flexpart_management_data/runs/run_2019-10-02_13-42-52_/2018-04-01',\n",
       " '/homeappl/home/aliagadi/wrk/DONOTREMOVE/flexpart_management_data/runs/run_2019-10-02_13-42-52_/2018-04-02',\n",
       " '/homeappl/home/aliagadi/wrk/DONOTREMOVE/flexpart_management_data/runs/run_2019-10-02_13-42-52_/2018-04-03',\n",
       " '/homeappl/home/aliagadi/wrk/DONOTREMOVE/flexpart_management_data/runs/run_2019-10-02_13-42-52_/2018-04-04',\n",
       " '/homeappl/home/aliagadi/wrk/DONOTREMOVE/flexpart_management_data/runs/run_2019-10-02_13-42-52_/2018-04-05',\n",
       " '/homeappl/home/aliagadi/wrk/DONOTREMOVE/flexpart_management_data/runs/run_2019-10-02_13-42-52_/2018-04-06',\n",
       " '/homeappl/home/aliagadi/wrk/DONOTREMOVE/flexpart_management_data/runs/run_2019-10-02_13-42-52_/2018-04-07',\n",
       " '/homeappl/home/aliagadi/wrk/DONOTREMOVE/flexpart_management_data/runs/run_2019-10-02_13-42-52_/2018-04-08',\n",
       " '/homeappl/home/aliagadi/wrk/DONOTREMOVE/flexpart_management_data/runs/run_2019-10-02_13-42-52_/2018-04-09',\n",
       " '/homeappl/home/aliagadi/wrk/DONOTREMOVE/flexpart_management_data/runs/run_2019-10-02_13-42-52_/2018-04-10',\n",
       " '/homeappl/home/aliagadi/wrk/DONOTREMOVE/flexpart_management_data/runs/run_2019-10-02_13-42-52_/2018-04-11',\n",
       " '/homeappl/home/aliagadi/wrk/DONOTREMOVE/flexpart_management_data/runs/run_2019-10-02_13-42-52_/2018-04-12',\n",
       " '/homeappl/home/aliagadi/wrk/DONOTREMOVE/flexpart_management_data/runs/run_2019-10-02_13-42-52_/2018-04-13',\n",
       " '/homeappl/home/aliagadi/wrk/DONOTREMOVE/flexpart_management_data/runs/run_2019-10-02_13-42-52_/2018-04-14',\n",
       " '/homeappl/home/aliagadi/wrk/DONOTREMOVE/flexpart_management_data/runs/run_2019-10-02_13-42-52_/2018-04-15',\n",
       " '/homeappl/home/aliagadi/wrk/DONOTREMOVE/flexpart_management_data/runs/run_2019-10-02_13-42-52_/2018-04-16',\n",
       " '/homeappl/home/aliagadi/wrk/DONOTREMOVE/flexpart_management_data/runs/run_2019-10-02_13-42-52_/2018-04-17',\n",
       " '/homeappl/home/aliagadi/wrk/DONOTREMOVE/flexpart_management_data/runs/run_2019-10-02_13-42-52_/2018-04-18',\n",
       " '/homeappl/home/aliagadi/wrk/DONOTREMOVE/flexpart_management_data/runs/run_2019-10-02_13-42-52_/2018-04-19',\n",
       " '/homeappl/home/aliagadi/wrk/DONOTREMOVE/flexpart_management_data/runs/run_2019-10-02_13-42-52_/2018-04-20',\n",
       " '/homeappl/home/aliagadi/wrk/DONOTREMOVE/flexpart_management_data/runs/run_2019-10-02_13-42-52_/2018-04-21',\n",
       " '/homeappl/home/aliagadi/wrk/DONOTREMOVE/flexpart_management_data/runs/run_2019-10-02_13-42-52_/2018-04-22',\n",
       " '/homeappl/home/aliagadi/wrk/DONOTREMOVE/flexpart_management_data/runs/run_2019-10-02_13-42-52_/2018-04-23',\n",
       " '/homeappl/home/aliagadi/wrk/DONOTREMOVE/flexpart_management_data/runs/run_2019-10-02_13-42-52_/2018-04-24',\n",
       " '/homeappl/home/aliagadi/wrk/DONOTREMOVE/flexpart_management_data/runs/run_2019-10-02_13-42-52_/2018-04-25',\n",
       " '/homeappl/home/aliagadi/wrk/DONOTREMOVE/flexpart_management_data/runs/run_2019-10-02_13-42-52_/2018-04-26',\n",
       " '/homeappl/home/aliagadi/wrk/DONOTREMOVE/flexpart_management_data/runs/run_2019-10-02_13-42-52_/2018-04-27',\n",
       " '/homeappl/home/aliagadi/wrk/DONOTREMOVE/flexpart_management_data/runs/run_2019-10-02_13-42-52_/2018-04-28',\n",
       " '/homeappl/home/aliagadi/wrk/DONOTREMOVE/flexpart_management_data/runs/run_2019-10-02_13-42-52_/2018-04-29',\n",
       " '/homeappl/home/aliagadi/wrk/DONOTREMOVE/flexpart_management_data/runs/run_2019-10-02_13-42-52_/2018-04-30',\n",
       " '/homeappl/home/aliagadi/wrk/DONOTREMOVE/flexpart_management_data/runs/run_2019-10-02_13-42-52_/2018-05-01',\n",
       " '/homeappl/home/aliagadi/wrk/DONOTREMOVE/flexpart_management_data/runs/run_2019-10-02_13-42-52_/2018-05-02',\n",
       " '/homeappl/home/aliagadi/wrk/DONOTREMOVE/flexpart_management_data/runs/run_2019-10-02_13-42-52_/2018-05-03',\n",
       " '/homeappl/home/aliagadi/wrk/DONOTREMOVE/flexpart_management_data/runs/run_2019-10-02_13-42-52_/2018-05-04',\n",
       " '/homeappl/home/aliagadi/wrk/DONOTREMOVE/flexpart_management_data/runs/run_2019-10-02_13-42-52_/2018-05-05',\n",
       " '/homeappl/home/aliagadi/wrk/DONOTREMOVE/flexpart_management_data/runs/run_2019-10-02_13-42-52_/2018-05-06',\n",
       " '/homeappl/home/aliagadi/wrk/DONOTREMOVE/flexpart_management_data/runs/run_2019-10-02_13-42-52_/2018-05-07',\n",
       " '/homeappl/home/aliagadi/wrk/DONOTREMOVE/flexpart_management_data/runs/run_2019-10-02_13-42-52_/2018-05-08',\n",
       " '/homeappl/home/aliagadi/wrk/DONOTREMOVE/flexpart_management_data/runs/run_2019-10-02_13-42-52_/2018-05-09',\n",
       " '/homeappl/home/aliagadi/wrk/DONOTREMOVE/flexpart_management_data/runs/run_2019-10-02_13-42-52_/2018-05-10',\n",
       " '/homeappl/home/aliagadi/wrk/DONOTREMOVE/flexpart_management_data/runs/run_2019-10-02_13-42-52_/2018-05-11',\n",
       " '/homeappl/home/aliagadi/wrk/DONOTREMOVE/flexpart_management_data/runs/run_2019-10-02_13-42-52_/2018-05-12',\n",
       " '/homeappl/home/aliagadi/wrk/DONOTREMOVE/flexpart_management_data/runs/run_2019-10-02_13-42-52_/2018-05-13',\n",
       " '/homeappl/home/aliagadi/wrk/DONOTREMOVE/flexpart_management_data/runs/run_2019-10-02_13-42-52_/2018-05-14',\n",
       " '/homeappl/home/aliagadi/wrk/DONOTREMOVE/flexpart_management_data/runs/run_2019-10-02_13-42-52_/2018-05-15',\n",
       " '/homeappl/home/aliagadi/wrk/DONOTREMOVE/flexpart_management_data/runs/run_2019-10-02_13-42-52_/2018-05-16',\n",
       " '/homeappl/home/aliagadi/wrk/DONOTREMOVE/flexpart_management_data/runs/run_2019-10-02_13-42-52_/2018-05-17',\n",
       " '/homeappl/home/aliagadi/wrk/DONOTREMOVE/flexpart_management_data/runs/run_2019-10-02_13-42-52_/2018-05-18',\n",
       " '/homeappl/home/aliagadi/wrk/DONOTREMOVE/flexpart_management_data/runs/run_2019-10-02_13-42-52_/2018-05-19',\n",
       " '/homeappl/home/aliagadi/wrk/DONOTREMOVE/flexpart_management_data/runs/run_2019-10-02_13-42-52_/2018-05-20',\n",
       " '/homeappl/home/aliagadi/wrk/DONOTREMOVE/flexpart_management_data/runs/run_2019-10-02_13-42-52_/2018-05-21',\n",
       " '/homeappl/home/aliagadi/wrk/DONOTREMOVE/flexpart_management_data/runs/run_2019-10-02_13-42-52_/2018-05-22',\n",
       " '/homeappl/home/aliagadi/wrk/DONOTREMOVE/flexpart_management_data/runs/run_2019-10-02_13-42-52_/2018-05-23',\n",
       " '/homeappl/home/aliagadi/wrk/DONOTREMOVE/flexpart_management_data/runs/run_2019-10-02_13-42-52_/2018-05-24',\n",
       " '/homeappl/home/aliagadi/wrk/DONOTREMOVE/flexpart_management_data/runs/run_2019-10-02_13-42-52_/2018-05-25',\n",
       " '/homeappl/home/aliagadi/wrk/DONOTREMOVE/flexpart_management_data/runs/run_2019-10-02_13-42-52_/2018-05-26',\n",
       " '/homeappl/home/aliagadi/wrk/DONOTREMOVE/flexpart_management_data/runs/run_2019-10-02_13-42-52_/2018-05-27',\n",
       " '/homeappl/home/aliagadi/wrk/DONOTREMOVE/flexpart_management_data/runs/run_2019-10-02_13-42-52_/2018-05-28',\n",
       " '/homeappl/home/aliagadi/wrk/DONOTREMOVE/flexpart_management_data/runs/run_2019-10-02_13-42-52_/2018-05-29',\n",
       " '/homeappl/home/aliagadi/wrk/DONOTREMOVE/flexpart_management_data/runs/run_2019-10-02_13-42-52_/2018-05-30',\n",
       " '/homeappl/home/aliagadi/wrk/DONOTREMOVE/flexpart_management_data/runs/run_2019-10-02_13-42-52_/2018-05-31']"
      ]
     },
     "execution_count": 8,
     "metadata": {},
     "output_type": "execute_result"
    }
   ],
   "source": [
    "paths"
   ]
  },
  {
   "cell_type": "code",
   "execution_count": 9,
   "metadata": {
    "collapsed": false,
    "jupyter": {
     "outputs_hidden": false
    },
    "pycharm": {
     "name": "#%%\n"
    }
   },
   "outputs": [],
   "source": [
    "for p in paths:\n",
    "    for d in doms:\n",
    "        p,doms"
   ]
  },
  {
   "cell_type": "code",
   "execution_count": 10,
   "metadata": {},
   "outputs": [
    {
     "data": {
      "text/plain": [
       "('/homeappl/home/aliagadi/wrk/DONOTREMOVE/flexpart_management_data/runs/run_2019-10-02_13-42-52_/2018-05-31',\n",
       " ['d01', 'd02'])"
      ]
     },
     "execution_count": 10,
     "metadata": {},
     "output_type": "execute_result"
    }
   ],
   "source": [
    "p,doms"
   ]
  },
  {
   "cell_type": "code",
   "execution_count": 11,
   "metadata": {
    "collapsed": false,
    "jupyter": {
     "outputs_hidden": false
    },
    "pycharm": {
     "name": "#%%\n"
    }
   },
   "outputs": [
    {
     "name": "stdout",
     "output_type": "stream",
     "text": [
      "starting d02 /homeappl/home/aliagadi/wrk/DONOTREMOVE/flexpart_management_data/runs/run_2019-10-02_13-42-52_/2018-05-31\n"
     ]
    }
   ],
   "source": [
    "        print('starting',d,p)\n",
    "        new_dic = dict(dom=d,folder_path=p)\n",
    "        fo_dic = {**fo_base_dic,**new_dic}"
   ]
  },
  {
   "cell_type": "code",
   "execution_count": null,
   "metadata": {
    "collapsed": false,
    "jupyter": {
     "outputs_hidden": false
    },
    "pycharm": {
     "name": "#%%\n"
    }
   },
   "outputs": [],
   "source": [
    "        try:"
   ]
  },
  {
   "cell_type": "code",
   "execution_count": 12,
   "metadata": {
    "collapsed": false,
    "jupyter": {
     "outputs_hidden": false
    },
    "pycharm": {
     "name": "#%%\n"
    }
   },
   "outputs": [
    {
     "name": "stderr",
     "output_type": "stream",
     "text": [
      "2019-11-05 22:00:50,787 useful_scit  DEBUG    head file is /homeappl/home/aliagadi/wrk/DONOTREMOVE/flexpart_management_data/runs/run_2019-10-02_13-42-52_/2018-05-31/*header_*d02*\n",
      "2019-11-05 22:00:51,518 useful_scit  DEBUG    head file again is /homeappl/home/aliagadi/wrk/DONOTREMOVE/flexpart_management_data/runs/run_2019-10-02_13-42-52_/2018-05-31/header_d02.nc\n",
      "2019-11-05 22:00:51,569 useful_scit  DEBUG    out path is /homeappl/home/aliagadi/wrk/DONOTREMOVE/flexpart_management_data/runs/run_2019-10-02_13-42-52_/2018-05-31/*flxout_*d02*\n",
      "2019-11-05 22:00:51,579 useful_scit  DEBUG    out path list 1st elemnt is ['/homeappl/home/aliagadi/wrk/DONOTREMOVE/flexpart_management_data/runs/run_2019-10-02_13-42-52_/2018-05-31/flxout_d02_20180527_000000.nc']\n",
      "2019-11-05 22:00:51,676 useful_scit  DEBUG    file /homeappl/home/aliagadi/wrk/DONOTREMOVE/flexpart_management_data/runs/run_2019-10-02_13-42-52_/2018-05-31/flxout_d02_20180527_000000.nc opened\n",
      "2019-11-05 22:00:51,701 useful_scit  DEBUG    file /homeappl/home/aliagadi/wrk/DONOTREMOVE/flexpart_management_data/runs/run_2019-10-02_13-42-52_/2018-05-31/flxout_d02_20180527_010000.nc opened\n",
      "2019-11-05 22:00:51,740 useful_scit  DEBUG    file /homeappl/home/aliagadi/wrk/DONOTREMOVE/flexpart_management_data/runs/run_2019-10-02_13-42-52_/2018-05-31/flxout_d02_20180527_020000.nc opened\n",
      "2019-11-05 22:00:51,763 useful_scit  DEBUG    file /homeappl/home/aliagadi/wrk/DONOTREMOVE/flexpart_management_data/runs/run_2019-10-02_13-42-52_/2018-05-31/flxout_d02_20180527_030000.nc opened\n",
      "2019-11-05 22:00:51,781 useful_scit  DEBUG    file /homeappl/home/aliagadi/wrk/DONOTREMOVE/flexpart_management_data/runs/run_2019-10-02_13-42-52_/2018-05-31/flxout_d02_20180527_040000.nc opened\n",
      "2019-11-05 22:00:51,800 useful_scit  DEBUG    file /homeappl/home/aliagadi/wrk/DONOTREMOVE/flexpart_management_data/runs/run_2019-10-02_13-42-52_/2018-05-31/flxout_d02_20180527_050000.nc opened\n",
      "2019-11-05 22:00:51,819 useful_scit  DEBUG    file /homeappl/home/aliagadi/wrk/DONOTREMOVE/flexpart_management_data/runs/run_2019-10-02_13-42-52_/2018-05-31/flxout_d02_20180527_060000.nc opened\n",
      "2019-11-05 22:00:51,837 useful_scit  DEBUG    file /homeappl/home/aliagadi/wrk/DONOTREMOVE/flexpart_management_data/runs/run_2019-10-02_13-42-52_/2018-05-31/flxout_d02_20180527_070000.nc opened\n",
      "2019-11-05 22:00:51,855 useful_scit  DEBUG    file /homeappl/home/aliagadi/wrk/DONOTREMOVE/flexpart_management_data/runs/run_2019-10-02_13-42-52_/2018-05-31/flxout_d02_20180527_080000.nc opened\n",
      "2019-11-05 22:00:51,873 useful_scit  DEBUG    file /homeappl/home/aliagadi/wrk/DONOTREMOVE/flexpart_management_data/runs/run_2019-10-02_13-42-52_/2018-05-31/flxout_d02_20180527_090000.nc opened\n",
      "2019-11-05 22:00:51,891 useful_scit  DEBUG    file /homeappl/home/aliagadi/wrk/DONOTREMOVE/flexpart_management_data/runs/run_2019-10-02_13-42-52_/2018-05-31/flxout_d02_20180527_100000.nc opened\n",
      "2019-11-05 22:00:51,909 useful_scit  DEBUG    file /homeappl/home/aliagadi/wrk/DONOTREMOVE/flexpart_management_data/runs/run_2019-10-02_13-42-52_/2018-05-31/flxout_d02_20180527_110000.nc opened\n",
      "2019-11-05 22:00:51,927 useful_scit  DEBUG    file /homeappl/home/aliagadi/wrk/DONOTREMOVE/flexpart_management_data/runs/run_2019-10-02_13-42-52_/2018-05-31/flxout_d02_20180527_120000.nc opened\n",
      "2019-11-05 22:00:51,945 useful_scit  DEBUG    file /homeappl/home/aliagadi/wrk/DONOTREMOVE/flexpart_management_data/runs/run_2019-10-02_13-42-52_/2018-05-31/flxout_d02_20180527_130000.nc opened\n",
      "2019-11-05 22:00:51,962 useful_scit  DEBUG    file /homeappl/home/aliagadi/wrk/DONOTREMOVE/flexpart_management_data/runs/run_2019-10-02_13-42-52_/2018-05-31/flxout_d02_20180527_140000.nc opened\n",
      "2019-11-05 22:00:51,982 useful_scit  DEBUG    file /homeappl/home/aliagadi/wrk/DONOTREMOVE/flexpart_management_data/runs/run_2019-10-02_13-42-52_/2018-05-31/flxout_d02_20180527_150000.nc opened\n",
      "2019-11-05 22:00:52,000 useful_scit  DEBUG    file /homeappl/home/aliagadi/wrk/DONOTREMOVE/flexpart_management_data/runs/run_2019-10-02_13-42-52_/2018-05-31/flxout_d02_20180527_160000.nc opened\n",
      "2019-11-05 22:00:52,018 useful_scit  DEBUG    file /homeappl/home/aliagadi/wrk/DONOTREMOVE/flexpart_management_data/runs/run_2019-10-02_13-42-52_/2018-05-31/flxout_d02_20180527_170000.nc opened\n",
      "2019-11-05 22:00:52,036 useful_scit  DEBUG    file /homeappl/home/aliagadi/wrk/DONOTREMOVE/flexpart_management_data/runs/run_2019-10-02_13-42-52_/2018-05-31/flxout_d02_20180527_180000.nc opened\n",
      "2019-11-05 22:00:52,055 useful_scit  DEBUG    file /homeappl/home/aliagadi/wrk/DONOTREMOVE/flexpart_management_data/runs/run_2019-10-02_13-42-52_/2018-05-31/flxout_d02_20180527_190000.nc opened\n",
      "2019-11-05 22:00:52,076 useful_scit  DEBUG    file /homeappl/home/aliagadi/wrk/DONOTREMOVE/flexpart_management_data/runs/run_2019-10-02_13-42-52_/2018-05-31/flxout_d02_20180527_200000.nc opened\n",
      "2019-11-05 22:00:52,101 useful_scit  DEBUG    file /homeappl/home/aliagadi/wrk/DONOTREMOVE/flexpart_management_data/runs/run_2019-10-02_13-42-52_/2018-05-31/flxout_d02_20180527_210000.nc opened\n",
      "2019-11-05 22:00:52,119 useful_scit  DEBUG    file /homeappl/home/aliagadi/wrk/DONOTREMOVE/flexpart_management_data/runs/run_2019-10-02_13-42-52_/2018-05-31/flxout_d02_20180527_220000.nc opened\n",
      "2019-11-05 22:00:52,142 useful_scit  DEBUG    file /homeappl/home/aliagadi/wrk/DONOTREMOVE/flexpart_management_data/runs/run_2019-10-02_13-42-52_/2018-05-31/flxout_d02_20180527_230000.nc opened\n",
      "2019-11-05 22:00:52,175 useful_scit  DEBUG    file /homeappl/home/aliagadi/wrk/DONOTREMOVE/flexpart_management_data/runs/run_2019-10-02_13-42-52_/2018-05-31/flxout_d02_20180528_000000.nc opened\n",
      "2019-11-05 22:00:52,194 useful_scit  DEBUG    file /homeappl/home/aliagadi/wrk/DONOTREMOVE/flexpart_management_data/runs/run_2019-10-02_13-42-52_/2018-05-31/flxout_d02_20180528_010000.nc opened\n",
      "2019-11-05 22:00:52,212 useful_scit  DEBUG    file /homeappl/home/aliagadi/wrk/DONOTREMOVE/flexpart_management_data/runs/run_2019-10-02_13-42-52_/2018-05-31/flxout_d02_20180528_020000.nc opened\n",
      "2019-11-05 22:00:52,229 useful_scit  DEBUG    file /homeappl/home/aliagadi/wrk/DONOTREMOVE/flexpart_management_data/runs/run_2019-10-02_13-42-52_/2018-05-31/flxout_d02_20180528_030000.nc opened\n",
      "2019-11-05 22:00:52,247 useful_scit  DEBUG    file /homeappl/home/aliagadi/wrk/DONOTREMOVE/flexpart_management_data/runs/run_2019-10-02_13-42-52_/2018-05-31/flxout_d02_20180528_040000.nc opened\n",
      "2019-11-05 22:00:52,268 useful_scit  DEBUG    file /homeappl/home/aliagadi/wrk/DONOTREMOVE/flexpart_management_data/runs/run_2019-10-02_13-42-52_/2018-05-31/flxout_d02_20180528_050000.nc opened\n",
      "2019-11-05 22:00:52,303 useful_scit  DEBUG    file /homeappl/home/aliagadi/wrk/DONOTREMOVE/flexpart_management_data/runs/run_2019-10-02_13-42-52_/2018-05-31/flxout_d02_20180528_060000.nc opened\n",
      "2019-11-05 22:00:53,671 useful_scit  DEBUG    file /homeappl/home/aliagadi/wrk/DONOTREMOVE/flexpart_management_data/runs/run_2019-10-02_13-42-52_/2018-05-31/flxout_d02_20180528_070000.nc opened\n",
      "2019-11-05 22:00:53,699 useful_scit  DEBUG    file /homeappl/home/aliagadi/wrk/DONOTREMOVE/flexpart_management_data/runs/run_2019-10-02_13-42-52_/2018-05-31/flxout_d02_20180528_080000.nc opened\n",
      "2019-11-05 22:00:53,717 useful_scit  DEBUG    file /homeappl/home/aliagadi/wrk/DONOTREMOVE/flexpart_management_data/runs/run_2019-10-02_13-42-52_/2018-05-31/flxout_d02_20180528_090000.nc opened\n",
      "2019-11-05 22:00:53,740 useful_scit  DEBUG    file /homeappl/home/aliagadi/wrk/DONOTREMOVE/flexpart_management_data/runs/run_2019-10-02_13-42-52_/2018-05-31/flxout_d02_20180528_100000.nc opened\n",
      "2019-11-05 22:00:53,767 useful_scit  DEBUG    file /homeappl/home/aliagadi/wrk/DONOTREMOVE/flexpart_management_data/runs/run_2019-10-02_13-42-52_/2018-05-31/flxout_d02_20180528_110000.nc opened\n",
      "2019-11-05 22:00:53,797 useful_scit  DEBUG    file /homeappl/home/aliagadi/wrk/DONOTREMOVE/flexpart_management_data/runs/run_2019-10-02_13-42-52_/2018-05-31/flxout_d02_20180528_120000.nc opened\n",
      "2019-11-05 22:00:53,816 useful_scit  DEBUG    file /homeappl/home/aliagadi/wrk/DONOTREMOVE/flexpart_management_data/runs/run_2019-10-02_13-42-52_/2018-05-31/flxout_d02_20180528_130000.nc opened\n",
      "2019-11-05 22:00:53,884 useful_scit  DEBUG    file /homeappl/home/aliagadi/wrk/DONOTREMOVE/flexpart_management_data/runs/run_2019-10-02_13-42-52_/2018-05-31/flxout_d02_20180528_140000.nc opened\n",
      "2019-11-05 22:00:53,915 useful_scit  DEBUG    file /homeappl/home/aliagadi/wrk/DONOTREMOVE/flexpart_management_data/runs/run_2019-10-02_13-42-52_/2018-05-31/flxout_d02_20180528_150000.nc opened\n",
      "2019-11-05 22:00:53,933 useful_scit  DEBUG    file /homeappl/home/aliagadi/wrk/DONOTREMOVE/flexpart_management_data/runs/run_2019-10-02_13-42-52_/2018-05-31/flxout_d02_20180528_160000.nc opened\n",
      "2019-11-05 22:00:53,951 useful_scit  DEBUG    file /homeappl/home/aliagadi/wrk/DONOTREMOVE/flexpart_management_data/runs/run_2019-10-02_13-42-52_/2018-05-31/flxout_d02_20180528_170000.nc opened\n",
      "2019-11-05 22:00:53,969 useful_scit  DEBUG    file /homeappl/home/aliagadi/wrk/DONOTREMOVE/flexpart_management_data/runs/run_2019-10-02_13-42-52_/2018-05-31/flxout_d02_20180528_180000.nc opened\n",
      "2019-11-05 22:00:53,987 useful_scit  DEBUG    file /homeappl/home/aliagadi/wrk/DONOTREMOVE/flexpart_management_data/runs/run_2019-10-02_13-42-52_/2018-05-31/flxout_d02_20180528_190000.nc opened\n",
      "2019-11-05 22:00:54,005 useful_scit  DEBUG    file /homeappl/home/aliagadi/wrk/DONOTREMOVE/flexpart_management_data/runs/run_2019-10-02_13-42-52_/2018-05-31/flxout_d02_20180528_200000.nc opened\n",
      "2019-11-05 22:00:54,024 useful_scit  DEBUG    file /homeappl/home/aliagadi/wrk/DONOTREMOVE/flexpart_management_data/runs/run_2019-10-02_13-42-52_/2018-05-31/flxout_d02_20180528_210000.nc opened\n",
      "2019-11-05 22:00:54,042 useful_scit  DEBUG    file /homeappl/home/aliagadi/wrk/DONOTREMOVE/flexpart_management_data/runs/run_2019-10-02_13-42-52_/2018-05-31/flxout_d02_20180528_220000.nc opened\n",
      "2019-11-05 22:00:54,060 useful_scit  DEBUG    file /homeappl/home/aliagadi/wrk/DONOTREMOVE/flexpart_management_data/runs/run_2019-10-02_13-42-52_/2018-05-31/flxout_d02_20180528_230000.nc opened\n",
      "2019-11-05 22:00:54,078 useful_scit  DEBUG    file /homeappl/home/aliagadi/wrk/DONOTREMOVE/flexpart_management_data/runs/run_2019-10-02_13-42-52_/2018-05-31/flxout_d02_20180529_000000.nc opened\n",
      "2019-11-05 22:00:54,096 useful_scit  DEBUG    file /homeappl/home/aliagadi/wrk/DONOTREMOVE/flexpart_management_data/runs/run_2019-10-02_13-42-52_/2018-05-31/flxout_d02_20180529_010000.nc opened\n",
      "2019-11-05 22:00:54,114 useful_scit  DEBUG    file /homeappl/home/aliagadi/wrk/DONOTREMOVE/flexpart_management_data/runs/run_2019-10-02_13-42-52_/2018-05-31/flxout_d02_20180529_020000.nc opened\n",
      "2019-11-05 22:00:54,132 useful_scit  DEBUG    file /homeappl/home/aliagadi/wrk/DONOTREMOVE/flexpart_management_data/runs/run_2019-10-02_13-42-52_/2018-05-31/flxout_d02_20180529_030000.nc opened\n",
      "2019-11-05 22:00:54,150 useful_scit  DEBUG    file /homeappl/home/aliagadi/wrk/DONOTREMOVE/flexpart_management_data/runs/run_2019-10-02_13-42-52_/2018-05-31/flxout_d02_20180529_040000.nc opened\n",
      "2019-11-05 22:00:54,168 useful_scit  DEBUG    file /homeappl/home/aliagadi/wrk/DONOTREMOVE/flexpart_management_data/runs/run_2019-10-02_13-42-52_/2018-05-31/flxout_d02_20180529_050000.nc opened\n",
      "2019-11-05 22:00:54,186 useful_scit  DEBUG    file /homeappl/home/aliagadi/wrk/DONOTREMOVE/flexpart_management_data/runs/run_2019-10-02_13-42-52_/2018-05-31/flxout_d02_20180529_060000.nc opened\n",
      "2019-11-05 22:00:54,204 useful_scit  DEBUG    file /homeappl/home/aliagadi/wrk/DONOTREMOVE/flexpart_management_data/runs/run_2019-10-02_13-42-52_/2018-05-31/flxout_d02_20180529_070000.nc opened\n",
      "2019-11-05 22:00:54,222 useful_scit  DEBUG    file /homeappl/home/aliagadi/wrk/DONOTREMOVE/flexpart_management_data/runs/run_2019-10-02_13-42-52_/2018-05-31/flxout_d02_20180529_080000.nc opened\n",
      "2019-11-05 22:00:54,241 useful_scit  DEBUG    file /homeappl/home/aliagadi/wrk/DONOTREMOVE/flexpart_management_data/runs/run_2019-10-02_13-42-52_/2018-05-31/flxout_d02_20180529_090000.nc opened\n",
      "2019-11-05 22:00:54,260 useful_scit  DEBUG    file /homeappl/home/aliagadi/wrk/DONOTREMOVE/flexpart_management_data/runs/run_2019-10-02_13-42-52_/2018-05-31/flxout_d02_20180529_100000.nc opened\n",
      "2019-11-05 22:00:54,279 useful_scit  DEBUG    file /homeappl/home/aliagadi/wrk/DONOTREMOVE/flexpart_management_data/runs/run_2019-10-02_13-42-52_/2018-05-31/flxout_d02_20180529_110000.nc opened\n",
      "2019-11-05 22:00:54,297 useful_scit  DEBUG    file /homeappl/home/aliagadi/wrk/DONOTREMOVE/flexpart_management_data/runs/run_2019-10-02_13-42-52_/2018-05-31/flxout_d02_20180529_120000.nc opened\n",
      "2019-11-05 22:00:54,317 useful_scit  DEBUG    file /homeappl/home/aliagadi/wrk/DONOTREMOVE/flexpart_management_data/runs/run_2019-10-02_13-42-52_/2018-05-31/flxout_d02_20180529_130000.nc opened\n",
      "2019-11-05 22:00:54,339 useful_scit  DEBUG    file /homeappl/home/aliagadi/wrk/DONOTREMOVE/flexpart_management_data/runs/run_2019-10-02_13-42-52_/2018-05-31/flxout_d02_20180529_140000.nc opened\n",
      "2019-11-05 22:00:54,367 useful_scit  DEBUG    file /homeappl/home/aliagadi/wrk/DONOTREMOVE/flexpart_management_data/runs/run_2019-10-02_13-42-52_/2018-05-31/flxout_d02_20180529_150000.nc opened\n",
      "2019-11-05 22:00:54,391 useful_scit  DEBUG    file /homeappl/home/aliagadi/wrk/DONOTREMOVE/flexpart_management_data/runs/run_2019-10-02_13-42-52_/2018-05-31/flxout_d02_20180529_160000.nc opened\n",
      "2019-11-05 22:00:54,420 useful_scit  DEBUG    file /homeappl/home/aliagadi/wrk/DONOTREMOVE/flexpart_management_data/runs/run_2019-10-02_13-42-52_/2018-05-31/flxout_d02_20180529_170000.nc opened\n",
      "2019-11-05 22:00:54,440 useful_scit  DEBUG    file /homeappl/home/aliagadi/wrk/DONOTREMOVE/flexpart_management_data/runs/run_2019-10-02_13-42-52_/2018-05-31/flxout_d02_20180529_180000.nc opened\n",
      "2019-11-05 22:00:54,459 useful_scit  DEBUG    file /homeappl/home/aliagadi/wrk/DONOTREMOVE/flexpart_management_data/runs/run_2019-10-02_13-42-52_/2018-05-31/flxout_d02_20180529_190000.nc opened\n",
      "2019-11-05 22:00:54,479 useful_scit  DEBUG    file /homeappl/home/aliagadi/wrk/DONOTREMOVE/flexpart_management_data/runs/run_2019-10-02_13-42-52_/2018-05-31/flxout_d02_20180529_200000.nc opened\n",
      "2019-11-05 22:00:54,498 useful_scit  DEBUG    file /homeappl/home/aliagadi/wrk/DONOTREMOVE/flexpart_management_data/runs/run_2019-10-02_13-42-52_/2018-05-31/flxout_d02_20180529_210000.nc opened\n",
      "2019-11-05 22:00:54,517 useful_scit  DEBUG    file /homeappl/home/aliagadi/wrk/DONOTREMOVE/flexpart_management_data/runs/run_2019-10-02_13-42-52_/2018-05-31/flxout_d02_20180529_220000.nc opened\n",
      "2019-11-05 22:00:54,535 useful_scit  DEBUG    file /homeappl/home/aliagadi/wrk/DONOTREMOVE/flexpart_management_data/runs/run_2019-10-02_13-42-52_/2018-05-31/flxout_d02_20180529_230000.nc opened\n",
      "2019-11-05 22:00:54,618 useful_scit  DEBUG    file /homeappl/home/aliagadi/wrk/DONOTREMOVE/flexpart_management_data/runs/run_2019-10-02_13-42-52_/2018-05-31/flxout_d02_20180530_000000.nc opened\n",
      "2019-11-05 22:00:54,656 useful_scit  DEBUG    file /homeappl/home/aliagadi/wrk/DONOTREMOVE/flexpart_management_data/runs/run_2019-10-02_13-42-52_/2018-05-31/flxout_d02_20180530_010000.nc opened\n",
      "2019-11-05 22:00:54,676 useful_scit  DEBUG    file /homeappl/home/aliagadi/wrk/DONOTREMOVE/flexpart_management_data/runs/run_2019-10-02_13-42-52_/2018-05-31/flxout_d02_20180530_020000.nc opened\n",
      "2019-11-05 22:00:54,695 useful_scit  DEBUG    file /homeappl/home/aliagadi/wrk/DONOTREMOVE/flexpart_management_data/runs/run_2019-10-02_13-42-52_/2018-05-31/flxout_d02_20180530_030000.nc opened\n",
      "2019-11-05 22:00:54,714 useful_scit  DEBUG    file /homeappl/home/aliagadi/wrk/DONOTREMOVE/flexpart_management_data/runs/run_2019-10-02_13-42-52_/2018-05-31/flxout_d02_20180530_040000.nc opened\n",
      "2019-11-05 22:00:54,733 useful_scit  DEBUG    file /homeappl/home/aliagadi/wrk/DONOTREMOVE/flexpart_management_data/runs/run_2019-10-02_13-42-52_/2018-05-31/flxout_d02_20180530_050000.nc opened\n",
      "2019-11-05 22:00:54,753 useful_scit  DEBUG    file /homeappl/home/aliagadi/wrk/DONOTREMOVE/flexpart_management_data/runs/run_2019-10-02_13-42-52_/2018-05-31/flxout_d02_20180530_060000.nc opened\n",
      "2019-11-05 22:00:54,772 useful_scit  DEBUG    file /homeappl/home/aliagadi/wrk/DONOTREMOVE/flexpart_management_data/runs/run_2019-10-02_13-42-52_/2018-05-31/flxout_d02_20180530_070000.nc opened\n",
      "2019-11-05 22:00:54,793 useful_scit  DEBUG    file /homeappl/home/aliagadi/wrk/DONOTREMOVE/flexpart_management_data/runs/run_2019-10-02_13-42-52_/2018-05-31/flxout_d02_20180530_080000.nc opened\n",
      "2019-11-05 22:00:54,812 useful_scit  DEBUG    file /homeappl/home/aliagadi/wrk/DONOTREMOVE/flexpart_management_data/runs/run_2019-10-02_13-42-52_/2018-05-31/flxout_d02_20180530_090000.nc opened\n",
      "2019-11-05 22:00:54,845 useful_scit  DEBUG    file /homeappl/home/aliagadi/wrk/DONOTREMOVE/flexpart_management_data/runs/run_2019-10-02_13-42-52_/2018-05-31/flxout_d02_20180530_100000.nc opened\n",
      "2019-11-05 22:00:54,907 useful_scit  DEBUG    file /homeappl/home/aliagadi/wrk/DONOTREMOVE/flexpart_management_data/runs/run_2019-10-02_13-42-52_/2018-05-31/flxout_d02_20180530_110000.nc opened\n",
      "2019-11-05 22:00:54,928 useful_scit  DEBUG    file /homeappl/home/aliagadi/wrk/DONOTREMOVE/flexpart_management_data/runs/run_2019-10-02_13-42-52_/2018-05-31/flxout_d02_20180530_120000.nc opened\n",
      "2019-11-05 22:00:54,948 useful_scit  DEBUG    file /homeappl/home/aliagadi/wrk/DONOTREMOVE/flexpart_management_data/runs/run_2019-10-02_13-42-52_/2018-05-31/flxout_d02_20180530_130000.nc opened\n",
      "2019-11-05 22:00:54,969 useful_scit  DEBUG    file /homeappl/home/aliagadi/wrk/DONOTREMOVE/flexpart_management_data/runs/run_2019-10-02_13-42-52_/2018-05-31/flxout_d02_20180530_140000.nc opened\n",
      "2019-11-05 22:00:54,989 useful_scit  DEBUG    file /homeappl/home/aliagadi/wrk/DONOTREMOVE/flexpart_management_data/runs/run_2019-10-02_13-42-52_/2018-05-31/flxout_d02_20180530_150000.nc opened\n",
      "2019-11-05 22:00:55,009 useful_scit  DEBUG    file /homeappl/home/aliagadi/wrk/DONOTREMOVE/flexpart_management_data/runs/run_2019-10-02_13-42-52_/2018-05-31/flxout_d02_20180530_160000.nc opened\n",
      "2019-11-05 22:00:55,029 useful_scit  DEBUG    file /homeappl/home/aliagadi/wrk/DONOTREMOVE/flexpart_management_data/runs/run_2019-10-02_13-42-52_/2018-05-31/flxout_d02_20180530_170000.nc opened\n",
      "2019-11-05 22:00:55,048 useful_scit  DEBUG    file /homeappl/home/aliagadi/wrk/DONOTREMOVE/flexpart_management_data/runs/run_2019-10-02_13-42-52_/2018-05-31/flxout_d02_20180530_180000.nc opened\n",
      "2019-11-05 22:00:55,068 useful_scit  DEBUG    file /homeappl/home/aliagadi/wrk/DONOTREMOVE/flexpart_management_data/runs/run_2019-10-02_13-42-52_/2018-05-31/flxout_d02_20180530_190000.nc opened\n",
      "2019-11-05 22:00:55,088 useful_scit  DEBUG    file /homeappl/home/aliagadi/wrk/DONOTREMOVE/flexpart_management_data/runs/run_2019-10-02_13-42-52_/2018-05-31/flxout_d02_20180530_200000.nc opened\n",
      "2019-11-05 22:00:55,108 useful_scit  DEBUG    file /homeappl/home/aliagadi/wrk/DONOTREMOVE/flexpart_management_data/runs/run_2019-10-02_13-42-52_/2018-05-31/flxout_d02_20180530_210000.nc opened\n",
      "2019-11-05 22:00:55,128 useful_scit  DEBUG    file /homeappl/home/aliagadi/wrk/DONOTREMOVE/flexpart_management_data/runs/run_2019-10-02_13-42-52_/2018-05-31/flxout_d02_20180530_220000.nc opened\n",
      "2019-11-05 22:00:55,148 useful_scit  DEBUG    file /homeappl/home/aliagadi/wrk/DONOTREMOVE/flexpart_management_data/runs/run_2019-10-02_13-42-52_/2018-05-31/flxout_d02_20180530_230000.nc opened\n",
      "2019-11-05 22:00:55,167 useful_scit  DEBUG    file /homeappl/home/aliagadi/wrk/DONOTREMOVE/flexpart_management_data/runs/run_2019-10-02_13-42-52_/2018-05-31/flxout_d02_20180531_000000.nc opened\n",
      "2019-11-05 22:00:55,187 useful_scit  DEBUG    file /homeappl/home/aliagadi/wrk/DONOTREMOVE/flexpart_management_data/runs/run_2019-10-02_13-42-52_/2018-05-31/flxout_d02_20180531_010000.nc opened\n",
      "2019-11-05 22:00:55,206 useful_scit  DEBUG    file /homeappl/home/aliagadi/wrk/DONOTREMOVE/flexpart_management_data/runs/run_2019-10-02_13-42-52_/2018-05-31/flxout_d02_20180531_020000.nc opened\n",
      "2019-11-05 22:00:55,226 useful_scit  DEBUG    file /homeappl/home/aliagadi/wrk/DONOTREMOVE/flexpart_management_data/runs/run_2019-10-02_13-42-52_/2018-05-31/flxout_d02_20180531_030000.nc opened\n",
      "2019-11-05 22:00:55,246 useful_scit  DEBUG    file /homeappl/home/aliagadi/wrk/DONOTREMOVE/flexpart_management_data/runs/run_2019-10-02_13-42-52_/2018-05-31/flxout_d02_20180531_040000.nc opened\n",
      "2019-11-05 22:00:55,267 useful_scit  DEBUG    file /homeappl/home/aliagadi/wrk/DONOTREMOVE/flexpart_management_data/runs/run_2019-10-02_13-42-52_/2018-05-31/flxout_d02_20180531_050000.nc opened\n",
      "2019-11-05 22:00:55,290 useful_scit  DEBUG    file /homeappl/home/aliagadi/wrk/DONOTREMOVE/flexpart_management_data/runs/run_2019-10-02_13-42-52_/2018-05-31/flxout_d02_20180531_060000.nc opened\n",
      "2019-11-05 22:00:55,320 useful_scit  DEBUG    file /homeappl/home/aliagadi/wrk/DONOTREMOVE/flexpart_management_data/runs/run_2019-10-02_13-42-52_/2018-05-31/flxout_d02_20180531_070000.nc opened\n",
      "2019-11-05 22:00:55,340 useful_scit  DEBUG    file /homeappl/home/aliagadi/wrk/DONOTREMOVE/flexpart_management_data/runs/run_2019-10-02_13-42-52_/2018-05-31/flxout_d02_20180531_080000.nc opened\n",
      "2019-11-05 22:00:56,001 useful_scit  DEBUG    file /homeappl/home/aliagadi/wrk/DONOTREMOVE/flexpart_management_data/runs/run_2019-10-02_13-42-52_/2018-05-31/flxout_d02_20180531_090000.nc opened\n",
      "2019-11-05 22:00:56,038 useful_scit  DEBUG    file /homeappl/home/aliagadi/wrk/DONOTREMOVE/flexpart_management_data/runs/run_2019-10-02_13-42-52_/2018-05-31/flxout_d02_20180531_100000.nc opened\n",
      "2019-11-05 22:00:56,057 useful_scit  DEBUG    file /homeappl/home/aliagadi/wrk/DONOTREMOVE/flexpart_management_data/runs/run_2019-10-02_13-42-52_/2018-05-31/flxout_d02_20180531_110000.nc opened\n",
      "2019-11-05 22:00:56,080 useful_scit  DEBUG    file /homeappl/home/aliagadi/wrk/DONOTREMOVE/flexpart_management_data/runs/run_2019-10-02_13-42-52_/2018-05-31/flxout_d02_20180531_120000.nc opened\n",
      "2019-11-05 22:00:56,100 useful_scit  DEBUG    file /homeappl/home/aliagadi/wrk/DONOTREMOVE/flexpart_management_data/runs/run_2019-10-02_13-42-52_/2018-05-31/flxout_d02_20180531_130000.nc opened\n",
      "2019-11-05 22:00:56,119 useful_scit  DEBUG    file /homeappl/home/aliagadi/wrk/DONOTREMOVE/flexpart_management_data/runs/run_2019-10-02_13-42-52_/2018-05-31/flxout_d02_20180531_140000.nc opened\n",
      "2019-11-05 22:00:56,137 useful_scit  DEBUG    file /homeappl/home/aliagadi/wrk/DONOTREMOVE/flexpart_management_data/runs/run_2019-10-02_13-42-52_/2018-05-31/flxout_d02_20180531_150000.nc opened\n",
      "2019-11-05 22:00:56,156 useful_scit  DEBUG    file /homeappl/home/aliagadi/wrk/DONOTREMOVE/flexpart_management_data/runs/run_2019-10-02_13-42-52_/2018-05-31/flxout_d02_20180531_160000.nc opened\n",
      "2019-11-05 22:00:56,174 useful_scit  DEBUG    file /homeappl/home/aliagadi/wrk/DONOTREMOVE/flexpart_management_data/runs/run_2019-10-02_13-42-52_/2018-05-31/flxout_d02_20180531_170000.nc opened\n",
      "2019-11-05 22:00:56,193 useful_scit  DEBUG    file /homeappl/home/aliagadi/wrk/DONOTREMOVE/flexpart_management_data/runs/run_2019-10-02_13-42-52_/2018-05-31/flxout_d02_20180531_180000.nc opened\n",
      "2019-11-05 22:00:56,211 useful_scit  DEBUG    file /homeappl/home/aliagadi/wrk/DONOTREMOVE/flexpart_management_data/runs/run_2019-10-02_13-42-52_/2018-05-31/flxout_d02_20180531_190000.nc opened\n",
      "2019-11-05 22:00:56,229 useful_scit  DEBUG    file /homeappl/home/aliagadi/wrk/DONOTREMOVE/flexpart_management_data/runs/run_2019-10-02_13-42-52_/2018-05-31/flxout_d02_20180531_200000.nc opened\n",
      "2019-11-05 22:00:56,247 useful_scit  DEBUG    file /homeappl/home/aliagadi/wrk/DONOTREMOVE/flexpart_management_data/runs/run_2019-10-02_13-42-52_/2018-05-31/flxout_d02_20180531_210000.nc opened\n",
      "2019-11-05 22:00:56,265 useful_scit  DEBUG    file /homeappl/home/aliagadi/wrk/DONOTREMOVE/flexpart_management_data/runs/run_2019-10-02_13-42-52_/2018-05-31/flxout_d02_20180531_220000.nc opened\n",
      "2019-11-05 22:00:56,284 useful_scit  DEBUG    file /homeappl/home/aliagadi/wrk/DONOTREMOVE/flexpart_management_data/runs/run_2019-10-02_13-42-52_/2018-05-31/flxout_d02_20180531_230000.nc opened\n"
     ]
    }
   ],
   "source": [
    "            fo = FO.FLEXOUT(**fo_dic)"
   ]
  },
  {
   "cell_type": "code",
   "execution_count": 16,
   "metadata": {
    "collapsed": false,
    "jupyter": {
     "outputs_hidden": false
    },
    "pycharm": {
     "name": "#%%\n"
    }
   },
   "outputs": [],
   "source": [
    "            out_path = fo.export_log_polar_coords()"
   ]
  },
  {
   "cell_type": "code",
   "execution_count": 17,
   "metadata": {},
   "outputs": [
    {
     "data": {
      "text/plain": [
       "<xarray.Dataset>\n",
       "Dimensions:    (R_CENTER: 33, TH_CENTER: 36, releases: 24)\n",
       "Coordinates:\n",
       "  * R_CENTER   (R_CENTER) float64 0.006474 0.00775 0.01592 ... 2.46 2.945 3.525\n",
       "  * TH_CENTER  (TH_CENTER) float64 0.08727 0.2618 0.4363 ... 5.847 6.021 6.196\n",
       "    LAT        (R_CENTER, TH_CENTER) float64 ...\n",
       "    LON        (R_CENTER, TH_CENTER) float64 ...\n",
       "    LAT_00     (R_CENTER, TH_CENTER) float64 ...\n",
       "    LON_00     (R_CENTER, TH_CENTER) float64 ...\n",
       "    LAT_10     (R_CENTER, TH_CENTER) float64 ...\n",
       "    LON_10     (R_CENTER, TH_CENTER) float64 ...\n",
       "    LAT_11     (R_CENTER, TH_CENTER) float64 ...\n",
       "    LON_11     (R_CENTER, TH_CENTER) float64 ...\n",
       "    LAT_01     (R_CENTER, TH_CENTER) float64 ...\n",
       "    LON_01     (R_CENTER, TH_CENTER) float64 ...\n",
       "    GRIDAREA   (R_CENTER, TH_CENTER) float64 ...\n",
       "  * releases   (releases) datetime64[ns] 2018-05-31 ... 2018-05-31T23:00:00\n",
       "Data variables:\n",
       "    CONC       (R_CENTER, TH_CENTER, releases) float32 ..."
      ]
     },
     "execution_count": 17,
     "metadata": {},
     "output_type": "execute_result"
    }
   ],
   "source": [
    "xr.open_dataset(out_path)"
   ]
  },
  {
   "cell_type": "code",
   "execution_count": null,
   "metadata": {
    "collapsed": false,
    "jupyter": {
     "outputs_hidden": false
    },
    "pycharm": {
     "name": "#%%\n"
    }
   },
   "outputs": [],
   "source": [
    "        except:"
   ]
  },
  {
   "cell_type": "code",
   "execution_count": null,
   "metadata": {
    "collapsed": false,
    "jupyter": {
     "outputs_hidden": false
    },
    "pycharm": {
     "name": "#%%\n"
    }
   },
   "outputs": [],
   "source": [
    "            print('failed when',d,p)"
   ]
  },
  {
   "cell_type": "code",
   "execution_count": 19,
   "metadata": {},
   "outputs": [
    {
     "data": {
      "text/plain": [
       "'/homeappl/home/aliagadi/wrk/DONOTREMOVE/flexpart_management_data/runs/log_pol/run_2019-10-02_13-42-52_/d02_2018-05-31_00-00-00.nc'"
      ]
     },
     "execution_count": 19,
     "metadata": {},
     "output_type": "execute_result"
    }
   ],
   "source": [
    "out_path"
   ]
  },
  {
   "cell_type": "code",
   "execution_count": null,
   "metadata": {},
   "outputs": [],
   "source": []
  }
 ],
 "metadata": {
  "jupytext": {
   "text_representation": {
    "extension": ".py",
    "format_name": "percent",
    "format_version": "1.2",
    "jupytext_version": "1.1.3"
   }
  },
  "kernelspec": {
   "display_name": "Python 3",
   "language": "python",
   "name": "python3"
  },
  "language_info": {
   "codemirror_mode": {
    "name": "ipython",
    "version": 3
   },
   "file_extension": ".py",
   "mimetype": "text/x-python",
   "name": "python",
   "nbconvert_exporter": "python",
   "pygments_lexer": "ipython3",
   "version": "3.6.9"
  },
  "pycharm": {
   "stem_cell": {
    "cell_type": "raw",
    "metadata": {
     "collapsed": false
    },
    "source": []
   }
  }
 },
 "nbformat": 4,
 "nbformat_minor": 4
}
