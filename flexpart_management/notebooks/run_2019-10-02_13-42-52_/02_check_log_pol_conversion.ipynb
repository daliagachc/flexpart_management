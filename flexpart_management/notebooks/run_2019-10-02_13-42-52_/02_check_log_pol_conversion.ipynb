{
 "cells": [
  {
   "cell_type": "code",
   "execution_count": 5,
   "metadata": {},
   "outputs": [
    {
     "name": "stdout",
     "output_type": "stream",
     "text": [
      "reload\n"
     ]
    }
   ],
   "source": [
    "from useful_scit.imps import *\n",
    "import flexpart_management.modules.FLEXOUT as FO\n",
    "import flexpart_management.modules.flx_array as fa"
   ]
  },
  {
   "cell_type": "code",
   "execution_count": 7,
   "metadata": {},
   "outputs": [],
   "source": [
    "path = '/homeappl/home/aliagadi/wrk/DONOTREMOVE/flexpart_management_data/runs/run_2019-10-02_13-42-52_/log_pol/run_2019-10-02_13-42-52_/'"
   ]
  },
  {
   "cell_type": "code",
   "execution_count": 11,
   "metadata": {},
   "outputs": [],
   "source": [
    "files = glob.glob(os.path.join(path,'*d01*.nc'))\n",
    "file = files[10]"
   ]
  },
  {
   "cell_type": "code",
   "execution_count": 12,
   "metadata": {},
   "outputs": [],
   "source": [
    "ds = xr.open_dataset(file)"
   ]
  },
  {
   "cell_type": "code",
   "execution_count": 13,
   "metadata": {},
   "outputs": [
    {
     "data": {
      "text/plain": [
       "<xarray.Dataset>\n",
       "Dimensions:    (R_CENTER: 35, TH_CENTER: 36, ZTOP: 60, releases: 24)\n",
       "Coordinates:\n",
       "  * R_CENTER   (R_CENTER) float64 0.03916 0.05613 0.09633 ... 21.33 25.53 30.57\n",
       "  * TH_CENTER  (TH_CENTER) float64 0.08727 0.2618 0.4363 ... 5.847 6.021 6.196\n",
       "  * ZTOP       (ZTOP) float64 500.0 1e+03 1.5e+03 ... 2.9e+04 2.95e+04 3e+04\n",
       "    LAT        (R_CENTER, TH_CENTER) float64 ...\n",
       "    LON        (R_CENTER, TH_CENTER) float64 ...\n",
       "    LAT_00     (R_CENTER, TH_CENTER) float64 ...\n",
       "    LON_00     (R_CENTER, TH_CENTER) float64 ...\n",
       "    LAT_10     (R_CENTER, TH_CENTER) float64 ...\n",
       "    LON_10     (R_CENTER, TH_CENTER) float64 ...\n",
       "    LAT_11     (R_CENTER, TH_CENTER) float64 ...\n",
       "    LON_11     (R_CENTER, TH_CENTER) float64 ...\n",
       "    LAT_01     (R_CENTER, TH_CENTER) float64 ...\n",
       "    LON_01     (R_CENTER, TH_CENTER) float64 ...\n",
       "    GRIDAREA   (R_CENTER, TH_CENTER) float64 ...\n",
       "  * releases   (releases) datetime64[ns] 2018-01-15 ... 2018-01-15T23:00:00\n",
       "Data variables:\n",
       "    CONC       (R_CENTER, TH_CENTER, releases, ZTOP) float32 ..."
      ]
     },
     "execution_count": 13,
     "metadata": {},
     "output_type": "execute_result"
    }
   ],
   "source": [
    "\n",
    "ds"
   ]
  },
  {
   "cell_type": "code",
   "execution_count": null,
   "metadata": {},
   "outputs": [],
   "source": []
  }
 ],
 "metadata": {
  "jupytext": {
   "text_representation": {
    "extension": ".py",
    "format_name": "percent",
    "format_version": "1.2",
    "jupytext_version": "1.2.3"
   }
  },
  "kernelspec": {
   "display_name": "Python 3",
   "language": "python",
   "name": "python3"
  },
  "language_info": {
   "codemirror_mode": {
    "name": "ipython",
    "version": 3
   },
   "file_extension": ".py",
   "mimetype": "text/x-python",
   "name": "python",
   "nbconvert_exporter": "python",
   "pygments_lexer": "ipython3",
   "version": "3.6.9"
  }
 },
 "nbformat": 4,
 "nbformat_minor": 4
}
