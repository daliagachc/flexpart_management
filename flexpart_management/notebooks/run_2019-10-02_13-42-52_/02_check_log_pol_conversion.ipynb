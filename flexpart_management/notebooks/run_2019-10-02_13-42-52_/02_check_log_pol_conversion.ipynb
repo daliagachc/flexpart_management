{
 "cells": [
  {
   "cell_type": "code",
   "execution_count": 1,
   "metadata": {},
   "outputs": [
    {
     "name": "stdout",
     "output_type": "stream",
     "text": [
      "reload\n"
     ]
    }
   ],
   "source": [
    "from useful_scit.imps import *\n",
    "# noinspection PyUnresolvedReferences\n",
    "import flexpart_management.modules.FLEXOUT as FO\n",
    "import flexpart_management.modules.flx_array as fa\n",
    "import flexpart_management.modules.constants as co\n",
    "import matplotlib.colors as mpl_colors"
   ]
  },
  {
   "cell_type": "markdown",
   "metadata": {
    "lines_to_next_cell": 0
   },
   "source": [
    "#Functions"
   ]
  },
  {
   "cell_type": "code",
   "execution_count": 2,
   "metadata": {},
   "outputs": [],
   "source": [
    "# noinspection PyShadowingNames\n",
    "def plot_combined_log_pol_coords( ds01 , ds02 , r_distance_limit=2.5 ) :\n",
    "    f , ax = plt.subplots()\n",
    "    # noinspection PyTypeChecker\n",
    "    limit_ = { co.R_CENTER : slice( 0 , r_distance_limit ) }\n",
    "    _ds2_sliced = ds02.loc[ limit_ ]\n",
    "    plot_th_r( ds01 , ax )\n",
    "    qmesh = plot_th_r( _ds2_sliced , ax )\n",
    "    f: plt.Figure\n",
    "    f.colorbar( qmesh , ax=ax )\n",
    "    ax: plt.Axes\n",
    "    ax.set_title( 'combined domain log pol coords' )\n",
    "    old_title = ax.title.get_text()\n",
    "    date_ = ds01.attrs[ \"date\" ]\n",
    "    new_title = f'{old_title}\\n{date_}'\n",
    "    ax.set_title( new_title )\n",
    "    # plt.show()\n",
    "    return ax\n",
    "\n",
    "\n",
    "# noinspection PyShadowingNames\n",
    "def plot_r_z_combined_log_pol_coords( ds01 , ds02 , r_distance_limit=2.5 ) :\n",
    "    f , ax = plt.subplots()\n",
    "    # noinspection PyTypeChecker\n",
    "    slice___ = { co.R_CENTER : slice( 0 , r_distance_limit ) }\n",
    "    _ds2_sliced = ds02.loc[ slice___ ]\n",
    "    plot_r_z( ds01 , ax )\n",
    "    qmesh = plot_r_z( _ds2_sliced , ax )\n",
    "    f: plt.Figure\n",
    "    f.colorbar( qmesh , ax=ax )\n",
    "    ax: plt.Axes\n",
    "    ax.set_title( 'combined domain log pol coords' )\n",
    "    ax.set_xlim( 0 , 30 )\n",
    "    old_title = ax.title.get_text()\n",
    "    date_ = ds01.attrs[ \"date\" ]\n",
    "    new_title = f'{old_title}\\n{date_}'\n",
    "    ax.set_title( new_title )\n",
    "    return ax\n",
    "\n",
    "\n",
    "# noinspection PyShadowingNames\n",
    "def plot_th_r( ds , ax ) :\n",
    "    sum_geo_ = [ co.ZT , co.RL ]\n",
    "    plot_threshold = 1e2\n",
    "    qmesh = plot_qmesh( ds , ax , plot_threshold , sum_geo_ )\n",
    "    return qmesh\n",
    "\n",
    "\n",
    "# noinspection PyShadowingNames\n",
    "def plot_r_z( ds , ax ) :\n",
    "    sum_geo_ = [ co.TH_CENTER , co.RL ]\n",
    "    plot_threshold = 1e2\n",
    "    qmesh = plot_qmesh( ds , ax ,\n",
    "                        plot_threshold ,\n",
    "                        sum_geo_ ,\n",
    "                        x=co.R_CENTER ,\n",
    "                        y=co.ZM ,\n",
    "                        yscale='linear' ,\n",
    "                        ylim_m=250 ,\n",
    "                        ylim_M=30000\n",
    "                        )\n",
    "    return qmesh\n",
    "\n",
    "\n",
    "# noinspection PyShadowingNames\n",
    "def plot_qmesh( ds , ax ,\n",
    "                plot_threshold ,\n",
    "                sum_dims ,\n",
    "                x=co.TH_CENTER ,\n",
    "                y=co.R_CENTER ,\n",
    "                yscale='log' ,\n",
    "                ylim_m=.2 ,\n",
    "                ylim_M=20 ) :\n",
    "    vmin = 1e1\n",
    "    vmax = 1e5\n",
    "    cmap = plt.get_cmap( 'Reds' )\n",
    "    conc__sum: xr.DataArray = ds[ co.CONC ].sum( sum_dims )\n",
    "    conc__sum = conc__sum.where( conc__sum > plot_threshold )\n",
    "    qmesh = conc__sum.plot( ax=ax ,\n",
    "                            add_colorbar=False ,\n",
    "                            vmin=vmin ,\n",
    "                            vmax=vmax ,\n",
    "                            cmap=cmap ,\n",
    "                            x=x ,\n",
    "                            y=y\n",
    "                            )\n",
    "    ax: plt.Axes\n",
    "    ax.set_ylim( ylim_m , ylim_M )\n",
    "    ax.set_yscale( yscale )\n",
    "    return qmesh"
   ]
  },
  {
   "cell_type": "code",
   "execution_count": 3,
   "metadata": {
    "lines_to_next_cell": 1
   },
   "outputs": [],
   "source": [
    "\n",
    "# noinspection PyShadowingNames\n",
    "def get_ds_dom_file( dom01_pat , path , i_file=10 ) :\n",
    "    files = get_file_list( dom01_pat , path )\n",
    "    file = files[ i_file ]\n",
    "    print( file )\n",
    "    ds = xr.open_dataset( file )\n",
    "    ds = fa.add_zmid( ds )\n",
    "    return ds\n",
    "\n",
    "\n",
    "# noinspection PyShadowingNames\n",
    "def get_file_list( dom01_pat , path ) :\n",
    "    files = glob.glob( os.path.join( path , dom01_pat ) )\n",
    "    files.sort()\n",
    "    return files\n",
    "\n",
    "\n",
    "# noinspection PyShadowingNames\n",
    "def get_df_file_list( path , dom='*d01*' ) :\n",
    "    file_list = get_file_list( dom , path=path )\n",
    "    path = 'path'\n",
    "    base_name = 'base_name'\n",
    "    date = 'date'\n",
    "    dom = 'dom'\n",
    "\n",
    "    df_file_list = pd.DataFrame( file_list , columns=[ path ] )\n",
    "    df_file_list[ base_name ] = df_file_list[ path ].apply(\n",
    "        lambda p : os.path.basename( p )\n",
    "        )\n",
    "    date_patt = '%Y-%m-%d_%H-%M-%S'\n",
    "    patt = 'd.._(.*)\\.nc'\n",
    "    _dfbn = df_file_list[ base_name ]\n",
    "    _dfbn = _dfbn.str.extract( patt )[ 0 ]\n",
    "    df_file_list[ date ] = pd.to_datetime( _dfbn , format=date_patt )\n",
    "    df_file_list = df_file_list.set_index( date )\n",
    "\n",
    "    patt = '(d..)_.*\\.nc'\n",
    "    _dfbn = df_file_list[ base_name ]\n",
    "    _dfbn = _dfbn.str.extract( patt )[ 0 ]\n",
    "    df_file_list[ dom ] = _dfbn\n",
    "    return df_file_list\n",
    "\n",
    "\n",
    "# noinspection PyShadowingNames\n",
    "def get_merged_file_df( path ) :\n",
    "    df_file_list_1 = get_df_file_list( path , dom='*d01*' )\n",
    "    df_file_list_2 = get_df_file_list( path , dom='*d02*' )\n",
    "    df_d1_d2 = pd.merge( df_file_list_1 ,\n",
    "                         df_file_list_2 ,\n",
    "                         left_index=True ,\n",
    "                         right_index=True ,\n",
    "                         suffixes=[ '_d01' , '_d02' ]\n",
    "                         )\n",
    "    return df_d1_d2\n",
    "\n",
    "\n",
    "# noinspection PyShadowingNames\n",
    "def open_ds_from_row_dom( row , dom ) :\n",
    "    ds01 = xr.open_dataset( row[ 'path_' + dom ] )\n",
    "    ds01: xr.Dataset = fa.add_zmid( ds01 )\n",
    "    ds01 = ds01.assign_attrs( { 'date' : row.name } )\n",
    "    return ds01\n",
    "\n",
    "\n",
    "# noinspection PyShadowingNames\n",
    "def join_log_pol_dom_ds( ds01: xr.Dataset ,\n",
    "                         ds02: xr.Dataset ,\n",
    "                         threshold: float\n",
    "                         ) -> xr.Dataset :\n",
    "    \"\"\"\n",
    "    comines low res `ds01` and high res `ds02` `xr.Datasets`\n",
    "    based on the `threshold`\n",
    "\n",
    "    Parameters\n",
    "    ----------\n",
    "    ds01\n",
    "        low res dataset\n",
    "    ds02\n",
    "        high res dataset\n",
    "    threshold\n",
    "        limit for the combination in degree radian units\n",
    "    Returns\n",
    "    -------\n",
    "    xr.Dataset\n",
    "        the combined dataset\n",
    "    \"\"\"\n",
    "    r_vector = ds01[ co.R_CENTER ]\n",
    "    r_is_big_mask = r_vector >= threshold\n",
    "    ds01_trimmed = ds01.where( r_is_big_mask , drop=True )\n",
    "\n",
    "    r_vector = ds02[ co.R_CENTER ]\n",
    "    r_is_small_mask = (r_vector < threshold) & (r_vector > .01)\n",
    "    ds02_trimmed = ds02.where( r_is_small_mask , drop=True )\n",
    "\n",
    "    # noinspection PyTypeChecker\n",
    "    ds_trimmed: xr.Dataset = xr.concat( [ ds02_trimmed , ds01_trimmed ] ,\n",
    "                                        dim=co.R_CENTER )\n",
    "    return ds_trimmed"
   ]
  },
  {
   "cell_type": "code",
   "execution_count": 4,
   "metadata": {
    "lines_to_next_cell": 1
   },
   "outputs": [],
   "source": [
    "def plot_log_custom( dsum , vmax , vmin , map_fun=fa.get_ax_bolivia ) :\n",
    "    ax = map_fun( fig_args={ 'figsize' : (10 , 8) } )\n",
    "    pargs_ = { 'norm' : mpl_colors.LogNorm( vmin=vmin ) }\n",
    "    fa.logpolar_plot( dsum , ax=ax , perM=vmax , perm=vmin ,\n",
    "                      quantile=False ,\n",
    "                      patch_args=pargs_ ,\n",
    "                      drop_zeros=False ,\n",
    "                      )"
   ]
  },
  {
   "cell_type": "code",
   "execution_count": 5,
   "metadata": {
    "lines_to_next_cell": 0
   },
   "outputs": [],
   "source": [
    "# def main(  ) :"
   ]
  },
  {
   "cell_type": "code",
   "execution_count": 6,
   "metadata": {
    "lines_to_next_cell": 0
   },
   "outputs": [],
   "source": [
    "path = '/homeappl/home/aliagadi/wrk/' \\\n",
    "   'DONOTREMOVE/flexpart_management_data' \\\n",
    "   '/runs/run_2019-10-02_13-42-52_/log_pol' \\\n",
    "   '/run_2019-10-02_13-42-52_/'"
   ]
  },
  {
   "cell_type": "code",
   "execution_count": 7,
   "metadata": {
    "lines_to_next_cell": 2
   },
   "outputs": [
    {
     "name": "stdout",
     "output_type": "stream",
     "text": [
      "80\n"
     ]
    }
   ],
   "source": [
    "df_d1_d2 = get_merged_file_df( path )\n",
    "print( len( df_d1_d2 ) )\n",
    "loc = 23\n",
    "row = df_d1_d2.iloc[ loc ]\n",
    "ds01 = open_ds_from_row_dom( row , 'd01' )\n",
    "ds02 = open_ds_from_row_dom( row , 'd02' )"
   ]
  },
  {
   "cell_type": "code",
   "execution_count": 8,
   "metadata": {
    "lines_to_next_cell": 0
   },
   "outputs": [],
   "source": [
    "threshold = 2.5\n",
    "ucp.set_dpi( 150 )\n",
    "ax = plot_combined_log_pol_coords(\n",
    "    ds01 , ds02 ,\n",
    "    r_distance_limit=threshold\n",
    "    )\n",
    "\n",
    "plt.show()"
   ]
  },
  {
   "cell_type": "code",
   "execution_count": 9,
   "metadata": {
    "lines_to_next_cell": 0
   },
   "outputs": [],
   "source": [
    "# noinspection PyRedeclaration\n",
    "ax = plot_r_z_combined_log_pol_coords(\n",
    "    ds01 , ds02 ,\n",
    "    r_distance_limit=threshold )\n",
    "plt.show()"
   ]
  },
  {
   "cell_type": "code",
   "execution_count": 10,
   "metadata": {
    "lines_to_next_cell": 0
   },
   "outputs": [],
   "source": [
    "# fa.get_ax_bolivia()\n",
    "# fa.get_combined_flx_ds()\n",
    "# plt.show()"
   ]
  },
  {
   "cell_type": "code",
   "execution_count": 11,
   "metadata": {
    "lines_to_next_cell": 0
   },
   "outputs": [
    {
     "name": "stderr",
     "output_type": "stream",
     "text": [
      "/homeappl/home/aliagadi/.pycharm_helpers/pycharm_matplotlib_backend/backend_interagg.py:64: UserWarning: Tight layout not applied. The left and right margins cannot be made large enough to accommodate all axes decorations. \n",
      "  self.figure.tight_layout()\n"
     ]
    }
   ],
   "source": [
    "ds12 = join_log_pol_dom_ds( ds01=ds01 , ds02=ds02 , threshold=threshold )\n",
    "dsum = ds12.sum( [ co.RL , co.ZTOP ] )\n",
    "\n",
    "vmin = 2e3\n",
    "vmax = 1e5\n",
    "# noinspection PyRedeclaration\n",
    "plot_log_custom( dsum , vmax , vmin, map_fun=fa.get_ax_bolivia )\n",
    "plt.show()"
   ]
  },
  {
   "cell_type": "code",
   "execution_count": 12,
   "metadata": {},
   "outputs": [],
   "source": [
    "\n",
    "plot_log_custom( dsum , vmax , vmin, map_fun=fa.get_ax_lapaz )\n",
    "# plt.show()"
   ]
  },
  {
   "cell_type": "code",
   "execution_count": 13,
   "metadata": {},
   "outputs": [],
   "source": [
    "pass\n",
    "\n",
    "\n",
    "\n",
    "\n",
    "# main()"
   ]
  }
 ],
 "metadata": {
  "jupytext": {
   "formats": "ipynb,py:percent"
  },
  "kernelspec": {
   "display_name": "Python 3",
   "language": "python",
   "name": "python3"
  },
  "language_info": {
   "codemirror_mode": {
    "name": "ipython",
    "version": 3
   },
   "file_extension": ".py",
   "mimetype": "text/x-python",
   "name": "python",
   "nbconvert_exporter": "python",
   "pygments_lexer": "ipython3",
   "version": "3.6.9"
  }
 },
 "nbformat": 4,
 "nbformat_minor": 2
}
