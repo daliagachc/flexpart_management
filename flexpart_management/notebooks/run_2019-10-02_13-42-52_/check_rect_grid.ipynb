{
 "cells": [
  {
   "cell_type": "markdown",
   "metadata": {},
   "source": [
    "project name: flexpart_management\n",
    "created by diego aliaga daliaga_at_chacaltaya.edu.bo"
   ]
  },
  {
   "cell_type": "code",
   "execution_count": 83,
   "metadata": {},
   "outputs": [],
   "source": [
    "from useful_scit.imps import *\n",
    "\n",
    "path = '/homeappl/home/aliagadi/wrk/' \\\n",
    "       'DONOTREMOVE/flexpart_management_data/' \\\n",
    "       'runs/run_2019-10-02_13-42-52_/'\n",
    "dom = 'd01'\n",
    "patt = f'*/flxout_{dom}_*.nc'\n",
    "i_sparse = 100\n",
    "path_patt = os.path.join(path,patt)"
   ]
  },
  {
   "cell_type": "code",
   "execution_count": 84,
   "metadata": {
    "lines_to_next_cell": 0
   },
   "outputs": [
    {
     "data": {
      "text/plain": [
       "21240"
      ]
     },
     "execution_count": 84,
     "metadata": {},
     "output_type": "execute_result"
    }
   ],
   "source": [
    "list_files = glob.glob(path_patt)\n",
    "len(list_files)"
   ]
  },
  {
   "cell_type": "code",
   "execution_count": 85,
   "metadata": {
    "lines_to_next_cell": 0
   },
   "outputs": [
    {
     "data": {
      "text/plain": [
       "213"
      ]
     },
     "execution_count": 85,
     "metadata": {},
     "output_type": "execute_result"
    }
   ],
   "source": [
    "\n",
    "files = list_files[0:None:i_sparse]\n",
    "len(files)"
   ]
  },
  {
   "cell_type": "code",
   "execution_count": 86,
   "metadata": {},
   "outputs": [],
   "source": [
    "\n",
    "\n",
    "ds = xr.open_mfdataset(files,concat_dim='Time',combine='nested')\n",
    "\n",
    "ds_sum = ds.sum(['ageclass','bottom_top','releases','Time'])\n"
   ]
  },
  {
   "cell_type": "code",
   "execution_count": null,
   "metadata": {},
   "outputs": [],
   "source": []
  },
  {
   "cell_type": "code",
   "execution_count": null,
   "metadata": {
    "lines_to_next_cell": 2
   },
   "outputs": [],
   "source": [
    "name = f'sum_rect_{dom}.nc'\n",
    "dir_path = '/homeappl/home/aliagadi/saltena_2018/flexpart_management/flexpart_management/notebooks/run_2019-10-02_13-42-52_/'\n",
    "path_out = os.path.join(dir_path,name)\n",
    "ds_sum.to_netcdf(path_out)"
   ]
  },
  {
   "cell_type": "code",
   "execution_count": null,
   "metadata": {},
   "outputs": [],
   "source": [
    "ds_sum = xr.open_dataset(path_out)"
   ]
  },
  {
   "cell_type": "code",
   "execution_count": null,
   "metadata": {},
   "outputs": [],
   "source": [
    "dc = ds_sum['CONC']"
   ]
  },
  {
   "cell_type": "code",
   "execution_count": null,
   "metadata": {},
   "outputs": [],
   "source": [
    "center = dc.where(dc==dc.max()).to_dataframe().dropna().reset_index().iloc[0]\n",
    "center"
   ]
  },
  {
   "cell_type": "code",
   "execution_count": null,
   "metadata": {},
   "outputs": [],
   "source": [
    "ds_sum['c_sn'] = dc['south_north']-center['south_north']\n",
    "ds_sum['c_we'] = dc['west_east']  -center['west_east']"
   ]
  },
  {
   "cell_type": "code",
   "execution_count": null,
   "metadata": {},
   "outputs": [],
   "source": [
    "ds_sum = ds_sum.assign_coords( **{\n",
    "    'c_sn': ds_sum['c_sn'] ,\n",
    "    'c_we': ds_sum['c_we']\n",
    "                        })"
   ]
  },
  {
   "cell_type": "code",
   "execution_count": null,
   "metadata": {},
   "outputs": [],
   "source": [
    "r_dis = \\\n",
    "    (\n",
    "        ds_sum['c_sn']**2 + ds_sum['c_we']**2\n",
    "    )**(1/2)"
   ]
  },
  {
   "cell_type": "code",
   "execution_count": null,
   "metadata": {},
   "outputs": [],
   "source": [
    "ds_sum = ds_sum.assign_coords(**{'r_dis':r_dis})"
   ]
  },
  {
   "cell_type": "code",
   "execution_count": null,
   "metadata": {},
   "outputs": [],
   "source": [
    "ds_sc = ds_sum['r_dis']**2 *ds_sum['CONC']"
   ]
  },
  {
   "cell_type": "code",
   "execution_count": null,
   "metadata": {},
   "outputs": [],
   "source": [
    "ds_sc.plot()\n",
    "ax:plt.Axes=plt.gca()\n",
    "ax.scatter([center['west_east']],[center['south_north']])"
   ]
  },
  {
   "cell_type": "code",
   "execution_count": null,
   "metadata": {},
   "outputs": [],
   "source": [
    "\n"
   ]
  }
 ],
 "metadata": {
  "jupytext": {
   "cell_metadata_filter": "-all",
   "formats": "ipynb,py:percent",
   "main_language": "python"
  },
  "kernelspec": {
   "display_name": "Python 3",
   "language": "python",
   "name": "python3"
  },
  "language_info": {
   "codemirror_mode": {
    "name": "ipython",
    "version": 3
   },
   "file_extension": ".py",
   "mimetype": "text/x-python",
   "name": "python",
   "nbconvert_exporter": "python",
   "pygments_lexer": "ipython3",
   "version": "3.6.9"
  },
  "pycharm": {
   "stem_cell": {
    "cell_type": "raw",
    "source": [],
    "metadata": {
     "collapsed": false
    }
   }
  }
 },
 "nbformat": 4,
 "nbformat_minor": 4
}