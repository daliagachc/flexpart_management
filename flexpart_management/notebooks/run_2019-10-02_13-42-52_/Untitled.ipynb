{
 "cells": [
  {
   "cell_type": "code",
   "execution_count": 1,
   "metadata": {},
   "outputs": [],
   "source": [
    "import multiprocessing"
   ]
  },
  {
   "cell_type": "code",
   "execution_count": 2,
   "metadata": {},
   "outputs": [
    {
     "data": {
      "text/plain": [
       "16"
      ]
     },
     "execution_count": 2,
     "metadata": {},
     "output_type": "execute_result"
    }
   ],
   "source": [
    "multiprocessing.cpu_count()"
   ]
  },
  {
   "cell_type": "code",
   "execution_count": 7,
   "metadata": {},
   "outputs": [
    {
     "name": "stdout",
     "output_type": "stream",
     "text": [
      "/tmp/aliagadi\n"
     ]
    }
   ],
   "source": [
    "!echo $TMPDIR"
   ]
  },
  {
   "cell_type": "code",
   "execution_count": 8,
   "metadata": {},
   "outputs": [],
   "source": [
    "import os"
   ]
  },
  {
   "cell_type": "code",
   "execution_count": 106,
   "metadata": {},
   "outputs": [],
   "source": [
    "import subprocess\n",
    "ls_output=subprocess.Popen([\"echos 1\"],shell=True,stdout=subprocess.PIPE,stderr=subprocess.PIPE)\n"
   ]
  },
  {
   "cell_type": "code",
   "execution_count": 107,
   "metadata": {},
   "outputs": [],
   "source": [
    "ls_output.returncode"
   ]
  },
  {
   "cell_type": "code",
   "execution_count": 108,
   "metadata": {},
   "outputs": [],
   "source": [
    "ls_output.errors"
   ]
  },
  {
   "cell_type": "code",
   "execution_count": 109,
   "metadata": {},
   "outputs": [
    {
     "data": {
      "text/plain": [
       "<_io.BufferedReader name=47>"
      ]
     },
     "execution_count": 109,
     "metadata": {},
     "output_type": "execute_result"
    }
   ],
   "source": [
    "ls_output.stderr"
   ]
  },
  {
   "cell_type": "code",
   "execution_count": 110,
   "metadata": {},
   "outputs": [
    {
     "data": {
      "text/plain": [
       "<_io.BufferedReader name=45>"
      ]
     },
     "execution_count": 110,
     "metadata": {},
     "output_type": "execute_result"
    }
   ],
   "source": [
    "ls_output.stdout"
   ]
  },
  {
   "cell_type": "code",
   "execution_count": 111,
   "metadata": {},
   "outputs": [
    {
     "data": {
      "text/plain": [
       "(b'', b'/bin/sh: echos: command not found\\n')"
      ]
     },
     "execution_count": 111,
     "metadata": {},
     "output_type": "execute_result"
    }
   ],
   "source": [
    "ls_output.communicate(timeout=.1)"
   ]
  },
  {
   "cell_type": "code",
   "execution_count": 112,
   "metadata": {},
   "outputs": [
    {
     "name": "stdout",
     "output_type": "stream",
     "text": [
      "Usage: srun [OPTIONS...] executable [args...]\n",
      "\n",
      "Parallel run options:\n",
      "  -A, --account=name          charge job to specified account\n",
      "      --acctg-freq=<datatype>=<interval> accounting and profiling sampling\n",
      "                              intervals. Supported datatypes:\n",
      "                              task=<interval> energy=<interval>\n",
      "                              network=<interval> filesystem=<interval>\n",
      "      --bb=<spec>             burst buffer specifications\n",
      "      --bbf=<file_name>       burst buffer specification file\n",
      "      --bcast=<dest_path>     Copy executable file to compute nodes\n",
      "      --begin=time            defer job until HH:MM MM/DD/YY\n",
      "  -c, --cpus-per-task=ncpus   number of cpus required per task\n",
      "      --checkpoint=time       job step checkpoint interval\n",
      "      --checkpoint-dir=dir    directory to store job step checkpoint image \n",
      "                              files\n",
      "      --comment=name          arbitrary comment\n",
      "      --compress[=library]    data compression library used with --bcast\n",
      "      --cpu-freq=min[-max[:gov]] requested cpu frequency (and governor)\n",
      "  -d, --dependency=type:jobid defer job until condition on jobid is satisfied\n",
      "      --deadline=time         remove the job if no ending possible before\n",
      "                              this deadline (start > (deadline - time[-min]))\n",
      "      --delay-boot=mins       delay boot for desired node features\n",
      "  -D, --chdir=path            change remote current working directory\n",
      "      --export=env_vars|NONE  environment variables passed to launcher with\n",
      "                              optional values or NONE (pass no variables)\n",
      "  -e, --error=err             location of stderr redirection\n",
      "      --epilog=program        run \"program\" after launching job step\n",
      "  -E, --preserve-env          env vars for node and task counts override\n",
      "                              command-line flags\n",
      "      --get-user-env          used by Moab.  See srun man page.\n",
      "      --gres=list             required generic resources\n",
      "      --gres-flags=opts       flags related to GRES management\n",
      "  -H, --hold                  submit job in held state\n",
      "  -i, --input=in              location of stdin redirection\n",
      "  -I, --immediate[=secs]      exit if resources not available in \"secs\"\n",
      "      --jobid=id              run under already allocated job\n",
      "  -J, --job-name=jobname      name of job\n",
      "  -k, --no-kill               do not kill job on node failure\n",
      "  -K, --kill-on-bad-exit      kill the job if any task terminates with a\n",
      "                              non-zero exit code\n",
      "  -l, --label                 prepend task number to lines of stdout/err\n",
      "      --launch-cmd            print external launcher command line if not SLURM\n",
      "      --launcher-opts=        options for the external launcher command if not\n",
      "                              SLURM\n",
      "  -L, --licenses=names        required license, comma separated\n",
      "  -M, --clusters=names        Comma separated list of clusters to issue\n",
      "                              commands to.  Default is current cluster.\n",
      "                              Name of 'all' will submit to run on all clusters.\n",
      "                              NOTE: SlurmDBD must up.\n",
      "  -m, --distribution=type     distribution method for processes to nodes\n",
      "                              (type = block|cyclic|arbitrary)\n",
      "      --mail-type=type        notify on state change: BEGIN, END, FAIL or ALL\n",
      "      --mail-user=user        who to send email notification for job state\n",
      "                              changes\n",
      "      --mcs-label=mcs         mcs label if mcs plugin mcs/group is used\n",
      "      --mpi=type              type of MPI being used\n",
      "      --multi-prog            if set the program name specified is the\n",
      "                              configuration specification for multiple programs\n",
      "  -n, --ntasks=ntasks         number of tasks to run\n",
      "      --nice[=value]          decrease scheduling priority by value\n",
      "      --ntasks-per-node=n     number of tasks to invoke on each node\n",
      "  -N, --nodes=N               number of nodes on which to run (N = min[-max])\n",
      "  -o, --output=out            location of stdout redirection\n",
      "  -O, --overcommit            overcommit resources\n",
      "      --pack-group=value      pack job allocation(s) in which to launch\n",
      "                              application\n",
      "  -p, --partition=partition   partition requested\n",
      "      --power=flags           power management options\n",
      "      --priority=value        set the priority of the job to value\n",
      "      --prolog=program        run \"program\" before launching job step\n",
      "      --profile=value         enable acct_gather_profile for detailed data\n",
      "                              value is all or none or any combination of\n",
      "                              energy, lustre, network or task\n",
      "      --propagate[=rlimits]   propagate all [or specific list of] rlimits\n",
      "      --pty                   run task zero in pseudo terminal\n",
      "      --quit-on-interrupt     quit on single Ctrl-C\n",
      "  -q, --qos=qos               quality of service\n",
      "  -Q, --quiet                 quiet mode (suppress informational messages)\n",
      "      --reboot                reboot block before starting job\n",
      "  -r, --relative=n            run job step relative to node n of allocation\n",
      "      --restart-dir=dir       directory of checkpoint image files to restart\n",
      "                              from\n",
      "  -s, --oversubscribe         over-subscribe resources with other jobs\n",
      "  -S, --core-spec=cores       count of reserved cores\n",
      "      --signal=[B:]num[@time] send signal when time limit within time seconds\n",
      "      --slurmd-debug=level    slurmd debug level\n",
      "      --spread-job            spread job across as many nodes as possible\n",
      "      --switches=max-switches{@max-time-to-wait}\n",
      "                              Optimum switches and max time to wait for optimum\n",
      "      --task-epilog=program   run \"program\" after launching task\n",
      "      --task-prolog=program   run \"program\" before launching task\n",
      "      --thread-spec=threads   count of reserved threads\n",
      "  -T, --threads=threads       set srun launch fanout\n",
      "  -t, --time=minutes          time limit\n",
      "      --time-min=minutes      minimum time limit (if distinct)\n",
      "  -u, --unbuffered            do not line-buffer stdout/err\n",
      "      --use-min-nodes         if a range of node counts is given, prefer the\n",
      "                              smaller count\n",
      "  -v, --verbose               verbose mode (multiple -v's increase verbosity)\n",
      "  -W, --wait=sec              seconds to wait after first task exits\n",
      "                              before killing job\n",
      "      --wckey=wckey           wckey to run job under\n",
      "  -X, --disable-status        Disable Ctrl-C status feature\n",
      "\n",
      "Constraint options:\n",
      "      --cluster-constraint=list specify a list of cluster-constraints\n",
      "      --contiguous            demand a contiguous range of nodes\n",
      "  -C, --constraint=list       specify a list of constraints\n",
      "      --mem=MB                minimum amount of real memory\n",
      "      --mincpus=n             minimum number of logical processors (threads)\n",
      "                              per node\n",
      "      --reservation=name      allocate resources from named reservation\n",
      "      --tmp=MB                minimum amount of temporary disk\n",
      "  -w, --nodelist=hosts...     request a specific list of hosts\n",
      "  -x, --exclude=hosts...      exclude a specific list of hosts\n",
      "  -Z, --no-allocate           don't allocate nodes (must supply -w)\n",
      "\n",
      "Consumable resources related options:\n",
      "      --exclusive[=user]      allocate nodes in exclusive mode when\n",
      "                              cpu consumable resource is enabled\n",
      "                              or don't share CPUs for job steps\n",
      "      --exclusive[=mcs]       allocate nodes in exclusive mode when\n",
      "                              cpu consumable resource is enabled\n",
      "                              and mcs plugin is enabled\n",
      "                              or don't share CPUs for job steps\n",
      "      --mem-per-cpu=MB        maximum amount of real memory per allocated\n",
      "                              cpu required by the job.\n",
      "                              --mem >= --mem-per-cpu if --mem is specified.\n",
      "      --resv-ports            reserve communication ports\n",
      "\n",
      "Affinity/Multi-core options: (when the task/affinity plugin is enabled)\n",
      "  -B, --extra-node-info=S[:C[:T]]           Expands to:\n",
      "      --sockets-per-node=S    number of sockets per node to allocate\n",
      "      --cores-per-socket=C    number of cores per socket to allocate\n",
      "      --threads-per-core=T    number of threads per core to allocate\n",
      "                              each field can be 'min' or wildcard '*'\n",
      "                              total cpus requested = (N x S x C x T)\n",
      "\n",
      "      --ntasks-per-core=n     number of tasks to invoke on each core\n",
      "      --ntasks-per-socket=n   number of tasks to invoke on each socket\n",
      "      --cpu-bind=             Bind tasks to CPUs\n",
      "                              (see \"--cpu-bind=help\" for options)\n",
      "      --hint=                 Bind tasks according to application hints\n",
      "                              (see \"--hint=help\" for options)\n",
      "      --mem-bind=             Bind memory to locality domains (ldom)\n",
      "                              (see \"--mem-bind=help\" for options)\n",
      "\n",
      "Options provided by plugins:\n",
      "\n",
      "      --x11=[batch|first|last|all]\n",
      "                              Export x11 display on first|last|all allocated\n",
      "                              node(s)\n",
      "\n",
      "\n",
      "Help options:\n",
      "  -h, --help                  show this help message\n",
      "      --usage                 display brief usage message\n",
      "\n",
      "Other options:\n",
      "  -V, --version               output version information and exit\n",
      "\n"
     ]
    }
   ],
   "source": [
    "!srun --help"
   ]
  },
  {
   "cell_type": "code",
   "execution_count": null,
   "metadata": {},
   "outputs": [],
   "source": []
  }
 ],
 "metadata": {
  "jupytext": {
   "text_representation": {
    "extension": ".py",
    "format_name": "percent",
    "format_version": "1.2",
    "jupytext_version": "1.2.3"
   }
  },
  "kernelspec": {
   "display_name": "Python 3",
   "language": "python",
   "name": "python3"
  },
  "language_info": {
   "codemirror_mode": {
    "name": "ipython",
    "version": 3
   },
   "file_extension": ".py",
   "mimetype": "text/x-python",
   "name": "python",
   "nbconvert_exporter": "python",
   "pygments_lexer": "ipython3",
   "version": "3.6.9"
  }
 },
 "nbformat": 4,
 "nbformat_minor": 4
}
