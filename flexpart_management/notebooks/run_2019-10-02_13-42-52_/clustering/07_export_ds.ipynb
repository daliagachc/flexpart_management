{
 "cells": [
  {
   "cell_type": "markdown",
   "metadata": {},
   "source": [
    "project name: flexpart_management\n",
    "created by diego aliaga daliaga_at_chacaltaya.edu.bo"
   ]
  },
  {
   "cell_type": "code",
   "execution_count": null,
   "metadata": {
    "lines_to_next_cell": 0
   },
   "outputs": [],
   "source": []
  },
  {
   "cell_type": "markdown",
   "metadata": {
    "lines_to_next_cell": 0
   },
   "source": [
    "imports"
   ]
  },
  {
   "cell_type": "code",
   "execution_count": null,
   "metadata": {
    "lines_to_next_cell": 0
   },
   "outputs": [],
   "source": [
    "\n",
    "from useful_scit.imps import *\n",
    "# noinspection PyUnresolvedReferences\n",
    "import matplotlib.colors\n",
    "import flexpart_management.modules.FlexLogPol as FlexLogPol\n",
    "import flexpart_management.modules.constants as co\n",
    "# noinspection PyUnresolvedReferences\n",
    "import flexpart_management.modules.flx_array as fa\n",
    "import flexpart_management.modules.clustering_funs as cfuns\n",
    "from flexpart_management.modules.clustering_funs import (\n",
    "    add_total_per_row ,\n",
    "    add_time_per_row ,\n",
    "    )"
   ]
  },
  {
   "cell_type": "code",
   "execution_count": null,
   "metadata": {},
   "outputs": [],
   "source": [
    "\n",
    "# plt.rcParams[ 'figure.facecolor' ] = 'white'\n",
    "co.LAB = 'lab'\n",
    "\n",
    "# plt.style.use('seaborn-whitegrid')\n",
    "# plt.rcParams[\"legend.frameon\"] = True\n",
    "# plt.rcParams[\"legend.fancybox\"] = True"
   ]
  },
  {
   "cell_type": "code",
   "execution_count": 3,
   "metadata": {
    "lines_to_next_cell": 1
   },
   "outputs": [],
   "source": [
    "# def main() :\n",
    "\n",
    "log.ger.setLevel( log.log.DEBUG )"
   ]
  },
  {
   "cell_type": "code",
   "execution_count": 4,
   "metadata": {
    "lines_to_next_cell": 0
   },
   "outputs": [],
   "source": [
    "# noinspection PyUnusedLocal,PyShadowingNames\n",
    "def open_if_taito() :\n",
    "                 # noinspection SpellCheckingInspection\n",
    "                 path = \\\n",
    "                 '/homeappl/home/aliagadi/wrk/DONOTREMOVE' \\\n",
    "                 '/flexpart_management_data/runs/' \\\n",
    "                 'run_2019-10-02_13-42-52_/' \\\n",
    "                 'log_pol/run_2019-10-02_13-42-52_'\n",
    "                 # flp = FLP.FlexLogPol(path,concat=True)\n",
    "                 # flp_instance = FLP.FlexLogPol(path,concat=False)\n",
    "                 selfFLP = FlexLogPol.FlexLogPol(\n",
    "                 path ,\n",
    "                 # concat=True,\n",
    "                 concat=False ,\n",
    "                 get_clusters=False ,\n",
    "                 # open_merged=False,\n",
    "                 open_merged=True ,\n",
    "                 # merge_ds=False ,\n",
    "                 # merge_ds=True ,\n",
    "                 clusters_avail=False ,\n",
    "\n",
    "                 # postprocess set to false since we are opening the re interpolated\n",
    "                 # version\n",
    "                 postprocess=False ,\n",
    "\n",
    "                 use_new_merge_fun=True ,\n",
    "\n",
    "                 # set to false bc already done in the saved version\n",
    "                 filter_r_min_max=False ,\n",
    "                 )\n",
    "                 selfFLP.get_list_datasets_saved()\n",
    "                 # noinspection PyUnresolvedReferences\n",
    "                 ds = selfFLP.open_ds_version( 'ds_clustered_18.nc' )\n",
    "                 return selfFLP , ds"
   ]
  },
  {
   "cell_type": "code",
   "execution_count": null,
   "metadata": {
    "lines_to_next_cell": 0
   },
   "outputs": [],
   "source": [
    "\n",
    "def get_time_series(variable , ds, n_clusters=18, lab_variable=co.LAB):\n",
    "    ds_lab_dic = {}\n",
    "    for ci in range(n_clusters):\n",
    "        ds_lab = ds[[variable]].where(ds[lab_variable] == ci).copy()\n",
    "        ds_lab_dic[ci] = ds_lab.copy()\n",
    "    # %%\n",
    "    ll = []\n",
    "    for i in range(n_clusters):\n",
    "        dsum = ds_lab_dic[i].sum([co.R_CENTER, co.TH_CENTER, co.ZM])\n",
    "        dsum = dsum.expand_dims(**{'lab': [i]})\n",
    "        ll.append(dsum)\n",
    "    #\n",
    "    # %%\n",
    "    mega_ds = xr.concat(ll, dim='lab')\n",
    "    # %%\n",
    "    df_ = mega_ds.to_dataframe()\n",
    "    return df_"
   ]
  },
  {
   "cell_type": "code",
   "execution_count": null,
   "metadata": {
    "lines_to_next_cell": 3
   },
   "outputs": [],
   "source": [
    "def main():\n",
    "\n",
    "    # %%\n",
    "    # selfFLP,ds = open_if_taito()\n",
    "    path = '/Users/diego/flexpart_management/flexpart_management/tmp_data' \\\n",
    "       '/ds_clustered_18.nc'\n",
    "    ds = xr.open_mfdataset( path ,concat_dim=co.RL,combine='nested')\n",
    "    # %%\n",
    "    conc_lab = 'CONC_smooth_t_300_z_25_r_100_th_50'\n",
    "    new_lab_p = 'conc_smooth_p'\n",
    "    new_lab_p_t = 'conc_smooth_p_t'\n",
    "    conc = co.CONC\n",
    "    add_total_per_row( ds , conc_lab , new_lab_p )\n",
    "    add_time_per_row( ds , conc_lab , new_lab_p_t )\n",
    "    # print( da_tot )\n",
    "\n",
    "    # %%\n",
    "\n",
    "    # %%\n",
    "\n",
    "    # %%\n",
    "    df_ = get_time_series(conc,ds)\n",
    "\n",
    "\n",
    "    # %%\n",
    "    df1 = df_.unstack(0)\n",
    "\n",
    "    # %%\n",
    "    df1_tot = df1.sum(axis=1)\n",
    "    dfn = (df1.T/df1_tot).T * 100\n",
    "    # %%\n",
    "    # %%\n",
    "\n",
    "\n",
    "    # %%\n",
    "    import pandas as pd\n",
    "\n",
    "    from bokeh.palettes import Category20_18\n",
    "    from bokeh.models import Legend\n",
    "    from bokeh.plotting import figure, output_file, show\n",
    "    from bokeh.sampledata.stocks import AAPL, IBM, MSFT, GOOG\n",
    "\n",
    "    p = figure(plot_width=800, plot_height=250, x_axis_type=\"datetime\")\n",
    "    p.title.text = 'Click on legend entries to hide the corresponding lines'\n",
    "\n",
    "    # for data, name, color in zip([AAPL, IBM, MSFT, GOOG],\n",
    "    #                              [\"AAPL\", \"IBM\", \"MSFT\", \"GOOG\"], Spectral4):\n",
    "    legends = []\n",
    "    for i in range(18):\n",
    "        # df = pd.DataFrame(data)\n",
    "        # df['date'] = pd.to_datetime(df['date'])\n",
    "        res = p.line(dfn.index,dfn['CONC'][i],\n",
    "                     # legend_label=str(i),\n",
    "               line_width=2, alpha=0.8,\n",
    "               color = Category20_18[i]\n",
    "               )\n",
    "        legends.append((str(i),[res]))\n",
    "\n",
    "    leg1 = Legend(items=legends[:6],click_policy='hide')\n",
    "    leg2 = Legend(items=legends[6:12],click_policy='hide')\n",
    "    leg3 = Legend(items=legends[12:18],click_policy='hide')\n",
    "\n",
    "    # p.legend.location = \"right\"\n",
    "    p.add_layout(leg1,'left')\n",
    "    p.add_layout(leg2, 'left')\n",
    "    p.add_layout(leg3, 'left')\n",
    "\n",
    "    # p.legend.click_policy = \"hide\"\n",
    "\n",
    "    output_file(\"interactive_legend.html\",\n",
    "                title=\"interactive_legend.py example\",\n",
    "                mode='inline')\n",
    "\n",
    "    show(p)\n",
    "    \n",
    "\n",
    "    # %%\n",
    "    df1.to_excel(f'/Users/diego/flexpart_management/flexpart_management/presentations/{new_lab_p}.xls')\n",
    "\n",
    "    # %%\n",
    "    N_CLUSTERS = 18\n",
    "    ds_lab_dic_t = { }\n",
    "    for ci in range( N_CLUSTERS ) :\n",
    "        ds_lab = ds[ [ new_lab_p_t ] ].where( ds[ co.LAB ] == ci ).copy()\n",
    "        ds_lab_dic_t[ ci ] = ds_lab.copy()\n",
    "\n",
    "    # %%\n",
    "    i=0\n",
    "    ll_t = []\n",
    "    for i in range(N_CLUSTERS):\n",
    "        dsum = ds_lab_dic_t[i].sum([co.R_CENTER,co.TH_CENTER,co.ZM])\n",
    "        dsum = dsum.expand_dims(**{'lab':[i]})\n",
    "        ll_t.append(dsum)\n",
    "\n",
    "    #\n",
    "\n",
    "    # %%\n",
    "    mega_ds = xr.concat(ll_t,dim='lab')\n",
    "\n",
    "    # %%\n",
    "    df_ = mega_ds.to_dataframe()\n",
    "\n",
    "    # %%\n",
    "    df1 = df_.unstack(0)\n",
    "\n",
    "    # %%\n",
    "    df1.to_excel(f'/Users/diego/flexpart_management/flexpart_management/presentations/{new_lab_p_t}.xls')\n",
    "\n",
    "    # %%\n",
    "\n",
    "    # %%"
   ]
  }
 ],
 "metadata": {
  "jupytext": {
   "cell_metadata_filter": "-all",
   "formats": "ipynb,py:percent"
  },
  "kernelspec": {
   "display_name": "Python 3",
   "language": "python",
   "name": "python3"
  },
  "language_info": {
   "codemirror_mode": {
    "name": "ipython",
    "version": 3
   },
   "file_extension": ".py",
   "mimetype": "text/x-python",
   "name": "python",
   "nbconvert_exporter": "python",
   "pygments_lexer": "ipython3",
   "version": "3.6.7"
  }
 },
 "nbformat": 4,
 "nbformat_minor": 2
}
