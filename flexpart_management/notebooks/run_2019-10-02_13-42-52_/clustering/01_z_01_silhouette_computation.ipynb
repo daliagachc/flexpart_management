{
 "cells": [
  {
   "cell_type": "markdown",
   "metadata": {},
   "source": [
    "project name: flexpart_management\n",
    "created by diego aliaga daliaga_at_chacaltaya.edu.bo"
   ]
  },
  {
   "cell_type": "code",
   "execution_count": null,
   "metadata": {
    "lines_to_next_cell": 0
   },
   "outputs": [],
   "source": []
  },
  {
   "cell_type": "markdown",
   "metadata": {
    "lines_to_next_cell": 0
   },
   "source": [
    "imports"
   ]
  },
  {
   "cell_type": "code",
   "execution_count": null,
   "metadata": {
    "lines_to_next_cell": 0
   },
   "outputs": [],
   "source": [
    "from sklearn.preprocessing import QuantileTransformer\n",
    "from useful_scit.imps import *\n",
    "# noinspection PyUnresolvedReferences\n",
    "import matplotlib.colors\n",
    "import flexpart_management.modules.FlexLogPol as FlexLogPol\n",
    "import flexpart_management.modules.constants as co\n",
    "# noinspection PyUnresolvedReferences\n",
    "import flexpart_management.modules.flx_array as fa\n",
    "import flexpart_management.modules.clustering_funs as cfuns\n",
    "from sklearn.metrics import silhouette_samples"
   ]
  },
  {
   "cell_type": "code",
   "execution_count": 7,
   "metadata": {},
   "outputs": [],
   "source": [
    "ds = xr.open_mfdataset( [ co.latest_ds_mac ] , combine='by_coords' )"
   ]
  },
  {
   "cell_type": "code",
   "execution_count": 8,
   "metadata": {},
   "outputs": [
    {
     "data": {
      "text/plain": [
       "<xarray.Dataset>\n",
       "Dimensions:                             (R_CENTER: 31, TH_CENTER: 36, ZMID: 30, releases: 4248)\n",
       "Coordinates:\n",
       "  * TH_CENTER                           (TH_CENTER) float64 0.08727 ... 6.196\n",
       "  * releases                            (releases) datetime64[ns] 2017-12-06 ... 2018-05-31T23:00:00\n",
       "  * R_CENTER                            (R_CENTER) float64 0.08046 ... 17.81\n",
       "  * ZMID                                (ZMID) float64 250.0 750.0 ... 1.475e+04\n",
       "    ZBOT                                (ZMID) float64 dask.array<chunksize=(30,), meta=np.ndarray>\n",
       "    ZLEN_M                              (ZMID) float64 dask.array<chunksize=(30,), meta=np.ndarray>\n",
       "    ZTOP                                (ZMID) float64 dask.array<chunksize=(30,), meta=np.ndarray>\n",
       "    LON                                 (R_CENTER, TH_CENTER) float64 dask.array<chunksize=(31, 36), meta=np.ndarray>\n",
       "    LAT_00                              (R_CENTER, TH_CENTER) float64 dask.array<chunksize=(31, 36), meta=np.ndarray>\n",
       "    LON_00                              (R_CENTER, TH_CENTER) float64 dask.array<chunksize=(31, 36), meta=np.ndarray>\n",
       "    LAT_10                              (R_CENTER, TH_CENTER) float64 dask.array<chunksize=(31, 36), meta=np.ndarray>\n",
       "    LON_10                              (R_CENTER, TH_CENTER) float64 dask.array<chunksize=(31, 36), meta=np.ndarray>\n",
       "    LAT_11                              (R_CENTER, TH_CENTER) float64 dask.array<chunksize=(31, 36), meta=np.ndarray>\n",
       "    LON_11                              (R_CENTER, TH_CENTER) float64 dask.array<chunksize=(31, 36), meta=np.ndarray>\n",
       "    LAT_01                              (R_CENTER, TH_CENTER) float64 dask.array<chunksize=(31, 36), meta=np.ndarray>\n",
       "    LON_01                              (R_CENTER, TH_CENTER) float64 dask.array<chunksize=(31, 36), meta=np.ndarray>\n",
       "    GRIDAREA                            (R_CENTER, TH_CENTER) float64 dask.array<chunksize=(31, 36), meta=np.ndarray>\n",
       "    TOPOGRAPHY                          (R_CENTER, TH_CENTER) float32 dask.array<chunksize=(31, 36), meta=np.ndarray>\n",
       "    LAT                                 (R_CENTER, TH_CENTER) float64 dask.array<chunksize=(31, 36), meta=np.ndarray>\n",
       "    VOL                                 (R_CENTER, TH_CENTER, ZMID) float64 dask.array<chunksize=(31, 36, 30), meta=np.ndarray>\n",
       "    r_length                            (R_CENTER) float64 dask.array<chunksize=(31,), meta=np.ndarray>\n",
       "    above_thre                          (R_CENTER, TH_CENTER, ZMID) bool dask.array<chunksize=(31, 36, 30), meta=np.ndarray>\n",
       "Data variables:\n",
       "    CONC                                (releases, ZMID, R_CENTER, TH_CENTER) float64 dask.array<chunksize=(4248, 30, 31, 36), meta=np.ndarray>\n",
       "    CONC_smooth_t_300_z_25_r_100_th_50  (releases, R_CENTER, TH_CENTER, ZMID) float64 dask.array<chunksize=(4248, 31, 36, 30), meta=np.ndarray>\n",
       "    conc_smooth_norm_r                  (releases, R_CENTER, TH_CENTER, ZMID) float64 dask.array<chunksize=(4248, 31, 36, 30), meta=np.ndarray>\n",
       "    conc_smooth_norm                    (releases, R_CENTER, TH_CENTER, ZMID) float64 dask.array<chunksize=(4248, 31, 36, 30), meta=np.ndarray>\n",
       "    lab                                 (R_CENTER, TH_CENTER, ZMID) int32 dask.array<chunksize=(31, 36, 30), meta=np.ndarray>\n",
       "    conc_smooth_p                       (releases, R_CENTER, TH_CENTER, ZMID) float64 dask.array<chunksize=(4248, 31, 36, 30), meta=np.ndarray>\n",
       "    conc_smooth_p_t                     (releases, R_CENTER, TH_CENTER, ZMID) float64 dask.array<chunksize=(4248, 31, 36, 30), meta=np.ndarray>\n",
       "Attributes:\n",
       "    info:             {'smoothed': False, 'above_sea_level': True, 'z delta':...\n",
       "    smoothed:         0\n",
       "    above_sea_level:  1\n",
       "    z delta:          500\n",
       "    z levels:         30\n",
       "    orig_name:        ds_above_sea_level.nc\n",
       "    clustered:        1\n",
       "    n_clusters:       8"
      ]
     },
     "execution_count": 8,
     "metadata": {},
     "output_type": "execute_result"
    }
   ],
   "source": [
    "ds"
   ]
  },
  {
   "cell_type": "code",
   "execution_count": null,
   "metadata": {
    "lines_to_next_cell": 0
   },
   "outputs": [],
   "source": [
    "conc_var = 'conc_smooth_norm'\n",
    "lab = 'lab'\n",
    "above_thre = 'above_thre'\n",
    "# labs = ds[lab]\n",
    "# dsc = ds[conc_var].to_dataset(co.RL)"
   ]
  },
  {
   "cell_type": "code",
   "execution_count": null,
   "metadata": {
    "lines_to_next_cell": 0
   },
   "outputs": [],
   "source": [
    "# dsc"
   ]
  },
  {
   "cell_type": "code",
   "execution_count": null,
   "metadata": {},
   "outputs": [],
   "source": []
  },
  {
   "cell_type": "code",
   "execution_count": null,
   "metadata": {
    "lines_to_next_cell": 0
   },
   "outputs": [],
   "source": [
    "\n",
    "sel = {\n",
    "    co.RL:slice(None,None,1),\n",
    "    co.R_CENTER:slice(None,None,1),\n",
    "    co.TH_CENTER:slice(None,None,1),\n",
    "    co.ZM:slice(None,None,1),\n",
    "}\n",
    "ds_reset = ds.reset_coords()[[conc_var, lab, above_thre]]\n",
    "ds_reset = ds_reset[sel].assign_coords({lab:ds_reset[lab]})\n",
    "ds_new = ds_reset.where(ds_reset[above_thre]).drop(above_thre)\n",
    "da = ds_new[conc_var].drop(lab)\n",
    "df = da.load().to_dataframe()[conc_var].dropna()\n",
    "dfu = df.unstack(co.RL)"
   ]
  },
  {
   "cell_type": "code",
   "execution_count": null,
   "metadata": {},
   "outputs": [],
   "source": []
  },
  {
   "cell_type": "code",
   "execution_count": null,
   "metadata": {
    "lines_to_next_cell": 0
   },
   "outputs": [],
   "source": [
    "dl = ds_new[lab].reset_coords(drop=True)\n",
    "dlf =dl.to_dataframe()\n",
    "dlf"
   ]
  },
  {
   "cell_type": "code",
   "execution_count": null,
   "metadata": {
    "lines_to_next_cell": 0
   },
   "outputs": [],
   "source": [
    "\n",
    "index = dfu.index\n",
    "vals = dfu.loc[index]\n",
    "labs = dlf.loc[index]"
   ]
  },
  {
   "cell_type": "code",
   "execution_count": null,
   "metadata": {
    "lines_to_next_cell": 0
   },
   "outputs": [],
   "source": [
    "\n",
    "scaler = QuantileTransformer()\n",
    "vals_quan = scaler.fit_transform( vals.T ).T * 1000\n",
    "# vals_quan = vals*1000"
   ]
  },
  {
   "cell_type": "code",
   "execution_count": null,
   "metadata": {
    "lines_to_next_cell": 0
   },
   "outputs": [],
   "source": [
    "tot = vals.sum(axis=1)\n",
    "plt.hist(tot)\n",
    "plt.hist(vals_quan.sum(axis=1))\n",
    "plt.show()"
   ]
  },
  {
   "cell_type": "code",
   "execution_count": null,
   "metadata": {
    "lines_to_next_cell": 0
   },
   "outputs": [],
   "source": [
    "out_dic = {}\n",
    "for n in range(2,25):\n",
    "    print(n)\n",
    "    from sklearn.cluster import KMeans\n",
    "    new_lab = KMeans(n_clusters=n).fit_predict(vals_quan,sample_weight=100*tot)\n",
    "    res = silhouette_samples(vals_quan, new_lab)\n",
    "    from sklearn.metrics import silhouette_score\n",
    "\n",
    "    # print(silhouette_score(vals_quan, new_lab))\n",
    "    wss = (res*tot).sum()/tot.sum()\n",
    "    ss = res.mean()\n",
    "    print(wss)\n",
    "    print(ss)\n",
    "    dic = {'ss':ss,'wss':wss,'res':res,'new_lab':new_lab}\n",
    "    out_dic[n]=dic"
   ]
  },
  {
   "cell_type": "code",
   "execution_count": null,
   "metadata": {},
   "outputs": [],
   "source": [
    "dlf['res']=np.nan\n",
    "dlf['tot']=np.nan\n",
    "dlf.loc[index,'res'] = res\n",
    "dlf.loc[index,'tot'] = vals.sum(axis=1)"
   ]
  },
  {
   "cell_type": "code",
   "execution_count": null,
   "metadata": {},
   "outputs": [],
   "source": [
    "ndf = dlf.loc[index].sort_values(['lab','res']).reset_index()\n",
    "(ndf['res']*ndf['tot']).plot()\n",
    "plt.show()"
   ]
  },
  {
   "cell_type": "code",
   "execution_count": 1,
   "metadata": {},
   "outputs": [],
   "source": [
    "import numpy as np\n",
    "a=0.08046 \n",
    "b=0.09633 \n",
    "c=0.1153"
   ]
  },
  {
   "cell_type": "code",
   "execution_count": 13,
   "metadata": {},
   "outputs": [],
   "source": [
    "al=np.log(a)\n",
    "bl=np.log(b)\n",
    "cl=np.log(c)"
   ]
  },
  {
   "cell_type": "code",
   "execution_count": 14,
   "metadata": {},
   "outputs": [
    {
     "data": {
      "text/plain": [
       "0.18001963024789003"
      ]
     },
     "execution_count": 14,
     "metadata": {},
     "output_type": "execute_result"
    }
   ],
   "source": [
    "bl-al"
   ]
  },
  {
   "cell_type": "code",
   "execution_count": 15,
   "metadata": {},
   "outputs": [
    {
     "data": {
      "text/plain": [
       "0.1797576305054811"
      ]
     },
     "execution_count": 15,
     "metadata": {},
     "output_type": "execute_result"
    }
   ],
   "source": [
    "cl-bl"
   ]
  },
  {
   "cell_type": "code",
   "execution_count": 16,
   "metadata": {},
   "outputs": [
    {
     "data": {
      "text/plain": [
       "0.11532794858952398"
      ]
     },
     "execution_count": 16,
     "metadata": {},
     "output_type": "execute_result"
    }
   ],
   "source": [
    "np.exp(bl+.18)"
   ]
  },
  {
   "cell_type": "code",
   "execution_count": 12,
   "metadata": {},
   "outputs": [
    {
     "data": {
      "text/plain": [
       "3.0000000000000004"
      ]
     },
     "execution_count": 12,
     "metadata": {},
     "output_type": "execute_result"
    }
   ],
   "source": [
    "np.exp(np.log(3))"
   ]
  },
  {
   "cell_type": "code",
   "execution_count": 17,
   "metadata": {},
   "outputs": [
    {
     "data": {
      "text/plain": [
       "142223040"
      ]
     },
     "execution_count": 17,
     "metadata": {},
     "output_type": "execute_result"
    }
   ],
   "source": [
    " 4248 * 31 *36 * 30"
   ]
  },
  {
   "cell_type": "code",
   "execution_count": 18,
   "metadata": {},
   "outputs": [
    {
     "data": {
      "text/plain": [
       "33480"
      ]
     },
     "execution_count": 18,
     "metadata": {},
     "output_type": "execute_result"
    }
   ],
   "source": [
    " 31 *36 * 30"
   ]
  },
  {
   "cell_type": "code",
   "execution_count": null,
   "metadata": {},
   "outputs": [],
   "source": []
  }
 ],
 "metadata": {
  "jupytext": {
   "cell_metadata_filter": "-all",
   "formats": "ipynb,py:percent"
  },
  "kernelspec": {
   "display_name": "Python 3",
   "language": "python",
   "name": "python3"
  },
  "language_info": {
   "codemirror_mode": {
    "name": "ipython",
    "version": 3
   },
   "file_extension": ".py",
   "mimetype": "text/x-python",
   "name": "python",
   "nbconvert_exporter": "python",
   "pygments_lexer": "ipython3",
   "version": "3.6.7"
  }
 },
 "nbformat": 4,
 "nbformat_minor": 4
}
