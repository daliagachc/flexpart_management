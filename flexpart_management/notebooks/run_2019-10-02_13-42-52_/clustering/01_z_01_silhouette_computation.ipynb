{
 "cells": [
  {
   "cell_type": "markdown",
   "metadata": {},
   "source": [
    "project name: flexpart_management\n",
    "created by diego aliaga daliaga_at_chacaltaya.edu.bo"
   ]
  },
  {
   "cell_type": "code",
   "execution_count": null,
   "metadata": {
    "lines_to_next_cell": 0
   },
   "outputs": [],
   "source": []
  },
  {
   "cell_type": "markdown",
   "metadata": {
    "lines_to_next_cell": 0
   },
   "source": [
    "imports"
   ]
  },
  {
   "cell_type": "code",
   "execution_count": 8,
   "metadata": {
    "lines_to_next_cell": 0
   },
   "outputs": [],
   "source": [
    "from sklearn.preprocessing import QuantileTransformer\n",
    "from useful_scit.imps import *\n",
    "# noinspection PyUnresolvedReferences\n",
    "import matplotlib.colors\n",
    "import flexpart_management.modules.FlexLogPol as FlexLogPol\n",
    "import flexpart_management.modules.constants as co\n",
    "# noinspection PyUnresolvedReferences\n",
    "import flexpart_management.modules.flx_array as fa\n",
    "import flexpart_management.modules.clustering_funs as cfuns\n",
    "from sklearn.metrics import silhouette_samples"
   ]
  },
  {
   "cell_type": "code",
   "execution_count": 13,
   "metadata": {},
   "outputs": [],
   "source": [
    "\n",
    "# ds = xr.open_mfdataset( [ co.latest_ds_mac ] , combine='by_coords' )\n",
    "\n",
    "ds = fa.open_temp_ds_clustered_18()\n"
   ]
  },
  {
   "cell_type": "code",
   "execution_count": 14,
   "metadata": {},
   "outputs": [
    {
     "data": {
      "text/plain": [
       "<xarray.Dataset>\n",
       "Dimensions:                             (R_CENTER: 31, TH_CENTER: 36, ZMID: 30, releases: 4248)\n",
       "Coordinates:\n",
       "    LAT_00                              (R_CENTER, TH_CENTER) float64 -16.28 ... -0.3168\n",
       "    GRIDAREA                            (R_CENTER, TH_CENTER) float64 2.42e+06 ... 1.235e+11\n",
       "    LON_00                              (R_CENTER, TH_CENTER) float64 -68.13 ... -70.96\n",
       "    ZBOT                                (ZMID) float64 0.0 500.0 ... 1.45e+04\n",
       "    LON                                 (R_CENTER, TH_CENTER) float64 -68.05 ... -50.38\n",
       "    TOPOGRAPHY                          (R_CENTER, TH_CENTER) float32 4691.927 ... 0.0\n",
       "    ZTOP                                (ZMID) float64 500.0 1e+03 ... 1.5e+04\n",
       "    LAT_01                              (R_CENTER, TH_CENTER) float64 -16.28 ... -0.06941\n",
       "    LAT                                 (R_CENTER, TH_CENTER) float64 -16.27 ... 1.396\n",
       "    LON_01                              (R_CENTER, TH_CENTER) float64 -68.12 ... -68.13\n",
       "    LAT_10                              (R_CENTER, TH_CENTER) float64 -16.26 ... 2.845\n",
       "    r_length                            (R_CENTER) float64 0.0145 ... 3.211\n",
       "    LON_11                              (R_CENTER, TH_CENTER) float64 -68.12 ... -68.13\n",
       "    LON_10                              (R_CENTER, TH_CENTER) float64 -68.13 ... -71.52\n",
       "    above_thre                          (R_CENTER, TH_CENTER, ZMID) bool False ... False\n",
       "    LAT_11                              (R_CENTER, TH_CENTER) float64 -16.26 ... 3.141\n",
       "    ZLEN_M                              (ZMID) float64 500.0 500.0 ... 500.0\n",
       "    VOL                                 (R_CENTER, TH_CENTER, ZMID) float64 6.05e+08 ... 1.822e+15\n",
       "  * TH_CENTER                           (TH_CENTER) float64 0.08727 ... 6.196\n",
       "  * ZMID                                (ZMID) float64 250.0 750.0 ... 1.475e+04\n",
       "  * R_CENTER                            (R_CENTER) float64 0.08046 ... 17.81\n",
       "  * releases                            (releases) datetime64[ns] 2017-12-06 ... 2018-05-31T23:00:00\n",
       "    lab                                 (R_CENTER, TH_CENTER, ZMID) int32 dask.array<chunksize=(31, 36, 30), meta=np.ndarray>\n",
       "Data variables:\n",
       "    CONC                                (releases, ZMID, R_CENTER, TH_CENTER) float64 dask.array<chunksize=(4248, 30, 31, 36), meta=np.ndarray>\n",
       "    CONC_smooth_t_300_z_25_r_100_th_50  (releases, R_CENTER, TH_CENTER, ZMID) float64 dask.array<chunksize=(4248, 31, 36, 30), meta=np.ndarray>\n",
       "    conc_smooth_norm_r                  (releases, R_CENTER, TH_CENTER, ZMID) float64 dask.array<chunksize=(4248, 31, 36, 30), meta=np.ndarray>\n",
       "    conc_smooth_norm                    (releases, R_CENTER, TH_CENTER, ZMID) float64 dask.array<chunksize=(4248, 31, 36, 30), meta=np.ndarray>\n",
       "Attributes:\n",
       "    info:             {'smoothed': False, 'above_sea_level': True, 'z delta':...\n",
       "    smoothed:         0\n",
       "    above_sea_level:  1\n",
       "    z delta:          500\n",
       "    z levels:         30\n",
       "    orig_name:        ds_above_sea_level.nc\n",
       "    clustered:        1\n",
       "    n_clusters:       8"
      ]
     },
     "execution_count": 14,
     "metadata": {},
     "output_type": "execute_result"
    }
   ],
   "source": [
    "ds"
   ]
  },
  {
   "cell_type": "code",
   "execution_count": 15,
   "metadata": {
    "lines_to_next_cell": 0
   },
   "outputs": [],
   "source": [
    "conc_var = 'conc_smooth_norm'\n",
    "lab = 'lab'\n",
    "above_thre = 'above_thre'\n",
    "# labs = ds[lab]\n",
    "# dsc = ds[conc_var].to_dataset(co.RL)"
   ]
  },
  {
   "cell_type": "code",
   "execution_count": 16,
   "metadata": {
    "lines_to_next_cell": 0
   },
   "outputs": [],
   "source": [
    "# dsc"
   ]
  },
  {
   "cell_type": "code",
   "execution_count": null,
   "metadata": {},
   "outputs": [],
   "source": []
  },
  {
   "cell_type": "code",
   "execution_count": 17,
   "metadata": {
    "lines_to_next_cell": 0
   },
   "outputs": [],
   "source": [
    "\n",
    "sel = {\n",
    "    co.RL:slice(None,None,1),\n",
    "    co.R_CENTER:slice(None,None,1),\n",
    "    co.TH_CENTER:slice(None,None,1),\n",
    "    co.ZM:slice(None,None,1),\n",
    "}\n",
    "ds_reset = ds.reset_coords()[[conc_var, lab, above_thre]]\n",
    "ds_reset = ds_reset[sel].assign_coords({lab:ds_reset[lab]})\n",
    "ds_new = ds_reset.where(ds_reset[above_thre]).drop(above_thre)\n",
    "da = ds_new[conc_var].drop(lab)\n",
    "df = da.load().to_dataframe()[conc_var].dropna()\n",
    "dfu = df.unstack(co.RL)"
   ]
  },
  {
   "cell_type": "code",
   "execution_count": null,
   "metadata": {},
   "outputs": [],
   "source": []
  },
  {
   "cell_type": "code",
   "execution_count": 18,
   "metadata": {
    "lines_to_next_cell": 0
   },
   "outputs": [
    {
     "data": {
      "text/html": [
       "<div>\n",
       "<style scoped>\n",
       "    .dataframe tbody tr th:only-of-type {\n",
       "        vertical-align: middle;\n",
       "    }\n",
       "\n",
       "    .dataframe tbody tr th {\n",
       "        vertical-align: top;\n",
       "    }\n",
       "\n",
       "    .dataframe thead th {\n",
       "        text-align: right;\n",
       "    }\n",
       "</style>\n",
       "<table border=\"1\" class=\"dataframe\">\n",
       "  <thead>\n",
       "    <tr style=\"text-align: right;\">\n",
       "      <th></th>\n",
       "      <th></th>\n",
       "      <th></th>\n",
       "      <th>lab</th>\n",
       "    </tr>\n",
       "    <tr>\n",
       "      <th>R_CENTER</th>\n",
       "      <th>TH_CENTER</th>\n",
       "      <th>ZMID</th>\n",
       "      <th></th>\n",
       "    </tr>\n",
       "  </thead>\n",
       "  <tbody>\n",
       "    <tr>\n",
       "      <td rowspan=\"5\" valign=\"top\">0.080460</td>\n",
       "      <td rowspan=\"5\" valign=\"top\">0.087266</td>\n",
       "      <td>250.0</td>\n",
       "      <td>7</td>\n",
       "    </tr>\n",
       "    <tr>\n",
       "      <td>750.0</td>\n",
       "      <td>7</td>\n",
       "    </tr>\n",
       "    <tr>\n",
       "      <td>1250.0</td>\n",
       "      <td>7</td>\n",
       "    </tr>\n",
       "    <tr>\n",
       "      <td>1750.0</td>\n",
       "      <td>7</td>\n",
       "    </tr>\n",
       "    <tr>\n",
       "      <td>2250.0</td>\n",
       "      <td>7</td>\n",
       "    </tr>\n",
       "    <tr>\n",
       "      <td>...</td>\n",
       "      <td>...</td>\n",
       "      <td>...</td>\n",
       "      <td>...</td>\n",
       "    </tr>\n",
       "    <tr>\n",
       "      <td rowspan=\"5\" valign=\"top\">17.814274</td>\n",
       "      <td rowspan=\"5\" valign=\"top\">6.195919</td>\n",
       "      <td>12750.0</td>\n",
       "      <td>9</td>\n",
       "    </tr>\n",
       "    <tr>\n",
       "      <td>13250.0</td>\n",
       "      <td>9</td>\n",
       "    </tr>\n",
       "    <tr>\n",
       "      <td>13750.0</td>\n",
       "      <td>10</td>\n",
       "    </tr>\n",
       "    <tr>\n",
       "      <td>14250.0</td>\n",
       "      <td>10</td>\n",
       "    </tr>\n",
       "    <tr>\n",
       "      <td>14750.0</td>\n",
       "      <td>10</td>\n",
       "    </tr>\n",
       "  </tbody>\n",
       "</table>\n",
       "<p>33480 rows × 1 columns</p>\n",
       "</div>"
      ],
      "text/plain": [
       "                             lab\n",
       "R_CENTER  TH_CENTER ZMID        \n",
       "0.080460  0.087266  250.0      7\n",
       "                    750.0      7\n",
       "                    1250.0     7\n",
       "                    1750.0     7\n",
       "                    2250.0     7\n",
       "...                          ...\n",
       "17.814274 6.195919  12750.0    9\n",
       "                    13250.0    9\n",
       "                    13750.0   10\n",
       "                    14250.0   10\n",
       "                    14750.0   10\n",
       "\n",
       "[33480 rows x 1 columns]"
      ]
     },
     "execution_count": 18,
     "metadata": {},
     "output_type": "execute_result"
    }
   ],
   "source": [
    "dl = ds_new[lab].reset_coords(drop=True)\n",
    "dlf =dl.to_dataframe()\n",
    "dlf"
   ]
  },
  {
   "cell_type": "code",
   "execution_count": 19,
   "metadata": {
    "lines_to_next_cell": 0
   },
   "outputs": [],
   "source": [
    "\n",
    "index = dfu.index\n",
    "vals = dfu.loc[index]\n",
    "labs = dlf.loc[index]"
   ]
  },
  {
   "cell_type": "code",
   "execution_count": 20,
   "metadata": {
    "lines_to_next_cell": 0
   },
   "outputs": [],
   "source": [
    "\n",
    "scaler = QuantileTransformer()\n",
    "vals_quan = scaler.fit_transform( vals.T ).T * 1000\n",
    "# vals_quan = vals*1000"
   ]
  },
  {
   "cell_type": "code",
   "execution_count": 21,
   "metadata": {
    "lines_to_next_cell": 0
   },
   "outputs": [
    {
     "data": {
      "image/png": "[encoded data removed]",
      "text/plain": [
       "<Figure size 432x288 with 1 Axes>"
      ]
     },
     "metadata": {
      "needs_background": "light"
     },
     "output_type": "display_data"
    }
   ],
   "source": [
    "tot = vals.sum(axis=1)\n",
    "plt.hist(tot)\n",
    "plt.hist(vals_quan.sum(axis=1))\n",
    "plt.show()"
   ]
  },
  {
   "cell_type": "code",
   "execution_count": 22,
   "metadata": {},
   "outputs": [
    {
     "name": "stdout",
     "output_type": "stream",
     "text": [
      "2\n",
      "0.2840322221872885\n",
      "0.28477572339988255\n",
      "3\n",
      "0.24071338537805634\n",
      "0.24743914681946436\n",
      "4\n",
      "0.21146626057154475\n",
      "0.217745703680589\n",
      "5\n",
      "0.19897747772111943\n",
      "0.20012691149078543\n",
      "6\n",
      "0.20134972037369384\n",
      "0.19974151283299107\n",
      "7\n",
      "0.19606424084366267\n",
      "0.18659759238245072\n",
      "8\n",
      "0.19811304652620426\n",
      "0.18933374137336237\n",
      "9\n",
      "0.20369448363927564\n",
      "0.1935987250720606\n",
      "10\n",
      "0.2003311622083559\n",
      "0.1878553630990674\n",
      "11\n",
      "0.19706003346206274\n",
      "0.19054989836898026\n",
      "12\n",
      "0.1966548028064179\n",
      "0.19025503701411314\n",
      "13\n",
      "0.19147199716855345\n",
      "0.18677770012334624\n",
      "14\n",
      "0.18580818457895568\n",
      "0.18102508371055276\n",
      "15\n",
      "0.19653658874896357\n",
      "0.19077324236636517\n",
      "16\n",
      "0.19071993605043633\n",
      "0.1835037514538652\n",
      "17\n",
      "0.1945289103524459\n",
      "0.18534446175235844\n",
      "18\n",
      "0.19234469622029665\n",
      "0.18552395051450016\n",
      "19\n",
      "0.19422908700450933\n",
      "0.18962667955872708\n",
      "20\n",
      "0.19357424029615355\n",
      "0.18610904343554074\n",
      "21\n",
      "0.19395845207113216\n",
      "0.18662681970110084\n",
      "22\n",
      "0.20073097187918884\n",
      "0.19171149342885263\n",
      "23\n",
      "0.1953586898318612\n",
      "0.18771269739272567\n",
      "24\n",
      "0.19799371219015327\n",
      "0.19111170185835122\n"
     ]
    }
   ],
   "source": [
    "out_dic = {}\n",
    "for n in range(2,25):\n",
    "    print(n)\n",
    "    from sklearn.cluster import KMeans\n",
    "    new_lab = KMeans(n_clusters=n).fit_predict(vals_quan,sample_weight=100*tot)\n",
    "    res = silhouette_samples(vals_quan, new_lab)\n",
    "    res2 = silhouette_samples(vals_quan, new_lab, metric='l1')\n",
    "    from sklearn.metrics import silhouette_score\n",
    "\n",
    "    # print(silhouette_score(vals_quan, new_lab))\n",
    "    wss = (res*tot).sum()/tot.sum()\n",
    "    ss = res.mean()\n",
    "    \n",
    "    wss2 = (res2*tot).sum()/tot.sum()\n",
    "    ss2 = res2.mean()\n",
    "    print(wss)\n",
    "    print(ss)\n",
    "    dic = {\n",
    "        'ss':ss,'wss':wss,'res':res,'new_lab':new_lab,\n",
    "        'ss2':ss2,'wss2':wss2,'res':res2\n",
    "    }\n",
    "    out_dic[n]=dic"
   ]
  },
  {
   "cell_type": "code",
   "execution_count": null,
   "metadata": {},
   "outputs": [],
   "source": []
  },
  {
   "cell_type": "code",
   "execution_count": 24,
   "metadata": {
    "lines_to_next_cell": 0
   },
   "outputs": [],
   "source": [
    "df_dic = pd.DataFrame(out_dic).T"
   ]
  },
  {
   "cell_type": "code",
   "execution_count": 29,
   "metadata": {},
   "outputs": [
    {
     "data": {
      "text/plain": [
       "<matplotlib.axes._subplots.AxesSubplot at 0x16fdf01d0>"
      ]
     },
     "execution_count": 29,
     "metadata": {},
     "output_type": "execute_result"
    },
    {
     "data": {
      "image/png": "[encoded data removed]",
      "text/plain": [
       "<Figure size 432x288 with 1 Axes>"
      ]
     },
     "metadata": {
      "needs_background": "light"
     },
     "output_type": "display_data"
    }
   ],
   "source": [
    "df_dic[['wss2','wss','ss','ss2']].plot()"
   ]
  },
  {
   "cell_type": "code",
   "execution_count": null,
   "metadata": {
    "lines_to_next_cell": 0
   },
   "outputs": [],
   "source": [
    "# df_dic.to_pickle(co.silhouette_path)\n",
    "df_dic.to_pickle('/Users/diego/flexpart_management/flexpart_management/tmp_data/silhouette_scores_non.pickle')"
   ]
  },
  {
   "cell_type": "code",
   "execution_count": 3,
   "metadata": {},
   "outputs": [],
   "source": [
    "df_dic = pd.read_pickle(co.silhouette_path)"
   ]
  },
  {
   "cell_type": "code",
   "execution_count": 4,
   "metadata": {
    "lines_to_next_cell": 0
   },
   "outputs": [
    {
     "data": {
      "image/png": "[encoded data removed]",
      "text/plain": [
       "<Figure size 432x288 with 1 Axes>"
      ]
     },
     "metadata": {
      "needs_background": "light"
     },
     "output_type": "display_data"
    }
   ],
   "source": [
    "plt.scatter(df_dic.index,df_dic['wss'])\n",
    "plt.scatter(df_dic.index,df_dic['ss'])\n",
    "plt.show()"
   ]
  },
  {
   "cell_type": "code",
   "execution_count": 5,
   "metadata": {},
   "outputs": [
    {
     "ename": "NameError",
     "evalue": "name 'dlf' is not defined",
     "output_type": "error",
     "traceback": [
      "\u001b[0;31m---------------------------------------------------------------------------\u001b[0m",
      "\u001b[0;31mNameError\u001b[0m                                 Traceback (most recent call last)",
      "\u001b[0;32m<ipython-input-5-723a98025fcc>\u001b[0m in \u001b[0;36m<module>\u001b[0;34m\u001b[0m\n\u001b[0;32m----> 1\u001b[0;31m \u001b[0mdlf\u001b[0m\u001b[0;34m[\u001b[0m\u001b[0;34m'res'\u001b[0m\u001b[0;34m]\u001b[0m\u001b[0;34m=\u001b[0m\u001b[0mnp\u001b[0m\u001b[0;34m.\u001b[0m\u001b[0mnan\u001b[0m\u001b[0;34m\u001b[0m\u001b[0;34m\u001b[0m\u001b[0m\n\u001b[0m\u001b[1;32m      2\u001b[0m \u001b[0mdlf\u001b[0m\u001b[0;34m[\u001b[0m\u001b[0;34m'tot'\u001b[0m\u001b[0;34m]\u001b[0m\u001b[0;34m=\u001b[0m\u001b[0mnp\u001b[0m\u001b[0;34m.\u001b[0m\u001b[0mnan\u001b[0m\u001b[0;34m\u001b[0m\u001b[0;34m\u001b[0m\u001b[0m\n\u001b[1;32m      3\u001b[0m \u001b[0mdlf\u001b[0m\u001b[0;34m.\u001b[0m\u001b[0mloc\u001b[0m\u001b[0;34m[\u001b[0m\u001b[0mindex\u001b[0m\u001b[0;34m,\u001b[0m\u001b[0;34m'res'\u001b[0m\u001b[0;34m]\u001b[0m \u001b[0;34m=\u001b[0m \u001b[0mres\u001b[0m\u001b[0;34m\u001b[0m\u001b[0;34m\u001b[0m\u001b[0m\n\u001b[1;32m      4\u001b[0m \u001b[0mdlf\u001b[0m\u001b[0;34m.\u001b[0m\u001b[0mloc\u001b[0m\u001b[0;34m[\u001b[0m\u001b[0mindex\u001b[0m\u001b[0;34m,\u001b[0m\u001b[0;34m'tot'\u001b[0m\u001b[0;34m]\u001b[0m \u001b[0;34m=\u001b[0m \u001b[0mvals\u001b[0m\u001b[0;34m.\u001b[0m\u001b[0msum\u001b[0m\u001b[0;34m(\u001b[0m\u001b[0maxis\u001b[0m\u001b[0;34m=\u001b[0m\u001b[0;36m1\u001b[0m\u001b[0;34m)\u001b[0m\u001b[0;34m\u001b[0m\u001b[0;34m\u001b[0m\u001b[0m\n",
      "\u001b[0;31mNameError\u001b[0m: name 'dlf' is not defined"
     ]
    }
   ],
   "source": [
    "dlf['res']=np.nan\n",
    "dlf['tot']=np.nan\n",
    "dlf.loc[index,'res'] = res\n",
    "dlf.loc[index,'tot'] = vals.sum(axis=1)"
   ]
  },
  {
   "cell_type": "code",
   "execution_count": null,
   "metadata": {},
   "outputs": [],
   "source": [
    "ndf = dlf.loc[index].sort_values(['lab','res']).reset_index()\n",
    "(ndf['res']*ndf['tot']).plot()\n",
    "plt.show()"
   ]
  },
  {
   "cell_type": "code",
   "execution_count": 1,
   "metadata": {},
   "outputs": [],
   "source": [
    "import numpy as np\n",
    "a=0.08046 \n",
    "b=0.09633 \n",
    "c=0.1153"
   ]
  },
  {
   "cell_type": "code",
   "execution_count": 13,
   "metadata": {},
   "outputs": [],
   "source": [
    "al=np.log(a)\n",
    "bl=np.log(b)\n",
    "cl=np.log(c)"
   ]
  },
  {
   "cell_type": "code",
   "execution_count": 14,
   "metadata": {},
   "outputs": [
    {
     "data": {
      "text/plain": [
       "0.18001963024789003"
      ]
     },
     "execution_count": 14,
     "metadata": {},
     "output_type": "execute_result"
    }
   ],
   "source": [
    "bl-al"
   ]
  },
  {
   "cell_type": "code",
   "execution_count": 15,
   "metadata": {},
   "outputs": [
    {
     "data": {
      "text/plain": [
       "0.1797576305054811"
      ]
     },
     "execution_count": 15,
     "metadata": {},
     "output_type": "execute_result"
    }
   ],
   "source": [
    "cl-bl"
   ]
  },
  {
   "cell_type": "code",
   "execution_count": 16,
   "metadata": {},
   "outputs": [
    {
     "data": {
      "text/plain": [
       "0.11532794858952398"
      ]
     },
     "execution_count": 16,
     "metadata": {},
     "output_type": "execute_result"
    }
   ],
   "source": [
    "np.exp(bl+.18)"
   ]
  },
  {
   "cell_type": "code",
   "execution_count": 12,
   "metadata": {},
   "outputs": [
    {
     "data": {
      "text/plain": [
       "3.0000000000000004"
      ]
     },
     "execution_count": 12,
     "metadata": {},
     "output_type": "execute_result"
    }
   ],
   "source": [
    "np.exp(np.log(3))"
   ]
  },
  {
   "cell_type": "code",
   "execution_count": 17,
   "metadata": {},
   "outputs": [
    {
     "data": {
      "text/plain": [
       "142223040"
      ]
     },
     "execution_count": 17,
     "metadata": {},
     "output_type": "execute_result"
    }
   ],
   "source": [
    "4248 * 31 *36 * 30"
   ]
  },
  {
   "cell_type": "code",
   "execution_count": 18,
   "metadata": {},
   "outputs": [
    {
     "data": {
      "text/plain": [
       "33480"
      ]
     },
     "execution_count": 18,
     "metadata": {},
     "output_type": "execute_result"
    }
   ],
   "source": [
    "31 *36 * 30"
   ]
  },
  {
   "cell_type": "code",
   "execution_count": null,
   "metadata": {
    "lines_to_next_cell": 0
   },
   "outputs": [],
   "source": [
    "ds[above_thre].reset_coords(drop=True).to_dataframe()[above_thre].value_counts()"
   ]
  },
  {
   "cell_type": "code",
   "execution_count": null,
   "metadata": {
    "lines_to_next_cell": 0
   },
   "outputs": [],
   "source": [
    "24900 + 8580"
   ]
  },
  {
   "cell_type": "code",
   "execution_count": null,
   "metadata": {
    "lines_to_next_cell": 0
   },
   "outputs": [],
   "source": [
    "dc = ds['CONC']\n",
    "dcs = dc.sum(co.RL)\n",
    "a = dcs.where(dcs<=0).count().load()\n",
    "\n",
    "b = dcs.where(~ds[above_thre]).count().load()\n",
    "a/b"
   ]
  },
  {
   "cell_type": "code",
   "execution_count": null,
   "metadata": {
    "lines_to_next_cell": 0
   },
   "outputs": [],
   "source": [
    "dcs.where(~ds[above_thre]).where(dcs>0).load().median()"
   ]
  },
  {
   "cell_type": "code",
   "execution_count": null,
   "metadata": {
    "lines_to_next_cell": 0
   },
   "outputs": [],
   "source": [
    "dcs.where(ds[above_thre]).load().median()"
   ]
  },
  {
   "cell_type": "code",
   "execution_count": null,
   "metadata": {
    "lines_to_next_cell": 0
   },
   "outputs": [],
   "source": [
    "\n",
    "dcs.where(ds[above_thre]).load().mean()"
   ]
  },
  {
   "cell_type": "code",
   "execution_count": null,
   "metadata": {
    "lines_to_next_cell": 0
   },
   "outputs": [],
   "source": []
  },
  {
   "cell_type": "code",
   "execution_count": null,
   "metadata": {
    "lines_to_next_cell": 0
   },
   "outputs": [],
   "source": []
  },
  {
   "cell_type": "code",
   "execution_count": null,
   "metadata": {},
   "outputs": [],
   "source": []
  }
 ],
 "metadata": {
  "jupytext": {
   "cell_metadata_filter": "-all",
   "formats": "ipynb,py:percent"
  },
  "kernelspec": {
   "display_name": "Python 3",
   "language": "python",
   "name": "python3"
  },
  "language_info": {
   "codemirror_mode": {
    "name": "ipython",
    "version": 3
   },
   "file_extension": ".py",
   "mimetype": "text/x-python",
   "name": "python",
   "nbconvert_exporter": "python",
   "pygments_lexer": "ipython3",
   "version": "3.6.7"
  }
 },
 "nbformat": 4,
 "nbformat_minor": 4
}
