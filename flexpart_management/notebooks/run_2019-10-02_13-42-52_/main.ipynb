{
 "cells": [
  {
   "cell_type": "code",
   "execution_count": null,
   "metadata": {},
   "outputs": [],
   "source": [
    "from useful_scit.imps import *\n",
    "import flexpart_management.modules.FlexLogPol as FlexLogPol\n",
    "import flexpart_management.modules.constants as co\n",
    "import flexpart_management.modules.flx_array as fa\n",
    "\n",
    "import flexpart_management.modules.clustering_funs as funs\n",
    "\n",
    "mpl.rcParams['figure.dpi'] = 150"
   ]
  },
  {
   "cell_type": "code",
   "execution_count": null,
   "metadata": {},
   "outputs": [],
   "source": [
    "# class Dummy:\n",
    "# def __init__(self):\n",
    "# # pass\n",
    "\n",
    "        # %%\n",
    "path = \\\n",
    "'/homeappl/home/aliagadi/wrk/DONOTREMOVE/flexpart_management_data/runs/' + \\\n",
    "'run_2019-10-02_13-42-52_/log_pol/run_2019-10-02_13-42-52_'\n",
    "# flp = FLP.FlexLogPol(path,concat=True)\n",
    "# selfFLP = FLP.FlexLogPol(path,concat=False)\n",
    "selfFLP = FlexLogPol.FlexLogPol(\n",
    "    path,\n",
    "    #concat=True,\n",
    "    concat=False,\n",
    "    get_clusters=False,\n",
    "    open_merged=True,\n",
    "    clusters_avail=False\n",
    ")"
   ]
  },
  {
   "cell_type": "code",
   "execution_count": null,
   "metadata": {},
   "outputs": [],
   "source": [
    "selfFLP.reset_z_levels()"
   ]
  },
  {
   "cell_type": "code",
   "execution_count": null,
   "metadata": {},
   "outputs": [],
   "source": [
    "dsF= selfFLP.filter_hours_with_few_mea()"
   ]
  },
  {
   "cell_type": "code",
   "execution_count": null,
   "metadata": {},
   "outputs": [],
   "source": [
    "dsSM = ds1 = FlexLogPol.smooth_merged_ds(\n",
    "    dsF\n",
    "    )"
   ]
  },
  {
   "cell_type": "code",
   "execution_count": null,
   "metadata": {},
   "outputs": [],
   "source": [
    "funs.plot_general(ds1)\n",
    "funs.plot_general(selfFLP.merged_ds)"
   ]
  },
  {
   "cell_type": "code",
   "execution_count": null,
   "metadata": {},
   "outputs": [],
   "source": [
    "funs.plot_general_lapaz(ds1)\n",
    "funs.plot_general_lapaz(selfFLP.merged_ds)"
   ]
  },
  {
   "cell_type": "code",
   "execution_count": null,
   "metadata": {},
   "outputs": [],
   "source": [
    "dsZ = dsSM.copy()\n",
    "dfcc = selfFLP.get_vector_df_for_clustering(selfFLP.coarsen_par, ar=dsZ[co.CONC])\n",
    "\n"
   ]
  },
  {
   "cell_type": "code",
   "execution_count": null,
   "metadata": {},
   "outputs": [],
   "source": [
    "funs.plot_hist_values(dfcc)"
   ]
  },
  {
   "cell_type": "code",
   "execution_count": null,
   "metadata": {},
   "outputs": [],
   "source": [
    "funs.plot_hist_all_values(dfcc)"
   ]
  },
  {
   "cell_type": "code",
   "execution_count": null,
   "metadata": {},
   "outputs": [],
   "source": []
  },
  {
   "cell_type": "code",
   "execution_count": null,
   "metadata": {},
   "outputs": [],
   "source": [
    "\n",
    "# lest create the dataset again\n",
    "dscc = funs.rebuild_the_dscc(dfcc)\n",
    "\n",
    "funs.print_percentage_res_time_mass_considered(dscc)"
   ]
  },
  {
   "cell_type": "code",
   "execution_count": null,
   "metadata": {},
   "outputs": [],
   "source": [
    "\n",
    "MAX_LENGTH = 25\n",
    "dscc = funs.preprocess_dscc_for_clustering(MAX_LENGTH, dscc)"
   ]
  },
  {
   "cell_type": "code",
   "execution_count": null,
   "metadata": {},
   "outputs": [],
   "source": [
    "funs.plot_cells_used_for_clustering(dscc)"
   ]
  },
  {
   "cell_type": "code",
   "execution_count": null,
   "metadata": {},
   "outputs": [],
   "source": [
    "funs.plot_sample_of_vectors_norm_used_for_clustering(dscc)"
   ]
  },
  {
   "cell_type": "code",
   "execution_count": null,
   "metadata": {},
   "outputs": [],
   "source": [
    "funs.plot_hist_all_log(dscc[co.CONC_NORMS])"
   ]
  },
  {
   "cell_type": "code",
   "execution_count": null,
   "metadata": {},
   "outputs": [],
   "source": [
    "funs.plot_hist_all_log(dscc[co.CONC_NORMS].where(dscc[co.LAB_CLUSTER_THRESHOLD]))"
   ]
  },
  {
   "cell_type": "code",
   "execution_count": null,
   "metadata": {},
   "outputs": [],
   "source": [
    "# this one take a long time\n",
    "dscc = funs.do_clust_multiple(dscc)"
   ]
  },
  {
   "cell_type": "code",
   "execution_count": null,
   "metadata": {},
   "outputs": [],
   "source": [
    "funs.plot_bar_charts_for_each_cluster_set(dscc)"
   ]
  },
  {
   "cell_type": "code",
   "execution_count": null,
   "metadata": {},
   "outputs": [],
   "source": []
  },
  {
   "cell_type": "code",
   "execution_count": null,
   "metadata": {},
   "outputs": [],
   "source": [
    "dscc = funs.calc_silhouette_scores(dscc)\n",
    "\n",
    "dscc[co.SIL_SC].plot()"
   ]
  },
  {
   "cell_type": "code",
   "execution_count": null,
   "metadata": {},
   "outputs": [],
   "source": [
    "# ii = 2"
   ]
  },
  {
   "cell_type": "code",
   "execution_count": null,
   "metadata": {},
   "outputs": [],
   "source": [
    "# _d = dscc.loc[{co.CLUS_LENGTH_DIM:ii}][[co.FLAG,co.SIL_SC,SIL_SAMPLE]].stack({co.DUM_STACK:[co.R_CENTER,co.TH_CENTER,co.ZM]})"
   ]
  },
  {
   "cell_type": "code",
   "execution_count": null,
   "metadata": {},
   "outputs": [],
   "source": [
    "funs.plot_sil_score_grid(dscc)"
   ]
  },
  {
   "cell_type": "code",
   "execution_count": null,
   "metadata": {},
   "outputs": [],
   "source": [
    "_n = 4\n",
    "# _f = 2\n",
    "_ss1 = funs.get_df_for_plot(_n, dscc)"
   ]
  },
  {
   "cell_type": "code",
   "execution_count": null,
   "metadata": {},
   "outputs": [],
   "source": [
    "_ss1.plot(sharex=True,sharey=True, layout=(2, -1),subplots=True,figsize=(10,5),color=ucp.cc);"
   ]
  },
  {
   "cell_type": "code",
   "execution_count": null,
   "metadata": {},
   "outputs": [],
   "source": [
    "_ss1.plot.area(legend=True, figsize=(12,6),color=ucp.cc)"
   ]
  },
  {
   "cell_type": "code",
   "execution_count": null,
   "metadata": {},
   "outputs": [],
   "source": [
    "dscc"
   ]
  },
  {
   "cell_type": "code",
   "execution_count": null,
   "metadata": {},
   "outputs": [],
   "source": [
    "dscc = funs.add_lat_lon_to_dscc(dscc, selfFLP)"
   ]
  },
  {
   "cell_type": "code",
   "execution_count": null,
   "metadata": {},
   "outputs": [],
   "source": [
    "funs.plot_clust_in_bolivia(_n, dscc)"
   ]
  },
  {
   "cell_type": "code",
   "execution_count": null,
   "metadata": {},
   "outputs": [],
   "source": [
    "_n = 18\n",
    "funs.plot_clust_in_lapaz(_n, dscc)"
   ]
  },
  {
   "cell_type": "code",
   "execution_count": null,
   "metadata": {},
   "outputs": [],
   "source": [
    "\n",
    "_n = 18\n",
    "funs.plot_clust_bolivia_individual(_n, dscc)"
   ]
  },
  {
   "cell_type": "code",
   "execution_count": null,
   "metadata": {},
   "outputs": [],
   "source": [
    "_f = 2\n",
    "_n = 18\n",
    "funs.plot_distance_height_chc(_n, dscc)"
   ]
  },
  {
   "cell_type": "code",
   "execution_count": null,
   "metadata": {},
   "outputs": [],
   "source": [
    "dscc = funs.add_dis_km_dscc(dscc)"
   ]
  },
  {
   "cell_type": "code",
   "execution_count": null,
   "metadata": {},
   "outputs": [],
   "source": [
    "dsF[co.TOPO]"
   ]
  },
  {
   "cell_type": "code",
   "execution_count": null,
   "metadata": {},
   "outputs": [],
   "source": [
    "mpl.rcParams['figure.dpi'] = 300\n",
    "_cols = 6\n",
    "_rows = 3\n",
    "fig, axs = plt.subplots(_rows,_cols,sharex=True,sharey=True,figsize=(3.5*_cols,2.5*_rows))\n",
    "axsf = axs.flatten()\n",
    "\n",
    "log.ger.setLevel(log.log.ERROR)\n",
    "_ds = funs.plot_dis_height_quantiles_chc(_n, dsF, dscc,axs=axsf)\n",
    "fig.tight_layout()"
   ]
  },
  {
   "cell_type": "code",
   "execution_count": null,
   "metadata": {
    "lines_to_next_cell": 2
   },
   "outputs": [],
   "source": [
    "mpl.rcParams['figure.dpi'] = 300\n",
    "_cols = 6\n",
    "_rows = 3\n",
    "fig, axs = plt.subplots(_rows,_cols,sharex=True,sharey=True,figsize=(3.5*_cols,2.5*_rows))\n",
    "axsf = axs.flatten()\n",
    "\n",
    "log.ger.setLevel(log.log.ERROR)"
   ]
  },
  {
   "cell_type": "code",
   "execution_count": null,
   "metadata": {},
   "outputs": [],
   "source": [
    "for _f in range(_n):\n",
    "    ax = axsplot(figsize=(5,4))\n",
    "    funs.plot_dis_height_quantiles_chc_single(_f,_n, dsF, dscc,axs=ax)"
   ]
  },
  {
   "cell_type": "code",
   "execution_count": null,
   "metadata": {},
   "outputs": [],
   "source": []
  },
  {
   "cell_type": "code",
   "execution_count": null,
   "metadata": {},
   "outputs": [],
   "source": [
    "!jupyter-nbconvert --to markdown main.ipynb"
   ]
  },
  {
   "cell_type": "code",
   "execution_count": null,
   "metadata": {},
   "outputs": [],
   "source": [
    "dscc[co.CONC].sum([co.TH_CENTER,co.ZM,co.RL]).plot()"
   ]
  },
  {
   "cell_type": "code",
   "execution_count": null,
   "metadata": {},
   "outputs": [],
   "source": [
    "dscc[co.CONC].sum([co.TH_CENTER,co.RL]).plot.line(x=co.R_CENTER);"
   ]
  },
  {
   "cell_type": "code",
   "execution_count": null,
   "metadata": {},
   "outputs": [],
   "source": [
    "_n = 18\n",
    "funs.plot_influences(_n, dscc)"
   ]
  },
  {
   "cell_type": "code",
   "execution_count": null,
   "metadata": {
    "lines_to_next_cell": 2
   },
   "outputs": [],
   "source": [
    "less_than = 1000000\n",
    "more_than = 0\n",
    "height_less_than = 100000000\n",
    "\n",
    "_ds = dscc.loc[{co.CLUS_LENGTH_DIM: _n}].copy()\n",
    "try: _ds = _ds.drop(co.KMEAN_OBJ)\n",
    "except: pass\n",
    "\n",
    "_dss = _ds.copy()\n",
    "_ds[co.CONC] = _ds[co.CONC].where(dscc[co.R_CENTER] < less_than,\n",
    "                                  0).where(\n",
    "    dscc[co.R_CENTER] > more_than, 0).where(\n",
    "    dscc[co.ZM] < height_less_than, 0)\n",
    "_ds1 = _ds[[co.CONC, co.FLAG]]\n",
    "_dss1 = _dss[[co.CONC, co.FLAG]]\n",
    "_ds2 = _ds1.to_dataframe()\n",
    "_dss2 = _dss1.to_dataframe()\n",
    "_ds3 = _ds2[[co.CONC, co.FLAG]]\n",
    "_dss3 = _dss2[[co.CONC, co.FLAG]]\n",
    "_df = _ds3.reset_index([co.R_CENTER, co.TH_CENTER, co.ZM],\n",
    "                       drop=True).reset_index().set_index(\n",
    "    [co.FLAG, co.RL])\n",
    "_dff = _dss3.reset_index([co.R_CENTER, co.TH_CENTER, co.ZM],\n",
    "                         drop=True).reset_index().set_index(\n",
    "    [co.FLAG, co.RL])\n",
    "_df1 = _df.sort_index().groupby([co.FLAG, co.RL]).sum()\n",
    "_dff1 = _dff.sort_index().groupby([co.FLAG, co.RL]).sum()\n",
    "_df2 = _df1.unstack(co.FLAG)[co.CONC]\n",
    "_dff2 = _dff1.unstack(co.FLAG)[co.CONC]\n",
    "_df2 = 100 * (_df2.T / _dff2.T.sum()).T"
   ]
  },
  {
   "cell_type": "code",
   "execution_count": null,
   "metadata": {
    "lines_to_next_cell": 2
   },
   "outputs": [],
   "source": [
    "_f = 1\n",
    "for _f in range(_n):\n",
    "    ax = axsplot()\n",
    "    _df3 = _df2[_f]\n",
    "    ax=_df3.plot( figsize=(15, 1.5),\n",
    "              color=[[*ucp.cc, *ucp.cc][_f]])\n",
    "    ax.set_title(f'{_f}')\n",
    "    ax.set_ylabel('SRR [%]')"
   ]
  },
  {
   "cell_type": "code",
   "execution_count": null,
   "metadata": {},
   "outputs": [],
   "source": [
    "_n = 18\n",
    "less_than = .5\n",
    "more_than = .05\n",
    "height_less_than = 1000\n",
    "\n",
    "funs.plot_target_distance_height_influence(_n, dscc, height_less_than,\n",
    "                                           less_than, more_than)"
   ]
  },
  {
   "cell_type": "code",
   "execution_count": null,
   "metadata": {
    "lines_to_next_cell": 0
   },
   "outputs": [],
   "source": [
    "\n",
    "_n = 18"
   ]
  },
  {
   "cell_type": "code",
   "execution_count": null,
   "metadata": {},
   "outputs": [],
   "source": [
    "mdsc = selfFLP.merged_ds.copy()"
   ]
  },
  {
   "cell_type": "code",
   "execution_count": null,
   "metadata": {
    "lines_to_next_cell": 2
   },
   "outputs": [],
   "source": [
    "_dscc = dscc.drop([co.KMEAN_OBJ,co.CONC,co.CONC_NORMALIZED,co.RL])\n",
    "_dscc=xr.merge([mdsc,_dscc])\n",
    "_dscc[co.CONC] = _dscc[co.CONC].where(_dscc[co.CONC].sum([co.R_CENTER,co.TH_CENTER,co.ZM])>2e5)\n",
    "_dscc[co.CONC] = _dscc[[co.CONC]].resample(releases='H').mean()[co.CONC]"
   ]
  },
  {
   "cell_type": "code",
   "execution_count": null,
   "metadata": {},
   "outputs": [],
   "source": [
    "_n = 18\n",
    "funs.plot_influences(_n, _dscc)"
   ]
  },
  {
   "cell_type": "code",
   "execution_count": null,
   "metadata": {},
   "outputs": [],
   "source": [
    "_n = 18\n",
    "less_than = .3\n",
    "more_than = .15\n",
    "height_less_than = 1000\n",
    "\n",
    "funs.plot_target_distance_height_influence(_n, _dscc, height_less_than,\n",
    "                                           less_than, more_than)"
   ]
  },
  {
   "cell_type": "code",
   "execution_count": null,
   "metadata": {},
   "outputs": [],
   "source": [
    "_ns = [0,2,8,9,11,14]\n",
    "\n",
    "for _nn in _ns:\n",
    "\n",
    "    funs.plot_hour_influence_targeted(_n, _nn, _dscc, height_less_than,\n",
    "                                      less_than, more_than)"
   ]
  },
  {
   "cell_type": "code",
   "execution_count": null,
   "metadata": {},
   "outputs": [],
   "source": [
    "path = '/Volumes/mbProD/Downloads/CHC_QACSM.xlsx'\n",
    "acsm = pd.read_excel(path)\n",
    "acsm = acsm.set_index('Date UTC')\n",
    "acsm = acsm[1:]\n",
    "acsm = acsm['2018-04-01':]\n",
    "acsm = acsm.resample('1H').median()\n",
    "# acsm = acsm.rolling(\n",
    "#     12,min_periods=1,center=True,win_type='gaussian'\n",
    "# ).mean(std=4)\n",
    "\n",
    "# acsm = acsm.rolling(\n",
    "#     24,min_periods=1,center=True\n",
    "# ).median()\n",
    "acsm.index.name = co.RL\n",
    "\n",
    "# acsm = acsm[(acsm.index<'2018-04-24 00')|(acsm.index>'2018-04-25 00')]\n",
    "\n",
    "\n"
   ]
  },
  {
   "cell_type": "code",
   "execution_count": null,
   "metadata": {},
   "outputs": [],
   "source": [
    "import scipy.optimize.nnls as nnls"
   ]
  },
  {
   "cell_type": "code",
   "execution_count": null,
   "metadata": {},
   "outputs": [],
   "source": [
    "_n = 18\n",
    "# _ds = dscc.loc[{CLUS_LENGTH_DIM:_n}].drop(KMEAN_OBJ)\n",
    "_ds=_dscc.loc[{co.CLUS_LENGTH_DIM:_n}]\n",
    "_ds[co.CONC]=100*_ds[co.CONC]/_ds[co.CONC].sum([co.R_CENTER,co.TH_CENTER,co.ZM])"
   ]
  },
  {
   "cell_type": "code",
   "execution_count": null,
   "metadata": {},
   "outputs": [],
   "source": [
    "_all_c = set(_ds.coords.keys())"
   ]
  },
  {
   "cell_type": "code",
   "execution_count": null,
   "metadata": {},
   "outputs": [],
   "source": [
    "_dims = set(_ds.dims.keys())"
   ]
  },
  {
   "cell_type": "code",
   "execution_count": null,
   "metadata": {},
   "outputs": [],
   "source": [
    "_drop = list(_all_c - _dims)"
   ]
  },
  {
   "cell_type": "code",
   "execution_count": null,
   "metadata": {},
   "outputs": [],
   "source": [
    "_ds1 = _ds[[co.CONC,co.FLAG]].drop(_drop)"
   ]
  },
  {
   "cell_type": "code",
   "execution_count": null,
   "metadata": {},
   "outputs": [],
   "source": [
    "_ds2 = _ds1.to_dataframe()"
   ]
  },
  {
   "cell_type": "code",
   "execution_count": null,
   "metadata": {},
   "outputs": [],
   "source": [
    "_ds3=_ds2.groupby([co.FLAG,co.RL]).sum()"
   ]
  },
  {
   "cell_type": "code",
   "execution_count": null,
   "metadata": {},
   "outputs": [],
   "source": [
    "_df1 = _ds3.unstack(co.FLAG)[co.CONC]"
   ]
  },
  {
   "cell_type": "code",
   "execution_count": null,
   "metadata": {},
   "outputs": [],
   "source": [
    "cols = _df1.columns"
   ]
  },
  {
   "cell_type": "code",
   "execution_count": null,
   "metadata": {},
   "outputs": [],
   "source": [
    "res2 = pd.merge(acsm,_df1,left_index=True,right_index=True)\n",
    "res2=res2.dropna()"
   ]
  },
  {
   "cell_type": "code",
   "execution_count": null,
   "metadata": {},
   "outputs": [],
   "source": []
  },
  {
   "cell_type": "code",
   "execution_count": null,
   "metadata": {},
   "outputs": [],
   "source": [
    "A = res2[cols]\n",
    "Av = A.values"
   ]
  },
  {
   "cell_type": "code",
   "execution_count": null,
   "metadata": {},
   "outputs": [],
   "source": [
    "# c1 = 'Nitrate'\n",
    "c1 = 'Sulfate'\n",
    "b = res2[c1]\n",
    "# bo = b<4\n",
    "# b = b[bo]\n",
    "# A = res2[cols][bo]\n",
    "# Av = A.values\n",
    "bv = b.values"
   ]
  },
  {
   "cell_type": "code",
   "execution_count": null,
   "metadata": {},
   "outputs": [],
   "source": [
    "# res = nnls(A,b)\n",
    "res = nnls(Av[:],bv[:])"
   ]
  },
  {
   "cell_type": "code",
   "execution_count": null,
   "metadata": {
    "lines_to_next_cell": 2
   },
   "outputs": [],
   "source": [
    "r1 = pd.Series(res[0],index=cols)\n",
    "r1 = 100*r1/r1.sum()\n",
    "ax = r1.plot.bar(color = [*ucp.cc,*ucp.cc])\n",
    "ax.set_xlabel('cluster region')\n",
    "ax.set_ylabel('weights [%]')\n",
    "\n",
    "ax.figure.savefig('/tmp/sulf_weights.pdf')"
   ]
  },
  {
   "cell_type": "code",
   "execution_count": null,
   "metadata": {},
   "outputs": [],
   "source": [
    "r0 =res[0]\n",
    "AA = res2.copy()\n",
    "c=np.dot(A,np.array(r0))\n",
    "lab = 'reconstructed Sulfate signal'\n",
    "AA[lab]=c\n",
    "AA[lab]=AA[lab][AA[lab]>0]\n",
    "l1 = 'Sulfate ACSM [ug/m3]'\n",
    "AA[l1]=AA[c1]\n",
    "# AA=AA.rename(mapper=str,columns={c1:l1})\n",
    "ax = AA[[l1,lab]].resample('H').mean().plot()\n",
    "ax.figure.tight_layout()\n",
    "ax.figure.savefig('/tmp/abs_mea_cal.pdf')\n",
    "\n",
    "r0 =res[0]\n",
    "AA = res2.copy()\n",
    "c=np.dot(A,np.array(r0))\n",
    "lab = 'reconstructed Sulfate signal'\n",
    "AA[lab]=c\n",
    "AA[lab]=AA[lab][AA[lab]>0]\n",
    "l1 = 'Sulfate ACSM [ug/m3]'\n",
    "AA[l1]=AA[c1]\n",
    "# AA=AA.rename(mapper=str,columns={c1:l1})\n",
    "ax = AA[[l1]].resample('H').mean().plot()\n",
    "ax.figure.tight_layout()\n",
    "ax.figure.savefig('/tmp/abs_mea_cal1.pdf')"
   ]
  },
  {
   "cell_type": "code",
   "execution_count": null,
   "metadata": {},
   "outputs": [],
   "source": [
    "path_bc = '/Users/diego/JUP/co_bc/data/horiba_chc_corrected_diego.csv'\n",
    "bc,CO,h  = 'abs670','CO_ppbv','hour'\n",
    "lh = 'Local Time'\n",
    "dt = 'date'\n",
    "df = pd.read_csv(path_bc)\n",
    "df[lh]=np.mod(df[h]-4,24)\n",
    "df[dt] = pd.to_datetime(df[dt])\n",
    "df = df.set_index(dt)"
   ]
  },
  {
   "cell_type": "code",
   "execution_count": null,
   "metadata": {},
   "outputs": [],
   "source": [
    "dd = df[bc]['2017-12':'2018-05']\n",
    "\n",
    "dd.plot(\n",
    "    marker=',',linewidth=0,\n",
    "    figsize=(10,5)\n",
    ")\n",
    "std=24\n",
    "# res = dd.rolling(std,min_periods=int(std/4),center=True).median()\n",
    "res = dd\n",
    "ax=res.plot()\n",
    "# ax.set_ylim(.1,12)\n",
    "# ax.set_yscale('log')"
   ]
  },
  {
   "cell_type": "code",
   "execution_count": null,
   "metadata": {},
   "outputs": [],
   "source": [
    "res.index.name = co.RL\n",
    "res2 = pd.merge(res,_df1,left_index=True,right_index=True)\n",
    "res2=res2.dropna()"
   ]
  },
  {
   "cell_type": "code",
   "execution_count": null,
   "metadata": {},
   "outputs": [],
   "source": [
    "import scipy.optimize.nnls as nnls"
   ]
  },
  {
   "cell_type": "code",
   "execution_count": null,
   "metadata": {},
   "outputs": [],
   "source": [
    "bcl='eBC [µg/m³]'\n",
    "res2[bcl]=res2[bc]/6.6"
   ]
  },
  {
   "cell_type": "code",
   "execution_count": null,
   "metadata": {},
   "outputs": [],
   "source": [
    "A = res2[cols]\n",
    "Av = A.values"
   ]
  },
  {
   "cell_type": "code",
   "execution_count": null,
   "metadata": {},
   "outputs": [],
   "source": [
    "b = res2[bcl]\n",
    "bv = b.values"
   ]
  },
  {
   "cell_type": "code",
   "execution_count": null,
   "metadata": {},
   "outputs": [],
   "source": [
    "# res = nnls(A,b)\n",
    "res = nnls(Av[:],bv[:])"
   ]
  },
  {
   "cell_type": "code",
   "execution_count": null,
   "metadata": {
    "lines_to_next_cell": 2
   },
   "outputs": [],
   "source": [
    "r0 =res[0]"
   ]
  },
  {
   "cell_type": "code",
   "execution_count": null,
   "metadata": {},
   "outputs": [],
   "source": [
    "AA = res2.copy()\n",
    "c=np.dot(A,np.array(r0))\n",
    "cc = 'reconstructed eBC signal'\n",
    "AA[cc]=c"
   ]
  },
  {
   "cell_type": "code",
   "execution_count": null,
   "metadata": {},
   "outputs": [],
   "source": [
    "ax = AA[[bcl,cc]].resample('H').mean().plot(figsize=(15,5))\n",
    "ax.figure.tight_layout()\n",
    "ax.set_xlabel('')\n",
    "ax.figure.savefig('/tmp/abs_mea_cal.pdf')\n",
    "ax.set_yscale('log')\n",
    "ax.set_ylim(.1,5)"
   ]
  },
  {
   "cell_type": "code",
   "execution_count": null,
   "metadata": {},
   "outputs": [],
   "source": [
    "r1 = pd.Series(res[0],index=cols)\n",
    "r1 = 100*r1/r1.sum()\n",
    "\n",
    "\n",
    "ax = r1.plot.bar(color = [*ucp.cc,*ucp.cc])\n",
    "ax.set_xlabel('cluster region')\n",
    "ax.set_ylabel('weights [%]')\n",
    "ax.figure.savefig('/tmp/meas_bar_abs.pdf')"
   ]
  },
  {
   "cell_type": "code",
   "execution_count": null,
   "metadata": {},
   "outputs": [],
   "source": [
    "_n = 18\n",
    "_ds = _dscc.loc[{co.CLUS_LENGTH_DIM:_n}]"
   ]
  },
  {
   "cell_type": "code",
   "execution_count": null,
   "metadata": {},
   "outputs": [],
   "source": [
    "_df = _ds[[co.CONC,co.FLAG]]\n",
    "_df = _df.drop(list(set(_df.coords)-set(_df.dims))).to_dataframe()"
   ]
  },
  {
   "cell_type": "code",
   "execution_count": null,
   "metadata": {},
   "outputs": [],
   "source": [
    "_df = _df.reset_index()[[co.RL,co.CONC,co.FLAG]]"
   ]
  },
  {
   "cell_type": "code",
   "execution_count": null,
   "metadata": {},
   "outputs": [],
   "source": [
    "_df1 = _df.groupby([co.FLAG,co.RL]).sum()"
   ]
  },
  {
   "cell_type": "code",
   "execution_count": null,
   "metadata": {},
   "outputs": [],
   "source": [
    "_df2 = _df1[co.CONC].unstack(co.FLAG)"
   ]
  },
  {
   "cell_type": "code",
   "execution_count": null,
   "metadata": {},
   "outputs": [],
   "source": [
    "_df3 = 100*(_df2.T/_df2.T.sum()).T"
   ]
  },
  {
   "cell_type": "code",
   "execution_count": null,
   "metadata": {},
   "outputs": [],
   "source": [
    "_df3.to_csv('/tmp/clust18_v00.csv')"
   ]
  },
  {
   "cell_type": "code",
   "execution_count": null,
   "metadata": {},
   "outputs": [],
   "source": [
    "_df3"
   ]
  },
  {
   "cell_type": "code",
   "execution_count": null,
   "metadata": {
    "lines_to_next_cell": 2
   },
   "outputs": [],
   "source": [
    "\n",
    "\n",
    "\n",
    "\n"
   ]
  }
 ],
 "metadata": {
  "jupytext": {
   "encoding": "# -*- coding: utf-8 -*-"
  },
  "kernelspec": {
   "display_name": "Python 3",
   "language": "python",
   "name": "python3"
  }
 },
 "nbformat": 4,
 "nbformat_minor": 2
}
