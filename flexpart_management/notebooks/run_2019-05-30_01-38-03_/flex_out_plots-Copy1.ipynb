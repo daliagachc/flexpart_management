{
 "cells": [
  {
   "cell_type": "code",
   "execution_count": 1,
   "metadata": {},
   "outputs": [],
   "source": [
    "%load_ext autoreload\n",
    "%autoreload 2"
   ]
  },
  {
   "cell_type": "code",
   "execution_count": 2,
   "metadata": {},
   "outputs": [],
   "source": [
    "import flexpart_management.modules.flx_array as fa"
   ]
  },
  {
   "cell_type": "code",
   "execution_count": 3,
   "metadata": {},
   "outputs": [],
   "source": [
    "ds = xr.open_dataset('/tmp/dd4.nc')\n",
    "ds2 = xr.open_dataset('/tmp/dd02.nc')"
   ]
  },
  {
   "cell_type": "code",
   "execution_count": null,
   "metadata": {},
   "outputs": [],
   "source": []
  },
  {
   "cell_type": "code",
   "execution_count": 7,
   "metadata": {},
   "outputs": [],
   "source": [
    "la = ds.LAT - fa.CHC_LAT\n",
    "lo = ds.LON - fa.CHC_LON\n",
    "r = np.sqrt(la**2+lo**2)"
   ]
  },
  {
   "cell_type": "code",
   "execution_count": 9,
   "metadata": {},
   "outputs": [
    {
     "data": {
      "text/plain": [
       "<xarray.DataArray ()>\n",
       "array(29.747862, dtype=float32)"
      ]
     },
     "execution_count": 9,
     "metadata": {},
     "output_type": "execute_result"
    }
   ],
   "source": [
    "r.max()"
   ]
  },
  {
   "cell_type": "code",
   "execution_count": 73,
   "metadata": {},
   "outputs": [],
   "source": [
    "r1=.05\n",
    "r2=30\n",
    "n=20\n",
    "rlog_space = np.linspace(np.log(r1),np.log(r2),n)\n",
    "r_space = np.e**rlog_space"
   ]
  },
  {
   "cell_type": "code",
   "execution_count": 74,
   "metadata": {},
   "outputs": [
    {
     "data": {
      "text/plain": [
       "[<matplotlib.lines.Line2D at 0x122cd4eb8>]"
      ]
     },
     "execution_count": 74,
     "metadata": {},
     "output_type": "execute_result"
    },
    {
     "data": {
      "image/png": "[encoded data removed]",
      "text/plain": [
       "<Figure size 432x288 with 1 Axes>"
      ]
     },
     "metadata": {
      "needs_background": "light"
     },
     "output_type": "display_data"
    },
    {
     "data": {
      "image/png": "[encoded data removed]",
      "text/plain": [
       "<Figure size 432x288 with 1 Axes>"
      ]
     },
     "metadata": {
      "needs_background": "light"
     },
     "output_type": "display_data"
    }
   ],
   "source": [
    "plt.figure()\n",
    "plt.plot(rlog_space)\n",
    "plt.figure()\n",
    "plt.plot(r_space)"
   ]
  },
  {
   "cell_type": "code",
   "execution_count": 75,
   "metadata": {},
   "outputs": [],
   "source": [
    "RS = 'r_space'\n",
    "RD = 'r_dis'\n",
    "RC = 'r_center'\n",
    "df_r = pd.DataFrame(r_space,columns=[RS])\n",
    "df_r[RD] = df_r[RS] - df_r[RS].shift()\n",
    "df_r = df_r*100\n",
    "df_r[RC] = (df_r[RS] + df_r[RS].shift())/2\n"
   ]
  },
  {
   "cell_type": "code",
   "execution_count": 76,
   "metadata": {},
   "outputs": [
    {
     "data": {
      "text/html": [
       "<div>\n",
       "<style scoped>\n",
       "    .dataframe tbody tr th:only-of-type {\n",
       "        vertical-align: middle;\n",
       "    }\n",
       "\n",
       "    .dataframe tbody tr th {\n",
       "        vertical-align: top;\n",
       "    }\n",
       "\n",
       "    .dataframe thead th {\n",
       "        text-align: right;\n",
       "    }\n",
       "</style>\n",
       "<table border=\"1\" class=\"dataframe\">\n",
       "  <thead>\n",
       "    <tr style=\"text-align: right;\">\n",
       "      <th></th>\n",
       "      <th>r_space</th>\n",
       "      <th>r_dis</th>\n",
       "      <th>r_center</th>\n",
       "    </tr>\n",
       "  </thead>\n",
       "  <tbody>\n",
       "    <tr>\n",
       "      <th>0</th>\n",
       "      <td>5.000000</td>\n",
       "      <td>NaN</td>\n",
       "      <td>NaN</td>\n",
       "    </tr>\n",
       "    <tr>\n",
       "      <th>1</th>\n",
       "      <td>7.001458</td>\n",
       "      <td>2.001458</td>\n",
       "      <td>6.000729</td>\n",
       "    </tr>\n",
       "    <tr>\n",
       "      <th>2</th>\n",
       "      <td>9.804083</td>\n",
       "      <td>2.802625</td>\n",
       "      <td>8.402771</td>\n",
       "    </tr>\n",
       "    <tr>\n",
       "      <th>3</th>\n",
       "      <td>13.728575</td>\n",
       "      <td>3.924492</td>\n",
       "      <td>11.766329</td>\n",
       "    </tr>\n",
       "    <tr>\n",
       "      <th>4</th>\n",
       "      <td>19.224009</td>\n",
       "      <td>5.495433</td>\n",
       "      <td>16.476292</td>\n",
       "    </tr>\n",
       "    <tr>\n",
       "      <th>5</th>\n",
       "      <td>26.919218</td>\n",
       "      <td>7.695209</td>\n",
       "      <td>23.071613</td>\n",
       "    </tr>\n",
       "    <tr>\n",
       "      <th>6</th>\n",
       "      <td>37.694755</td>\n",
       "      <td>10.775537</td>\n",
       "      <td>32.306986</td>\n",
       "    </tr>\n",
       "    <tr>\n",
       "      <th>7</th>\n",
       "      <td>52.783649</td>\n",
       "      <td>15.088894</td>\n",
       "      <td>45.239202</td>\n",
       "    </tr>\n",
       "    <tr>\n",
       "      <th>8</th>\n",
       "      <td>73.912501</td>\n",
       "      <td>21.128852</td>\n",
       "      <td>63.348075</td>\n",
       "    </tr>\n",
       "    <tr>\n",
       "      <th>9</th>\n",
       "      <td>103.499055</td>\n",
       "      <td>29.586554</td>\n",
       "      <td>88.705778</td>\n",
       "    </tr>\n",
       "    <tr>\n",
       "      <th>10</th>\n",
       "      <td>144.928859</td>\n",
       "      <td>41.429804</td>\n",
       "      <td>124.213957</td>\n",
       "    </tr>\n",
       "    <tr>\n",
       "      <th>11</th>\n",
       "      <td>202.942665</td>\n",
       "      <td>58.013806</td>\n",
       "      <td>173.935762</td>\n",
       "    </tr>\n",
       "    <tr>\n",
       "      <th>12</th>\n",
       "      <td>284.178912</td>\n",
       "      <td>81.236246</td>\n",
       "      <td>243.560788</td>\n",
       "    </tr>\n",
       "    <tr>\n",
       "      <th>13</th>\n",
       "      <td>397.933346</td>\n",
       "      <td>113.754434</td>\n",
       "      <td>341.056129</td>\n",
       "    </tr>\n",
       "    <tr>\n",
       "      <th>14</th>\n",
       "      <td>557.222726</td>\n",
       "      <td>159.289380</td>\n",
       "      <td>477.578036</td>\n",
       "    </tr>\n",
       "    <tr>\n",
       "      <th>15</th>\n",
       "      <td>780.274308</td>\n",
       "      <td>223.051582</td>\n",
       "      <td>668.748517</td>\n",
       "    </tr>\n",
       "    <tr>\n",
       "      <th>16</th>\n",
       "      <td>1092.611568</td>\n",
       "      <td>312.337259</td>\n",
       "      <td>936.442938</td>\n",
       "    </tr>\n",
       "    <tr>\n",
       "      <th>17</th>\n",
       "      <td>1529.974812</td>\n",
       "      <td>437.363244</td>\n",
       "      <td>1311.293190</td>\n",
       "    </tr>\n",
       "    <tr>\n",
       "      <th>18</th>\n",
       "      <td>2142.410893</td>\n",
       "      <td>612.436081</td>\n",
       "      <td>1836.192852</td>\n",
       "    </tr>\n",
       "    <tr>\n",
       "      <th>19</th>\n",
       "      <td>3000.000000</td>\n",
       "      <td>857.589107</td>\n",
       "      <td>2571.205447</td>\n",
       "    </tr>\n",
       "  </tbody>\n",
       "</table>\n",
       "</div>"
      ],
      "text/plain": [
       "        r_space       r_dis     r_center\n",
       "0      5.000000         NaN          NaN\n",
       "1      7.001458    2.001458     6.000729\n",
       "2      9.804083    2.802625     8.402771\n",
       "3     13.728575    3.924492    11.766329\n",
       "4     19.224009    5.495433    16.476292\n",
       "5     26.919218    7.695209    23.071613\n",
       "6     37.694755   10.775537    32.306986\n",
       "7     52.783649   15.088894    45.239202\n",
       "8     73.912501   21.128852    63.348075\n",
       "9    103.499055   29.586554    88.705778\n",
       "10   144.928859   41.429804   124.213957\n",
       "11   202.942665   58.013806   173.935762\n",
       "12   284.178912   81.236246   243.560788\n",
       "13   397.933346  113.754434   341.056129\n",
       "14   557.222726  159.289380   477.578036\n",
       "15   780.274308  223.051582   668.748517\n",
       "16  1092.611568  312.337259   936.442938\n",
       "17  1529.974812  437.363244  1311.293190\n",
       "18  2142.410893  612.436081  1836.192852\n",
       "19  3000.000000  857.589107  2571.205447"
      ]
     },
     "execution_count": 76,
     "metadata": {},
     "output_type": "execute_result"
    }
   ],
   "source": [
    "df_r"
   ]
  },
  {
   "cell_type": "code",
   "execution_count": 62,
   "metadata": {},
   "outputs": [
    {
     "data": {
      "text/html": [
       "<div>\n",
       "<style scoped>\n",
       "    .dataframe tbody tr th:only-of-type {\n",
       "        vertical-align: middle;\n",
       "    }\n",
       "\n",
       "    .dataframe tbody tr th {\n",
       "        vertical-align: top;\n",
       "    }\n",
       "\n",
       "    .dataframe thead th {\n",
       "        text-align: right;\n",
       "    }\n",
       "</style>\n",
       "<table border=\"1\" class=\"dataframe\">\n",
       "  <thead>\n",
       "    <tr style=\"text-align: right;\">\n",
       "      <th></th>\n",
       "      <th>r_space</th>\n",
       "      <th>r_dis</th>\n",
       "    </tr>\n",
       "  </thead>\n",
       "  <tbody>\n",
       "    <tr>\n",
       "      <th>0</th>\n",
       "      <td>3.000000</td>\n",
       "      <td>NaN</td>\n",
       "    </tr>\n",
       "    <tr>\n",
       "      <th>1</th>\n",
       "      <td>3.806883</td>\n",
       "      <td>0.806883</td>\n",
       "    </tr>\n",
       "    <tr>\n",
       "      <th>2</th>\n",
       "      <td>4.830786</td>\n",
       "      <td>1.023903</td>\n",
       "    </tr>\n",
       "    <tr>\n",
       "      <th>3</th>\n",
       "      <td>6.130079</td>\n",
       "      <td>1.299293</td>\n",
       "    </tr>\n",
       "    <tr>\n",
       "      <th>4</th>\n",
       "      <td>7.778831</td>\n",
       "      <td>1.648752</td>\n",
       "    </tr>\n",
       "    <tr>\n",
       "      <th>5</th>\n",
       "      <td>9.871034</td>\n",
       "      <td>2.092202</td>\n",
       "    </tr>\n",
       "    <tr>\n",
       "      <th>6</th>\n",
       "      <td>12.525957</td>\n",
       "      <td>2.654923</td>\n",
       "    </tr>\n",
       "    <tr>\n",
       "      <th>7</th>\n",
       "      <td>15.894951</td>\n",
       "      <td>3.368994</td>\n",
       "    </tr>\n",
       "    <tr>\n",
       "      <th>8</th>\n",
       "      <td>20.170073</td>\n",
       "      <td>4.275122</td>\n",
       "    </tr>\n",
       "    <tr>\n",
       "      <th>9</th>\n",
       "      <td>25.595036</td>\n",
       "      <td>5.424963</td>\n",
       "    </tr>\n",
       "    <tr>\n",
       "      <th>10</th>\n",
       "      <td>32.479102</td>\n",
       "      <td>6.884066</td>\n",
       "    </tr>\n",
       "    <tr>\n",
       "      <th>11</th>\n",
       "      <td>41.214714</td>\n",
       "      <td>8.735612</td>\n",
       "    </tr>\n",
       "    <tr>\n",
       "      <th>12</th>\n",
       "      <td>52.299865</td>\n",
       "      <td>11.085151</td>\n",
       "    </tr>\n",
       "    <tr>\n",
       "      <th>13</th>\n",
       "      <td>66.366489</td>\n",
       "      <td>14.066624</td>\n",
       "    </tr>\n",
       "    <tr>\n",
       "      <th>14</th>\n",
       "      <td>84.216486</td>\n",
       "      <td>17.849997</td>\n",
       "    </tr>\n",
       "    <tr>\n",
       "      <th>15</th>\n",
       "      <td>106.867437</td>\n",
       "      <td>22.650951</td>\n",
       "    </tr>\n",
       "    <tr>\n",
       "      <th>16</th>\n",
       "      <td>135.610610</td>\n",
       "      <td>28.743173</td>\n",
       "    </tr>\n",
       "    <tr>\n",
       "      <th>17</th>\n",
       "      <td>172.084575</td>\n",
       "      <td>36.473966</td>\n",
       "    </tr>\n",
       "    <tr>\n",
       "      <th>18</th>\n",
       "      <td>218.368615</td>\n",
       "      <td>46.284040</td>\n",
       "    </tr>\n",
       "    <tr>\n",
       "      <th>19</th>\n",
       "      <td>277.101257</td>\n",
       "      <td>58.732642</td>\n",
       "    </tr>\n",
       "    <tr>\n",
       "      <th>20</th>\n",
       "      <td>351.630689</td>\n",
       "      <td>74.529432</td>\n",
       "    </tr>\n",
       "    <tr>\n",
       "      <th>21</th>\n",
       "      <td>446.205632</td>\n",
       "      <td>94.574943</td>\n",
       "    </tr>\n",
       "    <tr>\n",
       "      <th>22</th>\n",
       "      <td>566.217547</td>\n",
       "      <td>120.011914</td>\n",
       "    </tr>\n",
       "    <tr>\n",
       "      <th>23</th>\n",
       "      <td>718.507986</td>\n",
       "      <td>152.290439</td>\n",
       "    </tr>\n",
       "    <tr>\n",
       "      <th>24</th>\n",
       "      <td>911.758615</td>\n",
       "      <td>193.250629</td>\n",
       "    </tr>\n",
       "    <tr>\n",
       "      <th>25</th>\n",
       "      <td>1156.986126</td>\n",
       "      <td>245.227512</td>\n",
       "    </tr>\n",
       "    <tr>\n",
       "      <th>26</th>\n",
       "      <td>1468.170276</td>\n",
       "      <td>311.184149</td>\n",
       "    </tr>\n",
       "    <tr>\n",
       "      <th>27</th>\n",
       "      <td>1863.050826</td>\n",
       "      <td>394.880550</td>\n",
       "    </tr>\n",
       "    <tr>\n",
       "      <th>28</th>\n",
       "      <td>2364.138845</td>\n",
       "      <td>501.088019</td>\n",
       "    </tr>\n",
       "    <tr>\n",
       "      <th>29</th>\n",
       "      <td>3000.000000</td>\n",
       "      <td>635.861155</td>\n",
       "    </tr>\n",
       "  </tbody>\n",
       "</table>\n",
       "</div>"
      ],
      "text/plain": [
       "        r_space       r_dis\n",
       "0      3.000000         NaN\n",
       "1      3.806883    0.806883\n",
       "2      4.830786    1.023903\n",
       "3      6.130079    1.299293\n",
       "4      7.778831    1.648752\n",
       "5      9.871034    2.092202\n",
       "6     12.525957    2.654923\n",
       "7     15.894951    3.368994\n",
       "8     20.170073    4.275122\n",
       "9     25.595036    5.424963\n",
       "10    32.479102    6.884066\n",
       "11    41.214714    8.735612\n",
       "12    52.299865   11.085151\n",
       "13    66.366489   14.066624\n",
       "14    84.216486   17.849997\n",
       "15   106.867437   22.650951\n",
       "16   135.610610   28.743173\n",
       "17   172.084575   36.473966\n",
       "18   218.368615   46.284040\n",
       "19   277.101257   58.732642\n",
       "20   351.630689   74.529432\n",
       "21   446.205632   94.574943\n",
       "22   566.217547  120.011914\n",
       "23   718.507986  152.290439\n",
       "24   911.758615  193.250629\n",
       "25  1156.986126  245.227512\n",
       "26  1468.170276  311.184149\n",
       "27  1863.050826  394.880550\n",
       "28  2364.138845  501.088019\n",
       "29  3000.000000  635.861155"
      ]
     },
     "execution_count": 62,
     "metadata": {},
     "output_type": "execute_result"
    }
   ],
   "source": []
  },
  {
   "cell_type": "code",
   "execution_count": 48,
   "metadata": {},
   "outputs": [
    {
     "data": {
      "text/plain": [
       "[<matplotlib.lines.Line2D at 0x11dea3828>]"
      ]
     },
     "execution_count": 48,
     "metadata": {},
     "output_type": "execute_result"
    },
    {
     "data": {
      "image/png": "[encoded data removed]",
      "text/plain": [
       "<Figure size 432x288 with 1 Axes>"
      ]
     },
     "metadata": {
      "needs_background": "light"
     },
     "output_type": "display_data"
    }
   ],
   "source": [
    "plt.plot(ints)"
   ]
  },
  {
   "cell_type": "code",
   "execution_count": 49,
   "metadata": {},
   "outputs": [
    {
     "data": {
      "text/plain": [
       "0            NaN\n",
       "1       1.234022\n",
       "2       1.538584\n",
       "3       1.918313\n",
       "4       2.391761\n",
       "5       2.982058\n",
       "6       3.718043\n",
       "7       4.635673\n",
       "8       5.779777\n",
       "9       7.206252\n",
       "10      8.984786\n",
       "11     11.202271\n",
       "12     13.967040\n",
       "13     17.414167\n",
       "14     21.712059\n",
       "15     27.070690\n",
       "16     33.751855\n",
       "17     42.081961\n",
       "18     52.467973\n",
       "19     65.417299\n",
       "20     81.562575\n",
       "21    101.692575\n",
       "22    126.790748\n",
       "23    158.083260\n",
       "24    197.098901\n",
       "25    245.743773\n",
       "26    306.394412\n",
       "27    382.013894\n",
       "28    476.296596\n",
       "29    593.848682\n",
       "dtype: float64"
      ]
     },
     "execution_count": 49,
     "metadata": {},
     "output_type": "execute_result"
    }
   ],
   "source": [
    "ints*100\n"
   ]
  },
  {
   "cell_type": "code",
   "execution_count": null,
   "metadata": {},
   "outputs": [],
   "source": []
  },
  {
   "cell_type": "code",
   "execution_count": null,
   "metadata": {},
   "outputs": [],
   "source": []
  }
 ],
 "metadata": {
  "jupytext": {
   "text_representation": {
    "extension": ".py",
    "format_name": "percent",
    "format_version": "1.2",
    "jupytext_version": "1.1.3"
   }
  },
  "kernelspec": {
   "display_name": "Python 3",
   "language": "python",
   "name": "python3"
  },
  "language_info": {
   "codemirror_mode": {
    "name": "ipython",
    "version": 3
   },
   "file_extension": ".py",
   "mimetype": "text/x-python",
   "name": "python",
   "nbconvert_exporter": "python",
   "pygments_lexer": "ipython3",
   "version": "3.6.8"
  }
 },
 "nbformat": 4,
 "nbformat_minor": 2
}
