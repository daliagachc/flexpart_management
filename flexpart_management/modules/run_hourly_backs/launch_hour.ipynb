{
 "cells": [
  {
   "cell_type": "code",
   "execution_count": 16,
   "metadata": {},
   "outputs": [],
   "source": [
    "from useful_scit.imps import *\n",
    "import datetime as dt\n",
    "from flexpart_management.modules.run_hourly_backs import funs\n",
    "from flexpart_management.modules.mk_available import mk_Availabe as ma\n",
    "\n",
    "\n"
   ]
  },
  {
   "cell_type": "code",
   "execution_count": 17,
   "metadata": {},
   "outputs": [],
   "source": [
    "d1 = dt.datetime(2017,12,6)\n",
    "d2 = dt.datetime(2017,12,27)\n",
    "\n",
    "# d1 = dt.datetime(2017,12,25,4)\n",
    "# d2 = dt.datetime(2017,12,25,10)"
   ]
  },
  {
   "cell_type": "code",
   "execution_count": 18,
   "metadata": {},
   "outputs": [],
   "source": [
    "date_range = pd.date_range(d1,d2,freq='1H').values\n",
    "source_run_path = '/homeappl/home/aliagadi/wrk/DONOTREMOVE/flexpart_management_data/runs/2019-05-30_01-38-03_'\n",
    "# source_run_path = '/tmp/run_flx/'\n",
    "path_wrf_files = '/proj/atm/saltena/runs/run_2019_05_15/wrf'\n",
    "# path_wrf_files = '/Users/diego/Downloads/wrf_test_d01//'"
   ]
  },
  {
   "cell_type": "code",
   "execution_count": 13,
   "metadata": {},
   "outputs": [
    {
     "data": {
      "text/plain": [
       "'/tmp/run_flx/'"
      ]
     },
     "execution_count": 13,
     "metadata": {},
     "output_type": "execute_result"
    }
   ],
   "source": []
  },
  {
   "cell_type": "code",
   "execution_count": 14,
   "metadata": {},
   "outputs": [],
   "source": [
    "def create_run_from_d1(d1:dt.datetime,\n",
    "                       source_run_path:str,\n",
    "                       path_wrf_files:str,\n",
    "                       ):\n",
    "        # date_start_release = dt.datetime(2017, 12, 25, 3, 15)\n",
    "        date_start_release = d1\n",
    "        release_time_h = 1\n",
    "        hours_back_in_time = 72\n",
    "#         hours_back_in_time = 2\n",
    "        num_particles = 10000\n",
    "        # path_wrf_files = '/Users/diego/Downloads/wrf_test_d01/'  # 'where are the input files'\n",
    "        input_template = './input_template.txt'\n",
    "        run_name = date_start_release.strftime('%Y-%m-%d_%H_%M')\n",
    "        path_simulation = os.path.join(source_run_path,run_name)  # 'where the simulation will be run'\n",
    "        run_flex_name = 'run_flex.sh'\n",
    "        run_temp_path = './run_flex_template.sh'\n",
    "        run_flex_outpath = os.path.join(path_simulation, run_flex_name)\n",
    "        run_dic = dict(\n",
    "                flex_dir='/homeappl/home/aliagadi/appl_taito/FLEXPART-WRF_v3.3.2',\n",
    "                flex_exe='flexwrf33_gnu_omp',\n",
    "                # input_flex = 'run_name',\n",
    "                cpu_num=1,\n",
    "                run_time='04:00:00',\n",
    "                run_type='serial',\n",
    "                run_mem=8000,\n",
    "                run_name='flex' + run_name\n",
    "        )\n",
    "        # %%\n",
    "        funs.create_single_run(\n",
    "                date_start_release,\n",
    "                release_time_h,\n",
    "                hours_back_in_time,\n",
    "                num_particles,\n",
    "                path_wrf_files,\n",
    "                path_simulation,\n",
    "                input_template,\n",
    "                run_temp_path,\n",
    "                run_flex_name,\n",
    "                run_dic\n",
    "        )"
   ]
  },
  {
   "cell_type": "code",
   "execution_count": 15,
   "metadata": {
    "lines_to_next_cell": 2
   },
   "outputs": [
    {
     "name": "stdout",
     "output_type": "stream",
     "text": [
      "wrfout_d01\n",
      "wrfout_d02\n",
      "wrfout_d03\n",
      "wrfout_d04\n",
      "wrfout_d01\n",
      "wrfout_d02\n",
      "wrfout_d03\n",
      "wrfout_d04\n",
      "wrfout_d01\n",
      "wrfout_d02\n",
      "wrfout_d03\n",
      "wrfout_d04\n",
      "wrfout_d01\n",
      "wrfout_d02\n",
      "wrfout_d03\n",
      "wrfout_d04\n",
      "wrfout_d01\n",
      "wrfout_d02\n",
      "wrfout_d03\n",
      "wrfout_d04\n",
      "wrfout_d01\n",
      "wrfout_d02\n",
      "wrfout_d03\n",
      "wrfout_d04\n",
      "wrfout_d01\n",
      "wrfout_d02\n",
      "wrfout_d03\n",
      "wrfout_d04\n"
     ]
    }
   ],
   "source": [
    "for d in date_range:\n",
    "    dd=pd.Timestamp(d).to_pydatetime()  \n",
    "    create_run_from_d1(dd,source_run_path,path_wrf_files)"
   ]
  },
  {
   "cell_type": "code",
   "execution_count": null,
   "metadata": {},
   "outputs": [],
   "source": []
  }
 ],
 "metadata": {
  "jupytext": {
   "text_representation": {
    "extension": ".py",
    "format_name": "percent",
    "format_version": "1.2",
    "jupytext_version": "1.1.3"
   }
  },
  "kernelspec": {
   "display_name": "Python 3",
   "language": "python",
   "name": "python3"
  },
  "language_info": {
   "codemirror_mode": {
    "name": "ipython",
    "version": 3
   },
   "file_extension": ".py",
   "mimetype": "text/x-python",
   "name": "python",
   "nbconvert_exporter": "python",
   "pygments_lexer": "ipython3",
   "version": "3.6.8"
  }
 },
 "nbformat": 4,
 "nbformat_minor": 2
}
