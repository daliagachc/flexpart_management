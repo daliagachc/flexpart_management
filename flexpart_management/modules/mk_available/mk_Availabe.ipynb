{
 "cells": [
  {
   "cell_type": "code",
   "execution_count": 1,
   "metadata": {},
   "outputs": [],
   "source": [
    "import os\n",
    "import pandas as pd\n",
    "import xarray as xr"
   ]
  },
  {
   "cell_type": "markdown",
   "metadata": {},
   "source": [
    "lets create the dataframe for the files. it should include:\n",
    "- name\n",
    "- datetime \n",
    "- path"
   ]
  },
  {
   "cell_type": "markdown",
   "metadata": {},
   "source": [
    "now lets get the dates from one file "
   ]
  },
  {
   "cell_type": "code",
   "execution_count": 2,
   "metadata": {},
   "outputs": [],
   "source": [
    "HEAD = '''XXXXXX EMPTY LINES XXXXXXXXX\n",
    "XXXXXX EMPTY LINES XXXXXXXX\n",
    "YYYYMMDD HHMMSS   name of the file(up to 80 characters)'''"
   ]
  },
  {
   "cell_type": "code",
   "execution_count": 3,
   "metadata": {},
   "outputs": [],
   "source": [
    "def get_times(path):\n",
    "    xds = xr.open_dataset(path)\n",
    "    xds.close()\n",
    "    times = xds.XTIME.to_series()\n",
    "    times = pd.DatetimeIndex(times)\n",
    "    times = times.strftime('%Y%m%d %H%M%S') \n",
    "    times = times.tolist()\n",
    "    return times"
   ]
  },
  {
   "cell_type": "code",
   "execution_count": 4,
   "metadata": {},
   "outputs": [],
   "source": [
    "def row_to_strings(row):\n",
    "    strs = []\n",
    "    for t in row['times']:\n",
    "        st = \"{}      '{}'      ' '\"\n",
    "        lin = st.format(t,row['name'])\n",
    "        strs.append(lin)\n",
    "    return '\\n'.join(strs) \n",
    "   "
   ]
  },
  {
   "cell_type": "code",
   "execution_count": 5,
   "metadata": {},
   "outputs": [],
   "source": [
    "def get_master_string(df):\n",
    "    vals = df['strings'].values\n",
    "    strs = '\\n'.join(vals)\n",
    "    strs = HEAD+'\\n'+strs\n",
    "    return strs\n",
    "\n",
    "def export_file(path,string):\n",
    "    file = open(path,'w')\n",
    "    file.write(string)\n",
    "    file.close()"
   ]
  },
  {
   "cell_type": "code",
   "execution_count": 6,
   "metadata": {},
   "outputs": [],
   "source": [
    "def create_avail_file(path_files, ex_path, prefix):\n",
    "    files = os.listdir(path_files)\n",
    "    df = pd.DataFrame(files,columns=['name'])\n",
    "    _boo = df.name.str.startswith(prefix)\n",
    "    df = df.loc[_boo]\n",
    "    df['dt'] = df.name.str[-19:]\n",
    "    df['dt'] = pd.to_datetime(df.dt,format='%Y-%m-%d_%H:%M:%S')\n",
    "    df['path'] = df.name.apply(lambda n: os.path.join(path_files,n))\n",
    "    df = df.sort_values('dt')\n",
    "    df = df.set_index('dt')\n",
    "\n",
    "    times = df.path.apply(lambda p: get_times(p))\n",
    "    df['times'] = times\n",
    "\n",
    "    strings = df.apply(lambda row: row_to_strings(row),axis=1) \n",
    "    df['strings'] = strings\n",
    "\n",
    "    string = get_master_string(df)\n",
    "    export_file(ex_path,string)\n",
    "    return 0 "
   ]
  },
  {
   "cell_type": "code",
   "execution_count": 9,
   "metadata": {},
   "outputs": [],
   "source": [
    "def is_interactive():\n",
    "    import __main__ as main\n",
    "    return not hasattr(main, '__file__')"
   ]
  },
  {
   "cell_type": "code",
   "execution_count": 10,
   "metadata": {},
   "outputs": [
    {
     "data": {
      "text/plain": [
       "True"
      ]
     },
     "execution_count": 10,
     "metadata": {},
     "output_type": "execute_result"
    }
   ],
   "source": [
    "print('interactive',is_interactive())"
   ]
  },
  {
   "cell_type": "code",
   "execution_count": 11,
   "metadata": {},
   "outputs": [],
   "source": [
    "if __name__ == \"__main__\" and is_interactive() == False:\n",
    "    import sys\n",
    "    print('starting program')\n",
    "    path_files=sys.argv[1]\n",
    "    prefix = sys.argv[2]\n",
    "    ex_path = sys.argv[3]\n",
    "    create_avail_file(path_files, ex_path, prefix)\n",
    "    "
   ]
  }
 ],
 "metadata": {
  "kernelspec": {
   "display_name": "Python 3",
   "language": "python",
   "name": "python3"
  },
  "language_info": {
   "codemirror_mode": {
    "name": "ipython",
    "version": 3
   },
   "file_extension": ".py",
   "mimetype": "text/x-python",
   "name": "python",
   "nbconvert_exporter": "python",
   "pygments_lexer": "ipython3",
   "version": "3.6.8"
  }
 },
 "nbformat": 4,
 "nbformat_minor": 2
}
