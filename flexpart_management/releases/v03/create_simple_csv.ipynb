{
 "cells": [
  {
   "cell_type": "code",
   "execution_count": 6,
   "id": "192fa73d",
   "metadata": {
    "execution": {
     "iopub.execute_input": "2021-05-03T09:09:06.001129Z",
     "iopub.status.busy": "2021-05-03T09:09:06.000764Z",
     "iopub.status.idle": "2021-05-03T09:09:08.864439Z",
     "shell.execute_reply": "2021-05-03T09:09:08.862540Z",
     "shell.execute_reply.started": "2021-05-03T09:09:06.001094Z"
    },
    "tags": []
   },
   "outputs": [],
   "source": [
    "from useful_scit.imps2.defs import *"
   ]
  },
  {
   "cell_type": "code",
   "execution_count": 11,
   "id": "f4e0c2e0",
   "metadata": {
    "execution": {
     "iopub.execute_input": "2021-05-03T09:10:05.420664Z",
     "iopub.status.busy": "2021-05-03T09:10:05.420146Z",
     "iopub.status.idle": "2021-05-03T09:10:05.523578Z",
     "shell.execute_reply": "2021-05-03T09:10:05.522220Z",
     "shell.execute_reply.started": "2021-05-03T09:10:05.420616Z"
    },
    "tags": []
   },
   "outputs": [],
   "source": [
    "p = './data/cluster_series_v3.nc'"
   ]
  },
  {
   "cell_type": "code",
   "execution_count": 21,
   "id": "bb15c60c",
   "metadata": {
    "execution": {
     "iopub.execute_input": "2021-05-03T09:13:22.784661Z",
     "iopub.status.busy": "2021-05-03T09:13:22.784153Z",
     "iopub.status.idle": "2021-05-03T09:13:22.889067Z",
     "shell.execute_reply": "2021-05-03T09:13:22.884000Z",
     "shell.execute_reply.started": "2021-05-03T09:13:22.784608Z"
    },
    "tags": []
   },
   "outputs": [],
   "source": [
    "po = './data/csv'"
   ]
  },
  {
   "cell_type": "code",
   "execution_count": 22,
   "id": "ef8857a7",
   "metadata": {
    "execution": {
     "iopub.execute_input": "2021-05-03T09:13:50.482414Z",
     "iopub.status.busy": "2021-05-03T09:13:50.482034Z",
     "iopub.status.idle": "2021-05-03T09:13:50.599707Z",
     "shell.execute_reply": "2021-05-03T09:13:50.599014Z",
     "shell.execute_reply.started": "2021-05-03T09:13:50.482366Z"
    }
   },
   "outputs": [],
   "source": [
    "os.makedirs(po,exist_ok=True)"
   ]
  },
  {
   "cell_type": "code",
   "execution_count": 12,
   "id": "f877d477",
   "metadata": {
    "execution": {
     "iopub.execute_input": "2021-05-03T09:10:07.239274Z",
     "iopub.status.busy": "2021-05-03T09:10:07.238933Z",
     "iopub.status.idle": "2021-05-03T09:10:07.378805Z",
     "shell.execute_reply": "2021-05-03T09:10:07.377792Z",
     "shell.execute_reply.started": "2021-05-03T09:10:07.239237Z"
    },
    "tags": []
   },
   "outputs": [],
   "source": [
    "ds = xr.open_dataset(p)"
   ]
  },
  {
   "cell_type": "code",
   "execution_count": 17,
   "id": "a5acea41",
   "metadata": {
    "execution": {
     "iopub.execute_input": "2021-05-03T09:12:14.321451Z",
     "iopub.status.busy": "2021-05-03T09:12:14.320747Z",
     "iopub.status.idle": "2021-05-03T09:12:14.419339Z",
     "shell.execute_reply": "2021-05-03T09:12:14.417494Z",
     "shell.execute_reply.started": "2021-05-03T09:12:14.321410Z"
    },
    "tags": []
   },
   "outputs": [],
   "source": [
    "va = list(ds.data_vars)"
   ]
  },
  {
   "cell_type": "code",
   "execution_count": 25,
   "id": "cbce51b1",
   "metadata": {
    "execution": {
     "iopub.execute_input": "2021-05-03T09:15:51.644432Z",
     "iopub.status.busy": "2021-05-03T09:15:51.638965Z",
     "iopub.status.idle": "2021-05-03T09:16:03.506351Z",
     "shell.execute_reply": "2021-05-03T09:16:03.505083Z",
     "shell.execute_reply.started": "2021-05-03T09:15:51.644360Z"
    },
    "tags": []
   },
   "outputs": [],
   "source": [
    "for v in va:\n",
    "    res = ds[v].to_dataframe()\n",
    "    oo = pjoin(po,f'{v}.csv')\n",
    "    res.to_csv(oo)"
   ]
  },
  {
   "cell_type": "code",
   "execution_count": null,
   "id": "f4a7b06b",
   "metadata": {},
   "outputs": [],
   "source": []
  }
 ],
 "metadata": {
  "jupytext": {
   "text_representation": {
    "extension": ".py",
    "format_name": "percent",
    "format_version": "1.3",
    "jupytext_version": "1.11.1"
   }
  },
  "kernelspec": {
   "display_name": "b37",
   "language": "python",
   "name": "b37"
  },
  "language_info": {
   "codemirror_mode": {
    "name": "ipython",
    "version": 3
   },
   "file_extension": ".py",
   "mimetype": "text/x-python",
   "name": "python",
   "nbconvert_exporter": "python",
   "pygments_lexer": "ipython3",
   "version": "3.8.8"
  }
 },
 "nbformat": 4,
 "nbformat_minor": 5
}
