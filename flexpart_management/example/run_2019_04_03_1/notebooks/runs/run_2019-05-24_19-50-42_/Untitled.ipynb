{
 "cells": [
  {
   "cell_type": "code",
   "execution_count": 70,
   "metadata": {},
   "outputs": [],
   "source": [
    "from useful_scit.imps import *"
   ]
  },
  {
   "cell_type": "code",
   "execution_count": 105,
   "metadata": {},
   "outputs": [],
   "source": [
    "path = '/Volumes/mbProD/Downloads/flex_out/run_2019-05-24_17-45-51_/'\n",
    "# path = '/Volumes/mbProD/Downloads/flex_out/run_2019-05-24_19-44-48_/'\n",
    "path = '/Volumes/mbProD/Downloads/flex_out/run_2019-05-24_19-50-42_/'\n"
   ]
  },
  {
   "cell_type": "code",
   "execution_count": null,
   "metadata": {
    "lines_to_next_cell": 2
   },
   "outputs": [],
   "source": []
  },
  {
   "cell_type": "code",
   "execution_count": 106,
   "metadata": {},
   "outputs": [],
   "source": [
    "files = glob.glob(path+'flxout_d02*')\n",
    "files.sort()\n",
    "files = files"
   ]
  },
  {
   "cell_type": "code",
   "execution_count": 107,
   "metadata": {
    "lines_to_next_cell": 2
   },
   "outputs": [
    {
     "data": {
      "text/plain": [
       "['/Volumes/mbProD/Downloads/flex_out/run_2019-05-24_19-50-42_/flxout_d02_20171203_010000.nc',\n",
       " '/Volumes/mbProD/Downloads/flex_out/run_2019-05-24_19-50-42_/flxout_d02_20171203_020000.nc',\n",
       " '/Volumes/mbProD/Downloads/flex_out/run_2019-05-24_19-50-42_/flxout_d02_20171203_030000.nc',\n",
       " '/Volumes/mbProD/Downloads/flex_out/run_2019-05-24_19-50-42_/flxout_d02_20171203_040000.nc',\n",
       " '/Volumes/mbProD/Downloads/flex_out/run_2019-05-24_19-50-42_/flxout_d02_20171203_050000.nc',\n",
       " '/Volumes/mbProD/Downloads/flex_out/run_2019-05-24_19-50-42_/flxout_d02_20171203_060000.nc',\n",
       " '/Volumes/mbProD/Downloads/flex_out/run_2019-05-24_19-50-42_/flxout_d02_20171203_070000.nc',\n",
       " '/Volumes/mbProD/Downloads/flex_out/run_2019-05-24_19-50-42_/flxout_d02_20171203_080000.nc',\n",
       " '/Volumes/mbProD/Downloads/flex_out/run_2019-05-24_19-50-42_/flxout_d02_20171203_090000.nc',\n",
       " '/Volumes/mbProD/Downloads/flex_out/run_2019-05-24_19-50-42_/flxout_d02_20171203_100000.nc',\n",
       " '/Volumes/mbProD/Downloads/flex_out/run_2019-05-24_19-50-42_/flxout_d02_20171203_110000.nc',\n",
       " '/Volumes/mbProD/Downloads/flex_out/run_2019-05-24_19-50-42_/flxout_d02_20171203_120000.nc',\n",
       " '/Volumes/mbProD/Downloads/flex_out/run_2019-05-24_19-50-42_/flxout_d02_20171203_130000.nc',\n",
       " '/Volumes/mbProD/Downloads/flex_out/run_2019-05-24_19-50-42_/flxout_d02_20171203_140000.nc',\n",
       " '/Volumes/mbProD/Downloads/flex_out/run_2019-05-24_19-50-42_/flxout_d02_20171203_150000.nc',\n",
       " '/Volumes/mbProD/Downloads/flex_out/run_2019-05-24_19-50-42_/flxout_d02_20171203_160000.nc',\n",
       " '/Volumes/mbProD/Downloads/flex_out/run_2019-05-24_19-50-42_/flxout_d02_20171203_170000.nc',\n",
       " '/Volumes/mbProD/Downloads/flex_out/run_2019-05-24_19-50-42_/flxout_d02_20171203_180000.nc',\n",
       " '/Volumes/mbProD/Downloads/flex_out/run_2019-05-24_19-50-42_/flxout_d02_20171203_190000.nc',\n",
       " '/Volumes/mbProD/Downloads/flex_out/run_2019-05-24_19-50-42_/flxout_d02_20171203_200000.nc',\n",
       " '/Volumes/mbProD/Downloads/flex_out/run_2019-05-24_19-50-42_/flxout_d02_20171203_210000.nc',\n",
       " '/Volumes/mbProD/Downloads/flex_out/run_2019-05-24_19-50-42_/flxout_d02_20171203_220000.nc',\n",
       " '/Volumes/mbProD/Downloads/flex_out/run_2019-05-24_19-50-42_/flxout_d02_20171203_230000.nc',\n",
       " '/Volumes/mbProD/Downloads/flex_out/run_2019-05-24_19-50-42_/flxout_d02_20171204_000000.nc',\n",
       " '/Volumes/mbProD/Downloads/flex_out/run_2019-05-24_19-50-42_/flxout_d02_20171204_010000.nc',\n",
       " '/Volumes/mbProD/Downloads/flex_out/run_2019-05-24_19-50-42_/flxout_d02_20171204_020000.nc',\n",
       " '/Volumes/mbProD/Downloads/flex_out/run_2019-05-24_19-50-42_/flxout_d02_20171204_030000.nc',\n",
       " '/Volumes/mbProD/Downloads/flex_out/run_2019-05-24_19-50-42_/flxout_d02_20171204_040000.nc',\n",
       " '/Volumes/mbProD/Downloads/flex_out/run_2019-05-24_19-50-42_/flxout_d02_20171204_050000.nc',\n",
       " '/Volumes/mbProD/Downloads/flex_out/run_2019-05-24_19-50-42_/flxout_d02_20171204_060000.nc',\n",
       " '/Volumes/mbProD/Downloads/flex_out/run_2019-05-24_19-50-42_/flxout_d02_20171204_070000.nc']"
      ]
     },
     "execution_count": 107,
     "metadata": {},
     "output_type": "execute_result"
    }
   ],
   "source": [
    "files"
   ]
  },
  {
   "cell_type": "code",
   "execution_count": 108,
   "metadata": {},
   "outputs": [],
   "source": [
    "ds = [xr.open_dataset(f1) for f1 in files]"
   ]
  },
  {
   "cell_type": "code",
   "execution_count": 109,
   "metadata": {},
   "outputs": [],
   "source": [
    "dc = xr.concat(ds,dim='Time')"
   ]
  },
  {
   "cell_type": "code",
   "execution_count": 110,
   "metadata": {},
   "outputs": [
    {
     "data": {
      "text/plain": [
       "<matplotlib.collections.QuadMesh at 0x124cd0c50>"
      ]
     },
     "execution_count": 110,
     "metadata": {},
     "output_type": "execute_result"
    },
    {
     "data": {
      "image/png": "[encoded data removed]",
      "text/plain": [
       "<Figure size 432x288 with 2 Axes>"
      ]
     },
     "metadata": {
      "needs_background": "light"
     },
     "output_type": "display_data"
    }
   ],
   "source": [
    "dc.CONC.sum(dim=['Time','bottom_top']).isel(ageclass=1,south_north=slice(360,480),west_east=slice(200,300)).plot(vmax=0.0000001)"
   ]
  },
  {
   "cell_type": "code",
   "execution_count": 111,
   "metadata": {},
   "outputs": [
    {
     "data": {
      "text/plain": [
       "[<matplotlib.lines.Line2D at 0x1272d14e0>]"
      ]
     },
     "execution_count": 111,
     "metadata": {},
     "output_type": "execute_result"
    },
    {
     "data": {
      "image/png": "[encoded data removed]",
      "text/plain": [
       "<Figure size 432x288 with 1 Axes>"
      ]
     },
     "metadata": {
      "needs_background": "light"
     },
     "output_type": "display_data"
    }
   ],
   "source": [
    "dc.CONC.sum(dim = ['ageclass', 'species', 'bottom_top', 'south_north', 'west_east']).plot()"
   ]
  },
  {
   "cell_type": "code",
   "execution_count": null,
   "metadata": {},
   "outputs": [],
   "source": []
  }
 ],
 "metadata": {
  "jupytext": {
   "text_representation": {
    "extension": ".py",
    "format_name": "percent",
    "format_version": "1.2",
    "jupytext_version": "1.1.3"
   }
  },
  "kernelspec": {
   "display_name": "Python 3",
   "language": "python",
   "name": "python3"
  },
  "language_info": {
   "codemirror_mode": {
    "name": "ipython",
    "version": 3
   },
   "file_extension": ".py",
   "mimetype": "text/x-python",
   "name": "python",
   "nbconvert_exporter": "python",
   "pygments_lexer": "ipython3",
   "version": "3.6.8"
  }
 },
 "nbformat": 4,
 "nbformat_minor": 2
}
